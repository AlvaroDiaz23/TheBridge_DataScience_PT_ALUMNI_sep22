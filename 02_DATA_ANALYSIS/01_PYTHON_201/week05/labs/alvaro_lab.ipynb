{
 "cells": [
  {
   "cell_type": "markdown",
   "metadata": {},
   "source": [
    "# Lab 1\n",
    "\n",
    "Definid una función que reciba como parámetros dos valores (x e y) que serán dos vectores de enteros, y devuelva la distancia euclídea entre los puntos representados por los vectores. Es necesario que el cuerpo de la función contenga una única expresión, que calcule y devuelva el resultado. Los vectores pueden tener un tamaño arbitrario, pero ambos vectores tendrán el mismo número de elementos. Solo se pueden utilizar funciones de la librería estándar de Python.\n",
    "\n",
    "\n",
    "```\n",
    "import math\n",
    "import numpy as np\n",
    "\n",
    "def eucl_dist(x, y):\n",
    "    pass"
   ]
  },
  {
   "cell_type": "code",
   "execution_count": 35,
   "metadata": {},
   "outputs": [],
   "source": [
    "# Hacer con una list comprehension o forma clasica\n",
    "import math\n",
    "import numpy as np\n",
    "\n",
    "def eucl_dist(x, y):\n",
    "    x = np.array(x)\n",
    "    y = np.array(y)\n",
    "\n",
    "    dist = np.linalg.norm(x-y)\n",
    "    \n",
    "    print(dist)"
   ]
  },
  {
   "cell_type": "code",
   "execution_count": 37,
   "metadata": {},
   "outputs": [
    {
     "name": "stdout",
     "output_type": "stream",
     "text": [
      "4.0\n"
     ]
    }
   ],
   "source": [
    "eucl_dist(2,6)"
   ]
  },
  {
   "cell_type": "markdown",
   "metadata": {},
   "source": [
    "# Lab 02\n",
    "\n",
    "Definid una función que reciba como parámetros dos valores (x e y) que serán dos vectores de enteros, y devuelva la distancia de Manhattan entre los puntos representados por los vectores. Es necesario que el cuerpo de la función contenga una única expresión, que calcule y devuelva el resultado. Los vectores pueden tener un tamaño arbitrario, pero ambos vectores tendrán el mismo número de elementos. Solo se pueden utilizar funciones de la librería estándar de Python.\n",
    "\n",
    "```\n",
    "def manh_dist(x,y):\n",
    "    # TODO\n",
    "    pass\n",
    "\n",
    "\n",
    "```"
   ]
  },
  {
   "cell_type": "code",
   "execution_count": 42,
   "metadata": {},
   "outputs": [
    {
     "data": {
      "text/plain": [
       "array([0, 0, 5])"
      ]
     },
     "execution_count": 42,
     "metadata": {},
     "output_type": "execute_result"
    }
   ],
   "source": [
    "def manh_dist(x,y):\n",
    "    ''' \n",
    "    Vamos a definir la funcion:\n",
    "    \n",
    "    Parametros a utilizar van a ser las coordenadas:\n",
    "    x \n",
    "    y\n",
    "    \n",
    "    unicamente de la libreria de python\n",
    "    '''\n",
    "    x = np.array((1,2,3))\n",
    "    y = np.array((1,2,8))\n",
    "    if len(x) == len(y):\n",
    "        for i in x:\n",
    "            return abs(x-y)\n",
    "manh_dist(2,2)\n",
    "\n"
   ]
  },
  {
   "cell_type": "markdown",
   "metadata": {},
   "source": [
    "### Solucion Lab 1"
   ]
  },
  {
   "cell_type": "code",
   "execution_count": 72,
   "metadata": {},
   "outputs": [],
   "source": [
    "import math\n",
    "import numpy as np\n",
    "\n",
    "def eucl_dist(x,y):\n",
    "    n = len (x,y)\n",
    "    return sum([(abs(y[i])- abs(x[i]))**2 for i in range(n)]) **(1/2)\n",
    "\n",
    "\n",
    "vec1=np.array([5,6,7,-3])\n",
    "vec2=np.array([10,1,8,-6])\n"
   ]
  },
  {
   "cell_type": "markdown",
   "metadata": {},
   "source": [
    "### Solucion Lab 2"
   ]
  },
  {
   "cell_type": "code",
   "execution_count": 74,
   "metadata": {},
   "outputs": [],
   "source": [
    "def manh_dist(x,y):\n",
    "    return sum([abs(coord[0] - coord[1]) for coord in zip(x,y)])"
   ]
  },
  {
   "cell_type": "markdown",
   "metadata": {},
   "source": [
    "# Lab 03\n",
    "\n",
    "Definid una función compute_all_distances que reciba como parámetros dos valores (x e y) que serán dos vectores de enteros, y devuelva una tupla de dos elementos, con las distancias euclidiana y de Manhattan entre los puntos representados por los vectores. Los vectores pueden tener un tamaño arbitrario, pero ambos vectores tendrán el mismo número de elementos. Solo se pueden utilizar funciones de la librería estándar de Python.\n",
    "\n",
    "Para ello, encapsulad el código de las funciones de las actividades anteriores dentro de la función compute_all_distances.\n",
    "\n",
    "```\n",
    "def compute_all_distances(x, y): \n",
    "    # TODO\n",
    "    pass\n",
    "\n",
    "\n",
    "\n",
    "```"
   ]
  },
  {
   "cell_type": "code",
   "execution_count": 75,
   "metadata": {},
   "outputs": [],
   "source": [
    "def compute_all_distances(x,y):\n",
    "    \n",
    "    def manh_dist(x, y):\n",
    "        # Puedo definir mis variables \n",
    "        x = np.array((1,2,3))\n",
    "        y = np.array((1,2,8))\n",
    "        if len(x) == len(y):\n",
    "            for i in x:\n",
    "                return abs(x-y)\n",
    "\n",
    "    def eucl_dist(x, y):\n",
    "        import math\n",
    "        import numpy as np\n",
    "        x = np.array(x)\n",
    "        y = np.array(y)\n",
    "\n",
    "        dist = np.linalg.norm(x-y)\n",
    "    \n",
    "        print(dist)\n",
    "\n",
    "    print(\"Outer function valor y {}\".format(y))\n",
    "\n",
    "\n",
    "    print(\"Outer function valor x {}\".format(x))\n",
    "    manh_dist(2,5)\n",
    "    print(\"Outer function valor x {}\".format(x))\n",
    "    eucl_dist(x, y)\n",
    "\n",
    "    return (eucl_dist(x,y), manh_dist(x,y))"
   ]
  },
  {
   "cell_type": "code",
   "execution_count": 76,
   "metadata": {},
   "outputs": [
    {
     "name": "stdout",
     "output_type": "stream",
     "text": [
      "Outer function valor y (1, 2, 1)\n",
      "Outer function valor x (8, 3, 4)\n",
      "Outer function valor x (8, 3, 4)\n",
      "7.681145747868608\n",
      "7.681145747868608\n"
     ]
    },
    {
     "data": {
      "text/plain": [
       "(None, array([0, 0, 5]))"
      ]
     },
     "execution_count": 76,
     "metadata": {},
     "output_type": "execute_result"
    }
   ],
   "source": [
    "compute_all_distances((8,3,4), (1,2,1))"
   ]
  },
  {
   "cell_type": "markdown",
   "metadata": {},
   "source": [
    "# Lab 04\n",
    "\n",
    "En la frutería del barrio tienen un problema que requiere de nuestra ayuda. Reiteradamente, se les rompen las estanterías donde ponen las naranjas, y quieren evitar que esto vuelva a pasar. Han calculado que los estantes de madera soportan sin problemas un peso de 50 kilos, y los de plástico 30 kilos, pero siempre dudan de si pueden añadir algún piso de naranjas más (ya que esto siempre luce más delante de los clientes).\n",
    "\n",
    "Las naranjas se encuentran apiladas en una pirámide de base cuadrada. Así pues, en lo alto hay una sola naranja, en el segundo piso hay 4, en el tercer piso hay 9, etc. Los pisos siempre están completos.Definid una función que reciba como parámetros el número de pisos de naranjas que quieren hacer, el peso medio de cada naranja, y el tipo de material del estante, y devuelva un booleano indicando si el estante aguantará el peso o no.\n",
    "\n",
    "La función siempre recibirá el número de pisos de naranjas, pero los parámetros de peso medio y material son opcionales, y tomarán un valor por defecto de 0.2 y madera (\"Wood\"), respectivamente.\n",
    "\n",
    "\n",
    "```\n",
    "materiales = {}\n",
    "\n",
    "def capacidad_estanteria():\n",
    "    # TODO\n",
    "    pass\n",
    "\n",
    "\n",
    "```"
   ]
  },
  {
   "cell_type": "code",
   "execution_count": null,
   "metadata": {},
   "outputs": [],
   "source": []
  },
  {
   "cell_type": "markdown",
   "metadata": {},
   "source": [
    "# Lab 05\n",
    "\n",
    "Ejercicio 5\n",
    "Al final de la Edad Media, en Francia, el diplomático francés Blaise de Vigenère desarrolló un algoritmo para cifrar mensajes que nadie fue capaz de romper durante aproximadamente 250 años. Este algoritmo se conoce con el nombre de cifrado de Vigenère.El cifrado de Vigenère consiste en añadir a cada una de las letras de un texto un desplazamiento a partir de una clave secreta para conseguir una nueva letra diferente del original. Veamos un ejemplo:Si asignamos el número 1 en la primera letra del abecedario, A, 2 a la siguiente, B, etc., imaginad que tenemos el siguiente mensaje:\n",
    "\n",
    "ABC 123 y la siguiente clave secreta:\n",
    "\n",
    "DEF 456 A cada letra del mensaje original le aplicamos un desplazamiento en función de la misma posición dentro de la clave secreta. Por lo tanto, el mensaje cifrado quedaría de la siguiente forma:\n",
    "\n",
    "E G I (1 + 4) (2 + 5) (3 + 6) Escribid una función que, dado un mensaje y una clave secreta, calcule y devuelva el mensaje cifrado.Consideraciones: Utilizad como alfabeto de entrada el alfabeto inglés en mayúsculas.El valor predeterminado de la clave secreta será DATASCI.\n",
    "\n",
    "```\n",
    "# TODO\n",
    "\n",
    "```"
   ]
  }
 ],
 "metadata": {
  "kernelspec": {
   "display_name": "Python 3.10.6 ('thebridge_enviroment')",
   "language": "python",
   "name": "python3"
  },
  "language_info": {
   "codemirror_mode": {
    "name": "ipython",
    "version": 3
   },
   "file_extension": ".py",
   "mimetype": "text/x-python",
   "name": "python",
   "nbconvert_exporter": "python",
   "pygments_lexer": "ipython3",
   "version": "3.10.6"
  },
  "orig_nbformat": 4,
  "vscode": {
   "interpreter": {
    "hash": "7d3e4eb6c4020fc3182485a5b9588accf4086547f60579d23983d2a06b0708b2"
   }
  }
 },
 "nbformat": 4,
 "nbformat_minor": 2
}
