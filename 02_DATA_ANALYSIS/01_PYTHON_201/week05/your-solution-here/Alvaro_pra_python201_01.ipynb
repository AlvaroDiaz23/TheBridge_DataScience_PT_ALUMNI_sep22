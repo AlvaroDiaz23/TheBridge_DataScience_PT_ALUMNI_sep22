{
 "cells": [
  {
   "cell_type": "markdown",
   "metadata": {},
   "source": [
    "### Pregunta 1\n",
    "\n",
    "¿Cuál es el valor final de a, b y c? (atención a los tipos de número decimal y entero)\n",
    "\n",
    "a = 5 * 11\n",
    "\n",
    "b = a / 2.\n",
    "\n",
    "c, a = b * 2, b + 1"
   ]
  },
  {
   "cell_type": "code",
   "execution_count": 3,
   "metadata": {},
   "outputs": [
    {
     "name": "stdout",
     "output_type": "stream",
     "text": [
      "55\n",
      "27.5\n"
     ]
    }
   ],
   "source": [
    "# Calculamos A y B\n",
    "\n",
    "a = 5*11\n",
    "b = a/2\n",
    "print (a)\n",
    "print(b)"
   ]
  },
  {
   "cell_type": "code",
   "execution_count": 14,
   "metadata": {},
   "outputs": [
    {
     "name": "stdout",
     "output_type": "stream",
     "text": [
      "55.0\n",
      "28.5\n"
     ]
    }
   ],
   "source": [
    "# Calculamos C\n",
    "c, a= b*2, b+1\n",
    "print(c)\n",
    "print(a)"
   ]
  },
  {
   "cell_type": "markdown",
   "metadata": {},
   "source": [
    "### Pregunta 2\n",
    "\n",
    "Identifica tres tipos de datos de Python y explica brevemente en qué se diferencian. Explica la diferencia entre el tipo lista y el tipo tupla."
   ]
  },
  {
   "cell_type": "markdown",
   "metadata": {},
   "source": [
    "## Diferencia entre Lista y Tupla\n",
    "La principal diferencia entre las listas y las tuplas es que las listas son modificables y tardan mas en ejecutarse, mientras que por otro lado las tuplas son más rapidas al ejecutarse y no se pueden modificar directamente."
   ]
  },
  {
   "cell_type": "markdown",
   "metadata": {},
   "source": [
    "### Lista\n",
    "Se utilizan los [] para crear las listas. Dentro de ellas podemos incluir diferentes tipos de datos como por ejemplo: tuplas, arrays, booleans, float..."
   ]
  },
  {
   "cell_type": "code",
   "execution_count": 17,
   "metadata": {},
   "outputs": [],
   "source": [
    "# Lista\n",
    "lista=[\"pantalon\",\"camiseta\",\"zapatillas\"]"
   ]
  },
  {
   "cell_type": "markdown",
   "metadata": {},
   "source": [
    "### Tupla\n",
    "Se utilizan los () para crear las tuplas. Estas estas son similares a las listas porque pueden incluir diferentes datos."
   ]
  },
  {
   "cell_type": "code",
   "execution_count": 20,
   "metadata": {},
   "outputs": [],
   "source": [
    "# Tupla\n",
    "tupla = (\"nike\", \"adidas\")"
   ]
  },
  {
   "cell_type": "markdown",
   "metadata": {},
   "source": [
    "### Boolean\n",
    "Son datos de python que pueden tener dos valores, True or False, se utilizan para hacer verificaciones."
   ]
  },
  {
   "cell_type": "code",
   "execution_count": 23,
   "metadata": {},
   "outputs": [
    {
     "name": "stdout",
     "output_type": "stream",
     "text": [
      "True\n",
      "False\n"
     ]
    }
   ],
   "source": [
    "# Boolean\n",
    "futbol = True\n",
    "baloncesto = False\n",
    "print (futbol)\n",
    "print (baloncesto)"
   ]
  },
  {
   "cell_type": "markdown",
   "metadata": {},
   "source": [
    "### Pregunta 3\n",
    "\n",
    "¿Cuál es el resultado de la operación lógica ` 'manzana'> 'casa'`? Explica por qué. \n",
    "\n",
    "**Nota**: Consultad en estándar [Unicode](https://es.wikipedia.org/wiki/Unicode) para la codificación de caracteres."
   ]
  },
  {
   "cell_type": "markdown",
   "metadata": {},
   "source": [
    "### Respuesta\n",
    "Al ejecutar 'manzana' > 'casa' nos devuelve True, porque lo que esta valorando es el orden lexicográfico, es decir la \"m\" es mayor que la \"c\" porque ocupa un número mayor en el orden alfabético, si en otro caso, comparamos 'arbol'>'casa' nos devolveria False."
   ]
  },
  {
   "cell_type": "code",
   "execution_count": 39,
   "metadata": {},
   "outputs": [
    {
     "data": {
      "text/plain": [
       "True"
      ]
     },
     "execution_count": 39,
     "metadata": {},
     "output_type": "execute_result"
    }
   ],
   "source": [
    "'manzana'>'casa'"
   ]
  },
  {
   "cell_type": "code",
   "execution_count": 40,
   "metadata": {},
   "outputs": [
    {
     "data": {
      "text/plain": [
       "False"
      ]
     },
     "execution_count": 40,
     "metadata": {},
     "output_type": "execute_result"
    }
   ],
   "source": [
    "'arbol'>'casa'"
   ]
  },
  {
   "cell_type": "markdown",
   "metadata": {},
   "source": [
    "### Ejercicio 1\n",
    "\n",
    "Escribir un programa que seleccione la cadena \"analista\" a partir de la cadena: \"Ana es buena analista de datos.\". Mostrar el resultado por pantalla."
   ]
  },
  {
   "cell_type": "code",
   "execution_count": 41,
   "metadata": {},
   "outputs": [
    {
     "name": "stdout",
     "output_type": "stream",
     "text": [
      "Ana es buena analista de datos\n"
     ]
    }
   ],
   "source": [
    "# Respuesta\n",
    "cadena = \"Ana es buena analista de datos\"\n",
    "print(cadena)"
   ]
  },
  {
   "cell_type": "markdown",
   "metadata": {},
   "source": [
    "### Ejercicio 2\n",
    "\n",
    "Qué expresión en Python necesitamos para conseguir el _string_\n",
    "\"nohtyPythonython\" utilizando sólo la palabra \"Python\"? "
   ]
  },
  {
   "cell_type": "code",
   "execution_count": 45,
   "metadata": {},
   "outputs": [
    {
     "name": "stdout",
     "output_type": "stream",
     "text": [
      "nohtyPythonthon\n"
     ]
    },
    {
     "data": {
      "text/plain": [
       "str"
      ]
     },
     "execution_count": 45,
     "metadata": {},
     "output_type": "execute_result"
    }
   ],
   "source": [
    "# Para conseguir el string \"nohtyPythonthon\", llamamos mediante la cadena/string \"python\", para comprobar el tipo hacemos un type(python)\n",
    "python = \"nohtyPythonthon\"\n",
    "print (python)\n",
    "type(python)"
   ]
  },
  {
   "cell_type": "markdown",
   "metadata": {},
   "source": [
    "### Ejercicio 3\n",
    "\n",
    "Escribe un programa que asigne dos valores enteros cualquiera (elije un número entero aleatorio) a dos variables con nombre `a` y `b`. Utiliza las variables definidas anteriormente para evaluar la siguiente expresión matemática:\n",
    "\n",
    "( a<sup>2</sup> + b<sup>2</sup> )<sup>2</sup>\n"
   ]
  },
  {
   "cell_type": "code",
   "execution_count": 46,
   "metadata": {},
   "outputs": [
    {
     "name": "stdout",
     "output_type": "stream",
     "text": [
      "64\n"
     ]
    }
   ],
   "source": [
    "# Respuesta\n",
    "def expresion_math (a,b):\n",
    "    x=(a**2+b**2)**2\n",
    "    print (x)\n",
    "\n",
    "expresion_math(2,2)"
   ]
  },
  {
   "cell_type": "markdown",
   "metadata": {},
   "source": [
    "### Ejercicio 4\n",
    "\n",
    "Escribir un programa que calcule el volumen de una pirámide cuadrangular con una base de 4x5 metros de longitud y anchura respectivamente, y con una altura de 7,5 m. Recuerda que la fórmula para calcular el volumen es <img src=\"https://wikimedia.org/api/rest_v1/media/math/render/svg/5bbc1ec5d10639d395ebc85e74cbf697d2220035\" title=\"EquacioVolumPiramide\" />\n",
    "\n",
    "donde _l_ y _w_ son la longitud y la anchura de la base, y _h_ es la altura."
   ]
  },
  {
   "cell_type": "code",
   "execution_count": 116,
   "metadata": {},
   "outputs": [
    {
     "name": "stdout",
     "output_type": "stream",
     "text": [
      "49.99999999999999\n"
     ]
    }
   ],
   "source": [
    "# Creamos una funcion para calcular el volumen\n",
    "def triangulo (l,w,h):\n",
    "    ''' Creamos la formula del Volumen, y dejamos los valores de cada parametro sin definir, para llamarlos desde fuera'''\n",
    "    v=1/3*l*w*h\n",
    "    print(v)\n",
    "\n",
    "triangulo(4,5,7.5)"
   ]
  },
  {
   "cell_type": "markdown",
   "metadata": {},
   "source": [
    "### Ejercicio 5\n",
    "\n",
    "Escribe un programa que defina una lista con el nombre de todos los meses del año. Haz que muestre los meses que corresponden a otoño."
   ]
  },
  {
   "cell_type": "code",
   "execution_count": 120,
   "metadata": {},
   "outputs": [
    {
     "data": {
      "text/plain": [
       "['septiembre', 'octubre', 'noviembre']"
      ]
     },
     "execution_count": 120,
     "metadata": {},
     "output_type": "execute_result"
    }
   ],
   "source": [
    "# Respuesta\n",
    "meses= ['enero','febrero','marzo','abril','mayo','junio','julio','agosto','septiembre','octubre','noviembre','diciembre']\n",
    "otoño= meses[8:11]\n",
    "otoño"
   ]
  },
  {
   "cell_type": "markdown",
   "metadata": {},
   "source": [
    "### Ejercicio 6\n",
    "\n",
    "Escribe un programa que a partir de la lista de números dada muestre por pantalla una cadena de caracteres con todos los números, separados entre sí por un guión, y duplicando el primero y el último elemento de la lista.\n",
    "\n",
    "Así, por ejemplo, para la lista ['1', '2', '3'] , el programa debería mostrar la cadena: '1-1-2-3-3'.\n"
   ]
  },
  {
   "cell_type": "code",
   "execution_count": 134,
   "metadata": {},
   "outputs": [
    {
     "name": "stdout",
     "output_type": "stream",
     "text": [
      "1 - 1\n",
      "- 2 -\n",
      "3 - 3\n"
     ]
    }
   ],
   "source": [
    "# Creamos una lista con las variables\n",
    "lista= [1,2,3]\n",
    "# Ahora creamos la funcion:\n",
    "def primero_y_ultimo (lista):\n",
    "    for i in lista:\n",
    "        if i ==1:\n",
    "            print (lista[0],\"-\",lista[0])\n",
    "        elif i ==2:\n",
    "            print(\"-\",lista[1],\"-\")\n",
    "        elif i == 3:\n",
    "            print(lista[2],\"-\",lista[2])\n",
    "\n",
    "primero_y_ultimo(lista)"
   ]
  },
  {
   "cell_type": "markdown",
   "metadata": {},
   "source": [
    "### Ejercicio 7\n",
    "\n",
    "Ordena la siguiente lista de cadenas de caracteres:\n",
    "\n",
    "1. Invirtiendo el orden original\n",
    "2. En orden alfabético inverso\n",
    "\n",
    "**Nota**: Puedes consultar la documentación oficial de la función [`sorted ()`](https://docs.python.org/3/library/functions.html#sorted) para ver qué parámetros puedes utilizar para resolver la segunda parte de la actividad.\n"
   ]
  },
  {
   "cell_type": "code",
   "execution_count": 135,
   "metadata": {},
   "outputs": [],
   "source": [
    "st_chars = [\"Benjamin Sisko\", \"Kira Nerys\", \"Odo\", \"Quark\", \"Jadzia Dax\"]"
   ]
  },
  {
   "cell_type": "code",
   "execution_count": 139,
   "metadata": {},
   "outputs": [
    {
     "data": {
      "text/plain": [
       "['Jadzia Dax', 'Quark', 'Odo', 'Kira Nerys', 'Benjamin Sisko']"
      ]
     },
     "execution_count": 139,
     "metadata": {},
     "output_type": "execute_result"
    }
   ],
   "source": [
    "# Para invertir el orden de la lista:\n",
    "st_chars[::-1]"
   ]
  },
  {
   "cell_type": "code",
   "execution_count": 151,
   "metadata": {},
   "outputs": [
    {
     "data": {
      "text/plain": [
       "['Benjamin Sisko', 'Jadzia Dax', 'Kira Nerys', 'Odo', 'Quark']"
      ]
     },
     "execution_count": 151,
     "metadata": {},
     "output_type": "execute_result"
    }
   ],
   "source": [
    "# Para ordenar alfabeticamente:\n",
    "st_chars.sort()\n",
    "st_chars"
   ]
  },
  {
   "cell_type": "markdown",
   "metadata": {},
   "source": [
    "### Ejercicio 8\n",
    "\n",
    "A partir de la siguiente lista,\n",
    "\n",
    "```A_list = [42, 7.5, \"Answer to the Ultimate Question\", \"Dave\", 7.5]```\n",
    "\n",
    "proporciona expresiones que retornen:\n",
    "\n",
    "1. El número de veces que aparece el elemento `7.5` en la lista.\n",
    "2. La posición de la primera aparición del valor `7.5`.\n",
    "3. La misma lista sin el último elemento.\n",
    "\n",
    "**Nota**: En el notebook de teoría hemos visto que son las listas y algunas operaciones sobre ellas. Para hacer la actividad, necesitaréis investigar algunas operaciones adicionales que podemos realizar sobre listas. Para ello podéis consultar la documentación oficial de Python sobre listas ([intro](https://docs.python.org/3/tutorial/introduction.html#lists) y [más sobre listas](https://docs.python.org/3/tutorial/datastructures.html#more-on-lists))."
   ]
  },
  {
   "cell_type": "code",
   "execution_count": 152,
   "metadata": {},
   "outputs": [],
   "source": [
    "# Creamos la Lista\n",
    "A_list = [42, 7.5, \"Answer to the Ultimate Question\", \"Dave\", 7.5]"
   ]
  },
  {
   "cell_type": "markdown",
   "metadata": {},
   "source": [
    "### Apartado A"
   ]
  },
  {
   "cell_type": "code",
   "execution_count": 153,
   "metadata": {},
   "outputs": [
    {
     "data": {
      "text/plain": [
       "2"
      ]
     },
     "execution_count": 153,
     "metadata": {},
     "output_type": "execute_result"
    }
   ],
   "source": [
    "# Contamos el numero de veces que sale 7.5\n",
    "A_list.count(7.5)"
   ]
  },
  {
   "cell_type": "markdown",
   "metadata": {},
   "source": [
    "## Apartado B\n"
   ]
  },
  {
   "cell_type": "code",
   "execution_count": 155,
   "metadata": {},
   "outputs": [
    {
     "data": {
      "text/plain": [
       "1"
      ]
     },
     "execution_count": 155,
     "metadata": {},
     "output_type": "execute_result"
    }
   ],
   "source": [
    "# En que posición aparece por primera vez 7.5\n",
    "A_list.index(7.5)"
   ]
  },
  {
   "cell_type": "markdown",
   "metadata": {},
   "source": [
    "## Apartado C"
   ]
  },
  {
   "cell_type": "code",
   "execution_count": 159,
   "metadata": {},
   "outputs": [
    {
     "data": {
      "text/plain": [
       "[42, 7.5, 'Answer to the Ultimate Question', 'Dave']"
      ]
     },
     "execution_count": 159,
     "metadata": {},
     "output_type": "execute_result"
    }
   ],
   "source": [
    "A_list.pop()\n",
    "A_list"
   ]
  },
  {
   "cell_type": "markdown",
   "metadata": {},
   "source": [
    "### Ejercicio 9\n",
    "\n",
    "¿Qué expresión en Python necesitamos para conseguir la _string_ `Learning Python` utilizando sólo las variables` str1` y `str2` definidas?"
   ]
  },
  {
   "cell_type": "code",
   "execution_count": 59,
   "metadata": {},
   "outputs": [
    {
     "name": "stdout",
     "output_type": "stream",
     "text": [
      "Learning Python\n"
     ]
    }
   ],
   "source": [
    "# Una opcion es con un print llamar a los dos string\n",
    "str1 = 'Learning'\n",
    "str2 = 'Python'\n",
    "print (str1, str2)"
   ]
  },
  {
   "cell_type": "markdown",
   "metadata": {},
   "source": [
    "### Ejercicio 10\n",
    "\n",
    "El codigo que se presenta a continuación no funciona: \n",
    "\n",
    "Corrige el error y explica por qué sucede."
   ]
  },
  {
   "cell_type": "markdown",
   "metadata": {},
   "source": [
    "## Respuesta\n",
    "El problema esta en que %d no puede llamar un formato string, por lo que hay que sustituirlo por %s"
   ]
  },
  {
   "cell_type": "code",
   "execution_count": 54,
   "metadata": {},
   "outputs": [
    {
     "name": "stdout",
     "output_type": "stream",
     "text": [
      "Hello, my name is Alex and I'm 20 years old!\n"
     ]
    }
   ],
   "source": [
    "name = \"Alex\"\n",
    "\n",
    "age = 20\n",
    "\n",
    "print(\"Hello, my name is %s and I'm %d years old!\" % (name, age)) "
   ]
  },
  {
   "cell_type": "markdown",
   "metadata": {},
   "source": [
    "### Ejercicio 11\n",
    "\n",
    "En este ejercicio utilizaremos la frase: La paciencia es la madre de la ciencia.\n",
    "\n",
    "a) Extrae las palabras paciencia y ciencia de la cadena de strings definida anteriormente.\n",
    "\n",
    "b) Crea la palabra ciencia a partir de paciencia, y la palabra paciencia a partir de ciencia.\n",
    "\n",
    "c) Separa la frase en las diferentes palabras que la forman (e.g. \"La\", \"paciencia,\" es \", etc). ¿Cuál es el separador que debemos usar?\n",
    "\n",
    "d) Vuelve a unir los elementos de la frase mediante \"-\" (e.g. \"La-paciencia-es ...\").\n"
   ]
  },
  {
   "cell_type": "code",
   "execution_count": 89,
   "metadata": {},
   "outputs": [],
   "source": [
    "# Creamos una cadena con la frase indicada\n",
    "frase = \"La paciencia es la madre de la ciencia\""
   ]
  },
  {
   "cell_type": "markdown",
   "metadata": {},
   "source": [
    "### Apartado A"
   ]
  },
  {
   "cell_type": "code",
   "execution_count": 108,
   "metadata": {},
   "outputs": [
    {
     "name": "stdout",
     "output_type": "stream",
     "text": [
      "paciencia ciencia\n"
     ]
    }
   ],
   "source": [
    "print (frase[3:12],frase[31:38])"
   ]
  },
  {
   "cell_type": "markdown",
   "metadata": {},
   "source": [
    "### Apartado B"
   ]
  },
  {
   "cell_type": "code",
   "execution_count": 165,
   "metadata": {},
   "outputs": [
    {
     "name": "stdout",
     "output_type": "stream",
     "text": [
      "ciencia Pa ciencia\n"
     ]
    }
   ],
   "source": [
    "print (frase[5:12],\"Pa\",frase[31:38])"
   ]
  },
  {
   "cell_type": "markdown",
   "metadata": {},
   "source": [
    "### Apartado C"
   ]
  },
  {
   "cell_type": "code",
   "execution_count": 109,
   "metadata": {},
   "outputs": [
    {
     "data": {
      "text/plain": [
       "['La', 'paciencia', 'es', 'la', 'madre', 'de', 'la', 'ciencia']"
      ]
     },
     "execution_count": 109,
     "metadata": {},
     "output_type": "execute_result"
    }
   ],
   "source": [
    "frase.split(\" \")"
   ]
  },
  {
   "cell_type": "markdown",
   "metadata": {},
   "source": [
    "### Apartado D"
   ]
  },
  {
   "cell_type": "code",
   "execution_count": 115,
   "metadata": {},
   "outputs": [
    {
     "data": {
      "text/plain": [
       "'La-paciencia-es-la-madre-de-la-ciencia'"
      ]
     },
     "execution_count": 115,
     "metadata": {},
     "output_type": "execute_result"
    }
   ],
   "source": [
    "frase.replace(\" \",\"-\")"
   ]
  }
 ],
 "metadata": {
  "kernelspec": {
   "display_name": "Python 3.10.6 ('thebridge_enviroment')",
   "language": "python",
   "name": "python3"
  },
  "language_info": {
   "codemirror_mode": {
    "name": "ipython",
    "version": 3
   },
   "file_extension": ".py",
   "mimetype": "text/x-python",
   "name": "python",
   "nbconvert_exporter": "python",
   "pygments_lexer": "ipython3",
   "version": "3.10.6"
  },
  "orig_nbformat": 4,
  "vscode": {
   "interpreter": {
    "hash": "7d3e4eb6c4020fc3182485a5b9588accf4086547f60579d23983d2a06b0708b2"
   }
  }
 },
 "nbformat": 4,
 "nbformat_minor": 2
}
