{
 "cells": [
  {
   "cell_type": "code",
   "execution_count": 2,
   "metadata": {},
   "outputs": [
    {
     "name": "stdout",
     "output_type": "stream",
     "text": [
      "Collecting pandas\n",
      "  Downloading pandas-1.5.1-cp310-cp310-win_amd64.whl (10.4 MB)\n",
      "     ---------------------------------------- 10.4/10.4 MB 4.1 MB/s eta 0:00:00\n",
      "Requirement already satisfied: python-dateutil>=2.8.1 in c:\\users\\alvaro díaz\\.conda\\envs\\thebridge_enviroment\\lib\\site-packages (from pandas) (2.8.2)\n",
      "Collecting pytz>=2020.1\n",
      "  Using cached pytz-2022.5-py2.py3-none-any.whl (500 kB)\n",
      "Requirement already satisfied: numpy>=1.21.0 in c:\\users\\alvaro díaz\\.conda\\envs\\thebridge_enviroment\\lib\\site-packages (from pandas) (1.23.3)\n",
      "Requirement already satisfied: six>=1.5 in c:\\users\\alvaro díaz\\.conda\\envs\\thebridge_enviroment\\lib\\site-packages (from python-dateutil>=2.8.1->pandas) (1.16.0)\n",
      "Installing collected packages: pytz, pandas\n",
      "Successfully installed pandas-1.5.1 pytz-2022.5\n",
      "Note: you may need to restart the kernel to use updated packages.\n"
     ]
    }
   ],
   "source": [
    "\n",
    "pip install pandas\n"
   ]
  },
  {
   "cell_type": "code",
   "execution_count": 3,
   "metadata": {},
   "outputs": [],
   "source": [
    "import pandas as pd"
   ]
  },
  {
   "cell_type": "code",
   "execution_count": 6,
   "metadata": {},
   "outputs": [],
   "source": [
    "import math as mt"
   ]
  },
  {
   "cell_type": "code",
   "execution_count": 19,
   "metadata": {},
   "outputs": [],
   "source": [
    "datos= ((diciembre, 15400),(enero, 17300),(febrero, 25600),(marzo, 30200),(abril, 27000),(mayo, 264000),(junio, 24800))"
   ]
  },
  {
   "cell_type": "code",
   "execution_count": 20,
   "metadata": {},
   "outputs": [
    {
     "data": {
      "text/plain": [
       "-0.10982658959537572"
      ]
     },
     "execution_count": 20,
     "metadata": {},
     "output_type": "execute_result"
    }
   ],
   "source": [
    "def tasa_variacion (x, y):\n",
    "    return y/x -1\n",
    "\n",
    "tasa_variacion(enero, diciembre)"
   ]
  },
  {
   "cell_type": "code",
   "execution_count": 30,
   "metadata": {},
   "outputs": [
    {
     "data": {
      "text/plain": [
       "[-3, -3, -3, -3]"
      ]
     },
     "execution_count": 30,
     "metadata": {},
     "output_type": "execute_result"
    }
   ],
   "source": [
    "\n",
    "lista= [1,2,3,4,5,6,7]\n",
    "\n",
    "def var_abs(lista):\n",
    "    lis_2=[]\n",
    "    for i in range(0,(len(lista)-3)):\n",
    "        lis_2.append(lista[i] - lista[i+3])\n",
    "    return lis_2\n",
    "\n",
    "var_abs(lista)"
   ]
  },
  {
   "cell_type": "code",
   "execution_count": null,
   "metadata": {},
   "outputs": [],
   "source": []
  },
  {
   "cell_type": "code",
   "execution_count": null,
   "metadata": {},
   "outputs": [],
   "source": []
  },
  {
   "cell_type": "code",
   "execution_count": null,
   "metadata": {},
   "outputs": [],
   "source": []
  },
  {
   "cell_type": "code",
   "execution_count": null,
   "metadata": {},
   "outputs": [],
   "source": []
  },
  {
   "cell_type": "code",
   "execution_count": null,
   "metadata": {},
   "outputs": [],
   "source": []
  },
  {
   "cell_type": "code",
   "execution_count": 4,
   "metadata": {},
   "outputs": [
    {
     "ename": "NameError",
     "evalue": "name 'ruta' is not defined",
     "output_type": "error",
     "traceback": [
      "\u001b[1;31m---------------------------------------------------------------------------\u001b[0m",
      "\u001b[1;31mNameError\u001b[0m                                 Traceback (most recent call last)",
      "Cell \u001b[1;32mIn [4], line 2\u001b[0m\n\u001b[0;32m      1\u001b[0m df\u001b[39m=\u001b[39m pd\u001b[39m.\u001b[39mDataFrame()\n\u001b[1;32m----> 2\u001b[0m \u001b[39mfor\u001b[39;00m archivo \u001b[39min\u001b[39;00m os\u001b[39m.\u001b[39mlistdir(ruta):\n\u001b[0;32m      3\u001b[0m     df\u001b[39m=\u001b[39mpd\u001b[39m.\u001b[39mconcat([df,pd\u001b[39m.\u001b[39mread_csv(os\u001b[39m.\u001b[39mpath\u001b[39m.\u001b[39mjoin(ruta,archivo))])\n",
      "\u001b[1;31mNameError\u001b[0m: name 'ruta' is not defined"
     ]
    }
   ],
   "source": [
    "df= pd.DataFrame()\n",
    "for archivo in os.listdir(ruta):\n",
    "    df=pd.concat([df,pd.read_csv(os.path.join(ruta,archivo))])"
   ]
  },
  {
   "cell_type": "code",
   "execution_count": 6,
   "metadata": {},
   "outputs": [],
   "source": [
    "Parte1=\"ejercicio_Parte_1.csv\"  \n",
    "Parte2=\"ejercicio_Parte_2.csv\"\n",
    "Parte3=\"ejercicio_Parte_3.csv\"\n",
    "Parte4=\"ejercicio_Parte_4.csv\" \n",
    "Parte5=\"ejercicio_Parte_5.csv\"\n",
    "Parte6=\"ejercicio_Parte_6.csv\" \n",
    "Parte7=\"ejercicio_Parte_7.csv\" \n",
    "Parte8=\"ejercicio_Parte_8.csv\" \n",
    "Parte9=\"ejercicio_Parte_9.csv\" \n",
    "Parte10=\"ejercicio_Parte_10.csv\""
   ]
  },
  {
   "cell_type": "code",
   "execution_count": 5,
   "metadata": {},
   "outputs": [
    {
     "ename": "IndentationError",
     "evalue": "expected an indented block after 'for' statement on line 6 (1842161455.py, line 8)",
     "output_type": "error",
     "traceback": [
      "\u001b[1;36m  Cell \u001b[1;32mIn [5], line 8\u001b[1;36m\u001b[0m\n\u001b[1;33m    df= pd.concat([ pd.read_csv(Archivos[i])])\u001b[0m\n\u001b[1;37m    ^\u001b[0m\n\u001b[1;31mIndentationError\u001b[0m\u001b[1;31m:\u001b[0m expected an indented block after 'for' statement on line 6\n"
     ]
    }
   ],
   "source": [
    "Archivos = [ruta+ \"\\\\ejercicio_Parte_\"+str(1)+\".CSV\" for i in range (1,11)] \n",
    "\n",
    " \n",
    "df=pd.DataFrame() \n",
    "\n",
    "for i in range(len(Archivos)): \n",
    "\n",
    "df= pd.concat([ pd.read_csv(Archivos[i])]) "
   ]
  }
 ],
 "metadata": {
  "kernelspec": {
   "display_name": "Python 3.10.6 ('thebridge_enviroment')",
   "language": "python",
   "name": "python3"
  },
  "language_info": {
   "codemirror_mode": {
    "name": "ipython",
    "version": 3
   },
   "file_extension": ".py",
   "mimetype": "text/x-python",
   "name": "python",
   "nbconvert_exporter": "python",
   "pygments_lexer": "ipython3",
   "version": "3.10.6"
  },
  "orig_nbformat": 4,
  "vscode": {
   "interpreter": {
    "hash": "7d3e4eb6c4020fc3182485a5b9588accf4086547f60579d23983d2a06b0708b2"
   }
  }
 },
 "nbformat": 4,
 "nbformat_minor": 2
}
