{
 "cells": [
  {
   "cell_type": "code",
   "execution_count": 100,
   "metadata": {},
   "outputs": [
    {
     "name": "stdout",
     "output_type": "stream",
     "text": [
      "Collecting matplotlib\n",
      "  Downloading matplotlib-3.6.1-cp310-cp310-win_amd64.whl (7.2 MB)\n",
      "     ---------------------------------------- 7.2/7.2 MB 5.2 MB/s eta 0:00:00\n",
      "Collecting pillow>=6.2.0\n",
      "  Downloading Pillow-9.2.0-cp310-cp310-win_amd64.whl (3.3 MB)\n",
      "     ---------------------------------------- 3.3/3.3 MB 5.2 MB/s eta 0:00:00\n",
      "Requirement already satisfied: pyparsing>=2.2.1 in c:\\users\\alvaro díaz\\.conda\\envs\\thebridge_enviroment\\lib\\site-packages (from matplotlib) (3.0.9)\n",
      "Collecting contourpy>=1.0.1\n",
      "  Downloading contourpy-1.0.5-cp310-cp310-win_amd64.whl (164 kB)\n",
      "     -------------------------------------- 164.1/164.1 kB 2.0 MB/s eta 0:00:00\n",
      "Collecting cycler>=0.10\n",
      "  Using cached cycler-0.11.0-py3-none-any.whl (6.4 kB)\n",
      "Requirement already satisfied: numpy>=1.19 in c:\\users\\alvaro díaz\\.conda\\envs\\thebridge_enviroment\\lib\\site-packages (from matplotlib) (1.23.3)\n",
      "Requirement already satisfied: packaging>=20.0 in c:\\users\\alvaro díaz\\.conda\\envs\\thebridge_enviroment\\lib\\site-packages (from matplotlib) (21.3)\n",
      "Collecting kiwisolver>=1.0.1\n",
      "  Downloading kiwisolver-1.4.4-cp310-cp310-win_amd64.whl (55 kB)\n",
      "     ---------------------------------------- 55.3/55.3 kB 1.5 MB/s eta 0:00:00\n",
      "Requirement already satisfied: python-dateutil>=2.7 in c:\\users\\alvaro díaz\\.conda\\envs\\thebridge_enviroment\\lib\\site-packages (from matplotlib) (2.8.2)\n",
      "Collecting fonttools>=4.22.0\n",
      "  Using cached fonttools-4.38.0-py3-none-any.whl (965 kB)\n",
      "Requirement already satisfied: six>=1.5 in c:\\users\\alvaro díaz\\.conda\\envs\\thebridge_enviroment\\lib\\site-packages (from python-dateutil>=2.7->matplotlib) (1.16.0)\n",
      "Installing collected packages: pillow, kiwisolver, fonttools, cycler, contourpy, matplotlib\n",
      "Successfully installed contourpy-1.0.5 cycler-0.11.0 fonttools-4.38.0 kiwisolver-1.4.4 matplotlib-3.6.1 pillow-9.2.0\n",
      "Note: you may need to restart the kernel to use updated packages.\n"
     ]
    }
   ],
   "source": [
    "pip install matplotlib"
   ]
  },
  {
   "cell_type": "code",
   "execution_count": 10,
   "metadata": {},
   "outputs": [
    {
     "name": "stdout",
     "output_type": "stream",
     "text": [
      "Collecting pandas_datareader\n",
      "  Using cached pandas_datareader-0.10.0-py3-none-any.whl (109 kB)\n",
      "Requirement already satisfied: pandas>=0.23 in c:\\users\\alvaro díaz\\.conda\\envs\\thebridge_enviroment\\lib\\site-packages (from pandas_datareader) (1.5.1)\n",
      "Requirement already satisfied: lxml in c:\\users\\alvaro díaz\\.conda\\envs\\thebridge_enviroment\\lib\\site-packages (from pandas_datareader) (4.9.1)\n",
      "Collecting requests>=2.19.0\n",
      "  Using cached requests-2.28.1-py3-none-any.whl (62 kB)\n",
      "Requirement already satisfied: pytz>=2020.1 in c:\\users\\alvaro díaz\\.conda\\envs\\thebridge_enviroment\\lib\\site-packages (from pandas>=0.23->pandas_datareader) (2022.5)\n",
      "Requirement already satisfied: python-dateutil>=2.8.1 in c:\\users\\alvaro díaz\\.conda\\envs\\thebridge_enviroment\\lib\\site-packages (from pandas>=0.23->pandas_datareader) (2.8.2)\n",
      "Requirement already satisfied: numpy>=1.21.0 in c:\\users\\alvaro díaz\\.conda\\envs\\thebridge_enviroment\\lib\\site-packages (from pandas>=0.23->pandas_datareader) (1.23.3)\n",
      "Collecting urllib3<1.27,>=1.21.1\n",
      "  Using cached urllib3-1.26.12-py2.py3-none-any.whl (140 kB)\n",
      "Collecting certifi>=2017.4.17\n",
      "  Using cached certifi-2022.9.24-py3-none-any.whl (161 kB)\n",
      "Collecting charset-normalizer<3,>=2\n",
      "  Using cached charset_normalizer-2.1.1-py3-none-any.whl (39 kB)\n",
      "Collecting idna<4,>=2.5\n",
      "  Using cached idna-3.4-py3-none-any.whl (61 kB)\n",
      "Requirement already satisfied: six>=1.5 in c:\\users\\alvaro díaz\\.conda\\envs\\thebridge_enviroment\\lib\\site-packages (from python-dateutil>=2.8.1->pandas>=0.23->pandas_datareader) (1.16.0)\n",
      "Installing collected packages: urllib3, idna, charset-normalizer, certifi, requests, pandas_datareader\n",
      "Successfully installed certifi-2022.9.24 charset-normalizer-2.1.1 idna-3.4 pandas_datareader-0.10.0 requests-2.28.1 urllib3-1.26.12\n",
      "Note: you may need to restart the kernel to use updated packages.\n"
     ]
    }
   ],
   "source": [
    "pip install pandas_datareader"
   ]
  },
  {
   "cell_type": "code",
   "execution_count": 105,
   "metadata": {},
   "outputs": [],
   "source": [
    "from pandas_datareader import data as web\n",
    "import pandas as pd\n",
    "import numpy as np\n",
    "import datetime\n",
    "import matplotlib\n"
   ]
  },
  {
   "cell_type": "code",
   "execution_count": 13,
   "metadata": {},
   "outputs": [],
   "source": [
    "fecha=datetime.datetime(year=2022,month=12,day=28)"
   ]
  },
  {
   "cell_type": "code",
   "execution_count": 14,
   "metadata": {},
   "outputs": [
    {
     "data": {
      "text/plain": [
       "'2022'"
      ]
     },
     "execution_count": 14,
     "metadata": {},
     "output_type": "execute_result"
    }
   ],
   "source": [
    "fecha.strftime(\"%Y\")"
   ]
  },
  {
   "cell_type": "code",
   "execution_count": 15,
   "metadata": {},
   "outputs": [
    {
     "data": {
      "text/plain": [
       "'12'"
      ]
     },
     "execution_count": 15,
     "metadata": {},
     "output_type": "execute_result"
    }
   ],
   "source": [
    "fecha.strftime(\"%m\")"
   ]
  },
  {
   "cell_type": "code",
   "execution_count": 16,
   "metadata": {},
   "outputs": [
    {
     "data": {
      "text/plain": [
       "'28'"
      ]
     },
     "execution_count": 16,
     "metadata": {},
     "output_type": "execute_result"
    }
   ],
   "source": [
    "fecha.strftime(\"%d\")"
   ]
  },
  {
   "cell_type": "code",
   "execution_count": 17,
   "metadata": {},
   "outputs": [
    {
     "data": {
      "text/plain": [
       "'Wednesday'"
      ]
     },
     "execution_count": 17,
     "metadata": {},
     "output_type": "execute_result"
    }
   ],
   "source": [
    "fecha.strftime(\"%A\")"
   ]
  },
  {
   "cell_type": "code",
   "execution_count": 18,
   "metadata": {},
   "outputs": [
    {
     "data": {
      "text/plain": [
       "'Wed'"
      ]
     },
     "execution_count": 18,
     "metadata": {},
     "output_type": "execute_result"
    }
   ],
   "source": [
    "fecha.strftime(\"%a\")"
   ]
  },
  {
   "cell_type": "code",
   "execution_count": 19,
   "metadata": {},
   "outputs": [
    {
     "data": {
      "text/plain": [
       "'3'"
      ]
     },
     "execution_count": 19,
     "metadata": {},
     "output_type": "execute_result"
    }
   ],
   "source": [
    "fecha.strftime(\"%w\")"
   ]
  },
  {
   "cell_type": "code",
   "execution_count": 29,
   "metadata": {},
   "outputs": [
    {
     "data": {
      "text/plain": [
       "'22'"
      ]
     },
     "execution_count": 29,
     "metadata": {},
     "output_type": "execute_result"
    }
   ],
   "source": [
    "fecha.strftime(\"%y\")"
   ]
  },
  {
   "cell_type": "code",
   "execution_count": 34,
   "metadata": {},
   "outputs": [],
   "source": [
    "fechanp=np.array('2022-10-28',dtype=np.datetime64)"
   ]
  },
  {
   "cell_type": "code",
   "execution_count": 35,
   "metadata": {},
   "outputs": [
    {
     "data": {
      "text/plain": [
       "numpy.datetime64('2022-10-31')"
      ]
     },
     "execution_count": 35,
     "metadata": {},
     "output_type": "execute_result"
    }
   ],
   "source": [
    "fechanp+3"
   ]
  },
  {
   "cell_type": "code",
   "execution_count": 36,
   "metadata": {},
   "outputs": [
    {
     "data": {
      "text/plain": [
       "array(['2022-10-28', '2022-10-29', '2022-10-30', '2022-10-31',\n",
       "       '2022-11-01', '2022-11-02', '2022-11-03', '2022-11-04',\n",
       "       '2022-11-05', '2022-11-06', '2022-11-07', '2022-11-08',\n",
       "       '2022-11-09', '2022-11-10', '2022-11-11', '2022-11-12',\n",
       "       '2022-11-13', '2022-11-14', '2022-11-15', '2022-11-16'],\n",
       "      dtype='datetime64[D]')"
      ]
     },
     "execution_count": 36,
     "metadata": {},
     "output_type": "execute_result"
    }
   ],
   "source": [
    "fechanp+np.arange(20)"
   ]
  },
  {
   "cell_type": "code",
   "execution_count": 37,
   "metadata": {},
   "outputs": [
    {
     "data": {
      "text/plain": [
       "numpy.datetime64('2022-10-28')"
      ]
     },
     "execution_count": 37,
     "metadata": {},
     "output_type": "execute_result"
    }
   ],
   "source": [
    "np.datetime64('2022-10-28')"
   ]
  },
  {
   "cell_type": "code",
   "execution_count": 43,
   "metadata": {},
   "outputs": [
    {
     "data": {
      "text/plain": [
       "numpy.datetime64('2022-10-28T00:00')"
      ]
     },
     "execution_count": 43,
     "metadata": {},
     "output_type": "execute_result"
    }
   ],
   "source": [
    "np.datetime64('2022-10-28 00:00')"
   ]
  },
  {
   "cell_type": "code",
   "execution_count": 41,
   "metadata": {},
   "outputs": [
    {
     "data": {
      "text/plain": [
       "numpy.datetime64('2022-10-28T00:00:09.640000000')"
      ]
     },
     "execution_count": 41,
     "metadata": {},
     "output_type": "execute_result"
    }
   ],
   "source": [
    "np.datetime64('2022-10-28 00:00:09.64', 'ns')"
   ]
  },
  {
   "cell_type": "code",
   "execution_count": 45,
   "metadata": {},
   "outputs": [],
   "source": [
    "fechapd=pd.to_datetime(\"28th of October,2022\")"
   ]
  },
  {
   "cell_type": "code",
   "execution_count": 46,
   "metadata": {},
   "outputs": [
    {
     "data": {
      "text/plain": [
       "'Friday'"
      ]
     },
     "execution_count": 46,
     "metadata": {},
     "output_type": "execute_result"
    }
   ],
   "source": [
    "fechapd.strftime(\"%A\")"
   ]
  },
  {
   "cell_type": "code",
   "execution_count": 47,
   "metadata": {},
   "outputs": [
    {
     "data": {
      "text/plain": [
       "'Fri'"
      ]
     },
     "execution_count": 47,
     "metadata": {},
     "output_type": "execute_result"
    }
   ],
   "source": [
    "fechapd.strftime(\"%a\")"
   ]
  },
  {
   "cell_type": "code",
   "execution_count": 49,
   "metadata": {},
   "outputs": [
    {
     "data": {
      "text/plain": [
       "DatetimeIndex(['2022-10-28', '2022-10-29', '2022-10-30', '2022-10-31',\n",
       "               '2022-11-01', '2022-11-02', '2022-11-03', '2022-11-04',\n",
       "               '2022-11-05', '2022-11-06', '2022-11-07', '2022-11-08'],\n",
       "              dtype='datetime64[ns]', freq=None)"
      ]
     },
     "execution_count": 49,
     "metadata": {},
     "output_type": "execute_result"
    }
   ],
   "source": [
    "fechapd+pd.to_timedelta(np.arange(12),'D')"
   ]
  },
  {
   "cell_type": "code",
   "execution_count": 50,
   "metadata": {},
   "outputs": [
    {
     "data": {
      "text/plain": [
       "DatetimeIndex(['2022-10-28 00:00:00', '2022-10-28 00:01:00',\n",
       "               '2022-10-28 00:02:00', '2022-10-28 00:03:00',\n",
       "               '2022-10-28 00:04:00', '2022-10-28 00:05:00',\n",
       "               '2022-10-28 00:06:00', '2022-10-28 00:07:00',\n",
       "               '2022-10-28 00:08:00', '2022-10-28 00:09:00',\n",
       "               '2022-10-28 00:10:00', '2022-10-28 00:11:00'],\n",
       "              dtype='datetime64[ns]', freq=None)"
      ]
     },
     "execution_count": 50,
     "metadata": {},
     "output_type": "execute_result"
    }
   ],
   "source": [
    "fechapd+pd.to_timedelta(np.arange(12),'m')"
   ]
  },
  {
   "cell_type": "code",
   "execution_count": 53,
   "metadata": {},
   "outputs": [
    {
     "data": {
      "text/plain": [
       "DatetimeIndex(['2022-10-28', '2022-11-04', '2022-11-11', '2022-11-18',\n",
       "               '2022-11-25', '2022-12-02', '2022-12-09', '2022-12-16',\n",
       "               '2022-12-23', '2022-12-30', '2023-01-06', '2023-01-13'],\n",
       "              dtype='datetime64[ns]', freq=None)"
      ]
     },
     "execution_count": 53,
     "metadata": {},
     "output_type": "execute_result"
    }
   ],
   "source": [
    "fechapd+pd.to_timedelta(np.arange(12),'w')"
   ]
  },
  {
   "cell_type": "code",
   "execution_count": 56,
   "metadata": {},
   "outputs": [
    {
     "data": {
      "text/plain": [
       "DatetimeIndex(['2022-10-28', '2022-10-29', '2022-10-30', '2022-10-31',\n",
       "               '2022-11-01', '2022-11-02', '2022-11-03', '2022-11-04',\n",
       "               '2022-11-05', '2022-11-06', '2022-11-07', '2022-11-08'],\n",
       "              dtype='datetime64[ns]', freq='D')"
      ]
     },
     "execution_count": 56,
     "metadata": {},
     "output_type": "execute_result"
    }
   ],
   "source": [
    "pd.date_range(start='2022-10-28', periods=12, freq='D')"
   ]
  },
  {
   "cell_type": "code",
   "execution_count": 57,
   "metadata": {},
   "outputs": [
    {
     "data": {
      "text/plain": [
       "DatetimeIndex(['2022-10-31', '2022-11-30', '2022-12-31', '2023-01-31',\n",
       "               '2023-02-28', '2023-03-31', '2023-04-30', '2023-05-31',\n",
       "               '2023-06-30', '2023-07-31', '2023-08-31', '2023-09-30'],\n",
       "              dtype='datetime64[ns]', freq='M')"
      ]
     },
     "execution_count": 57,
     "metadata": {},
     "output_type": "execute_result"
    }
   ],
   "source": [
    "pd.date_range(start='2022-10-28', periods=12, freq='M')"
   ]
  },
  {
   "cell_type": "code",
   "execution_count": 58,
   "metadata": {},
   "outputs": [],
   "source": [
    "meses =pd.date_range(start='2022-10-28', periods=12, freq='M')"
   ]
  },
  {
   "cell_type": "code",
   "execution_count": 59,
   "metadata": {},
   "outputs": [
    {
     "name": "stdout",
     "output_type": "stream",
     "text": [
      "2022-10-31 00:00:00\n",
      "2023-09-30 00:00:00\n"
     ]
    }
   ],
   "source": [
    "print(meses.min())\n",
    "print(meses.max())"
   ]
  },
  {
   "cell_type": "markdown",
   "metadata": {},
   "source": [
    "## Usamos WEB "
   ]
  },
  {
   "cell_type": "code",
   "execution_count": 63,
   "metadata": {},
   "outputs": [
    {
     "data": {
      "text/html": [
       "<div>\n",
       "<style scoped>\n",
       "    .dataframe tbody tr th:only-of-type {\n",
       "        vertical-align: middle;\n",
       "    }\n",
       "\n",
       "    .dataframe tbody tr th {\n",
       "        vertical-align: top;\n",
       "    }\n",
       "\n",
       "    .dataframe thead th {\n",
       "        text-align: right;\n",
       "    }\n",
       "</style>\n",
       "<table border=\"1\" class=\"dataframe\">\n",
       "  <thead>\n",
       "    <tr style=\"text-align: right;\">\n",
       "      <th></th>\n",
       "      <th>High</th>\n",
       "      <th>Low</th>\n",
       "      <th>Open</th>\n",
       "      <th>Close</th>\n",
       "      <th>Volume</th>\n",
       "      <th>Adj Close</th>\n",
       "    </tr>\n",
       "    <tr>\n",
       "      <th>Date</th>\n",
       "      <th></th>\n",
       "      <th></th>\n",
       "      <th></th>\n",
       "      <th></th>\n",
       "      <th></th>\n",
       "      <th></th>\n",
       "    </tr>\n",
       "  </thead>\n",
       "  <tbody>\n",
       "    <tr>\n",
       "      <th>1991-01-02</th>\n",
       "      <td>0.392857</td>\n",
       "      <td>0.375000</td>\n",
       "      <td>0.381696</td>\n",
       "      <td>0.388393</td>\n",
       "      <td>154985600.0</td>\n",
       "      <td>0.313691</td>\n",
       "    </tr>\n",
       "    <tr>\n",
       "      <th>1991-01-03</th>\n",
       "      <td>0.395089</td>\n",
       "      <td>0.383929</td>\n",
       "      <td>0.388393</td>\n",
       "      <td>0.383929</td>\n",
       "      <td>150180800.0</td>\n",
       "      <td>0.310086</td>\n",
       "    </tr>\n",
       "    <tr>\n",
       "      <th>1991-01-04</th>\n",
       "      <td>0.395089</td>\n",
       "      <td>0.383929</td>\n",
       "      <td>0.383929</td>\n",
       "      <td>0.386161</td>\n",
       "      <td>141523200.0</td>\n",
       "      <td>0.311889</td>\n",
       "    </tr>\n",
       "    <tr>\n",
       "      <th>1991-01-07</th>\n",
       "      <td>0.404018</td>\n",
       "      <td>0.383929</td>\n",
       "      <td>0.383929</td>\n",
       "      <td>0.386161</td>\n",
       "      <td>310800000.0</td>\n",
       "      <td>0.311889</td>\n",
       "    </tr>\n",
       "    <tr>\n",
       "      <th>1991-01-08</th>\n",
       "      <td>0.391741</td>\n",
       "      <td>0.379464</td>\n",
       "      <td>0.390625</td>\n",
       "      <td>0.386161</td>\n",
       "      <td>218691200.0</td>\n",
       "      <td>0.311889</td>\n",
       "    </tr>\n",
       "    <tr>\n",
       "      <th>...</th>\n",
       "      <td>...</td>\n",
       "      <td>...</td>\n",
       "      <td>...</td>\n",
       "      <td>...</td>\n",
       "      <td>...</td>\n",
       "      <td>...</td>\n",
       "    </tr>\n",
       "    <tr>\n",
       "      <th>2020-12-24</th>\n",
       "      <td>133.460007</td>\n",
       "      <td>131.100006</td>\n",
       "      <td>131.320007</td>\n",
       "      <td>131.970001</td>\n",
       "      <td>54930100.0</td>\n",
       "      <td>130.620880</td>\n",
       "    </tr>\n",
       "    <tr>\n",
       "      <th>2020-12-28</th>\n",
       "      <td>137.339996</td>\n",
       "      <td>133.509995</td>\n",
       "      <td>133.990005</td>\n",
       "      <td>136.690002</td>\n",
       "      <td>124486200.0</td>\n",
       "      <td>135.292648</td>\n",
       "    </tr>\n",
       "    <tr>\n",
       "      <th>2020-12-29</th>\n",
       "      <td>138.789993</td>\n",
       "      <td>134.339996</td>\n",
       "      <td>138.050003</td>\n",
       "      <td>134.869995</td>\n",
       "      <td>121047300.0</td>\n",
       "      <td>133.491241</td>\n",
       "    </tr>\n",
       "    <tr>\n",
       "      <th>2020-12-30</th>\n",
       "      <td>135.990005</td>\n",
       "      <td>133.399994</td>\n",
       "      <td>135.580002</td>\n",
       "      <td>133.720001</td>\n",
       "      <td>96452100.0</td>\n",
       "      <td>132.353027</td>\n",
       "    </tr>\n",
       "    <tr>\n",
       "      <th>2020-12-31</th>\n",
       "      <td>134.740005</td>\n",
       "      <td>131.720001</td>\n",
       "      <td>134.080002</td>\n",
       "      <td>132.690002</td>\n",
       "      <td>99116600.0</td>\n",
       "      <td>131.333527</td>\n",
       "    </tr>\n",
       "  </tbody>\n",
       "</table>\n",
       "<p>7559 rows × 6 columns</p>\n",
       "</div>"
      ],
      "text/plain": [
       "                  High         Low        Open       Close       Volume  \\\n",
       "Date                                                                      \n",
       "1991-01-02    0.392857    0.375000    0.381696    0.388393  154985600.0   \n",
       "1991-01-03    0.395089    0.383929    0.388393    0.383929  150180800.0   \n",
       "1991-01-04    0.395089    0.383929    0.383929    0.386161  141523200.0   \n",
       "1991-01-07    0.404018    0.383929    0.383929    0.386161  310800000.0   \n",
       "1991-01-08    0.391741    0.379464    0.390625    0.386161  218691200.0   \n",
       "...                ...         ...         ...         ...          ...   \n",
       "2020-12-24  133.460007  131.100006  131.320007  131.970001   54930100.0   \n",
       "2020-12-28  137.339996  133.509995  133.990005  136.690002  124486200.0   \n",
       "2020-12-29  138.789993  134.339996  138.050003  134.869995  121047300.0   \n",
       "2020-12-30  135.990005  133.399994  135.580002  133.720001   96452100.0   \n",
       "2020-12-31  134.740005  131.720001  134.080002  132.690002   99116600.0   \n",
       "\n",
       "             Adj Close  \n",
       "Date                    \n",
       "1991-01-02    0.313691  \n",
       "1991-01-03    0.310086  \n",
       "1991-01-04    0.311889  \n",
       "1991-01-07    0.311889  \n",
       "1991-01-08    0.311889  \n",
       "...                ...  \n",
       "2020-12-24  130.620880  \n",
       "2020-12-28  135.292648  \n",
       "2020-12-29  133.491241  \n",
       "2020-12-30  132.353027  \n",
       "2020-12-31  131.333527  \n",
       "\n",
       "[7559 rows x 6 columns]"
      ]
     },
     "execution_count": 63,
     "metadata": {},
     "output_type": "execute_result"
    }
   ],
   "source": [
    "comienzo = datetime.datetime(1991,1,1)\n",
    "final = datetime.datetime(2020,12,31)\n",
    "df = web.DataReader(\"AAPL\", start=comienzo, end=final, data_source=\"yahoo\")\n",
    "df"
   ]
  },
  {
   "cell_type": "code",
   "execution_count": 64,
   "metadata": {},
   "outputs": [
    {
     "name": "stdout",
     "output_type": "stream",
     "text": [
      "\u001b[1;31mSignature:\u001b[0m\n",
      "\u001b[0mweb\u001b[0m\u001b[1;33m.\u001b[0m\u001b[0mDataReader\u001b[0m\u001b[1;33m(\u001b[0m\u001b[1;33m\n",
      "\u001b[0m    \u001b[0mname\u001b[0m\u001b[1;33m,\u001b[0m\u001b[1;33m\n",
      "\u001b[0m    \u001b[0mdata_source\u001b[0m\u001b[1;33m=\u001b[0m\u001b[1;32mNone\u001b[0m\u001b[1;33m,\u001b[0m\u001b[1;33m\n",
      "\u001b[0m    \u001b[0mstart\u001b[0m\u001b[1;33m=\u001b[0m\u001b[1;32mNone\u001b[0m\u001b[1;33m,\u001b[0m\u001b[1;33m\n",
      "\u001b[0m    \u001b[0mend\u001b[0m\u001b[1;33m=\u001b[0m\u001b[1;32mNone\u001b[0m\u001b[1;33m,\u001b[0m\u001b[1;33m\n",
      "\u001b[0m    \u001b[0mretry_count\u001b[0m\u001b[1;33m=\u001b[0m\u001b[1;36m3\u001b[0m\u001b[1;33m,\u001b[0m\u001b[1;33m\n",
      "\u001b[0m    \u001b[0mpause\u001b[0m\u001b[1;33m=\u001b[0m\u001b[1;36m0.1\u001b[0m\u001b[1;33m,\u001b[0m\u001b[1;33m\n",
      "\u001b[0m    \u001b[0msession\u001b[0m\u001b[1;33m=\u001b[0m\u001b[1;32mNone\u001b[0m\u001b[1;33m,\u001b[0m\u001b[1;33m\n",
      "\u001b[0m    \u001b[0mapi_key\u001b[0m\u001b[1;33m=\u001b[0m\u001b[1;32mNone\u001b[0m\u001b[1;33m,\u001b[0m\u001b[1;33m\n",
      "\u001b[0m\u001b[1;33m)\u001b[0m\u001b[1;33m\u001b[0m\u001b[1;33m\u001b[0m\u001b[0m\n",
      "\u001b[1;31mDocstring:\u001b[0m\n",
      "Imports data from a number of online sources.\n",
      "\n",
      "Currently supports Google Finance, St. Louis FED (FRED),\n",
      "and Kenneth French's data library, among others.\n",
      "\n",
      "Parameters\n",
      "----------\n",
      "name : str or list of strs\n",
      "    the name of the dataset. Some data sources (IEX, fred) will\n",
      "    accept a list of names.\n",
      "data_source: {str, None}\n",
      "    the data source (\"iex\", \"fred\", \"ff\")\n",
      "start : string, int, date, datetime, Timestamp\n",
      "    left boundary for range (defaults to 1/1/2010)\n",
      "end : string, int, date, datetime, Timestamp\n",
      "    right boundary for range (defaults to today)\n",
      "retry_count : {int, 3}\n",
      "    Number of times to retry query request.\n",
      "pause : {numeric, 0.001}\n",
      "    Time, in seconds, to pause between consecutive queries of chunks. If\n",
      "    single value given for symbol, represents the pause between retries.\n",
      "session : Session, default None\n",
      "    requests.sessions.Session instance to be used\n",
      "api_key : (str, None)\n",
      "    Optional parameter to specify an API key for certain data sources.\n",
      "\n",
      "Examples\n",
      "----------\n",
      "# Data from Google Finance\n",
      "aapl = DataReader(\"AAPL\", \"iex\")\n",
      "\n",
      "# Price and volume data from IEX\n",
      "tops = DataReader([\"GS\", \"AAPL\"], \"iex-tops\")\n",
      "# Top of book executions from IEX\n",
      "gs = DataReader(\"GS\", \"iex-last\")\n",
      "# Real-time depth of book data from IEX\n",
      "gs = DataReader(\"GS\", \"iex-book\")\n",
      "\n",
      "# Data from FRED\n",
      "vix = DataReader(\"VIXCLS\", \"fred\")\n",
      "\n",
      "# Data from Fama/French\n",
      "ff = DataReader(\"F-F_Research_Data_Factors\", \"famafrench\")\n",
      "ff = DataReader(\"F-F_Research_Data_Factors_weekly\", \"famafrench\")\n",
      "ff = DataReader(\"6_Portfolios_2x3\", \"famafrench\")\n",
      "ff = DataReader(\"F-F_ST_Reversal_Factor\", \"famafrench\")\n",
      "\u001b[1;31mFile:\u001b[0m      c:\\users\\alvaro díaz\\.conda\\envs\\thebridge_enviroment\\lib\\site-packages\\pandas_datareader\\data.py\n",
      "\u001b[1;31mType:\u001b[0m      function\n"
     ]
    }
   ],
   "source": [
    "web.DataReader?"
   ]
  },
  {
   "cell_type": "code",
   "execution_count": 65,
   "metadata": {},
   "outputs": [
    {
     "data": {
      "text/plain": [
       "<bound method NDFrame.head of                   High         Low        Open       Close       Volume  \\\n",
       "Date                                                                      \n",
       "1991-01-02    0.392857    0.375000    0.381696    0.388393  154985600.0   \n",
       "1991-01-03    0.395089    0.383929    0.388393    0.383929  150180800.0   \n",
       "1991-01-04    0.395089    0.383929    0.383929    0.386161  141523200.0   \n",
       "1991-01-07    0.404018    0.383929    0.383929    0.386161  310800000.0   \n",
       "1991-01-08    0.391741    0.379464    0.390625    0.386161  218691200.0   \n",
       "...                ...         ...         ...         ...          ...   \n",
       "2020-12-24  133.460007  131.100006  131.320007  131.970001   54930100.0   \n",
       "2020-12-28  137.339996  133.509995  133.990005  136.690002  124486200.0   \n",
       "2020-12-29  138.789993  134.339996  138.050003  134.869995  121047300.0   \n",
       "2020-12-30  135.990005  133.399994  135.580002  133.720001   96452100.0   \n",
       "2020-12-31  134.740005  131.720001  134.080002  132.690002   99116600.0   \n",
       "\n",
       "             Adj Close  \n",
       "Date                    \n",
       "1991-01-02    0.313691  \n",
       "1991-01-03    0.310086  \n",
       "1991-01-04    0.311889  \n",
       "1991-01-07    0.311889  \n",
       "1991-01-08    0.311889  \n",
       "...                ...  \n",
       "2020-12-24  130.620880  \n",
       "2020-12-28  135.292648  \n",
       "2020-12-29  133.491241  \n",
       "2020-12-30  132.353027  \n",
       "2020-12-31  131.333527  \n",
       "\n",
       "[7559 rows x 6 columns]>"
      ]
     },
     "execution_count": 65,
     "metadata": {},
     "output_type": "execute_result"
    }
   ],
   "source": [
    "df.head"
   ]
  },
  {
   "cell_type": "code",
   "execution_count": 66,
   "metadata": {},
   "outputs": [
    {
     "data": {
      "text/plain": [
       "<bound method NDFrame.tail of                   High         Low        Open       Close       Volume  \\\n",
       "Date                                                                      \n",
       "1991-01-02    0.392857    0.375000    0.381696    0.388393  154985600.0   \n",
       "1991-01-03    0.395089    0.383929    0.388393    0.383929  150180800.0   \n",
       "1991-01-04    0.395089    0.383929    0.383929    0.386161  141523200.0   \n",
       "1991-01-07    0.404018    0.383929    0.383929    0.386161  310800000.0   \n",
       "1991-01-08    0.391741    0.379464    0.390625    0.386161  218691200.0   \n",
       "...                ...         ...         ...         ...          ...   \n",
       "2020-12-24  133.460007  131.100006  131.320007  131.970001   54930100.0   \n",
       "2020-12-28  137.339996  133.509995  133.990005  136.690002  124486200.0   \n",
       "2020-12-29  138.789993  134.339996  138.050003  134.869995  121047300.0   \n",
       "2020-12-30  135.990005  133.399994  135.580002  133.720001   96452100.0   \n",
       "2020-12-31  134.740005  131.720001  134.080002  132.690002   99116600.0   \n",
       "\n",
       "             Adj Close  \n",
       "Date                    \n",
       "1991-01-02    0.313691  \n",
       "1991-01-03    0.310086  \n",
       "1991-01-04    0.311889  \n",
       "1991-01-07    0.311889  \n",
       "1991-01-08    0.311889  \n",
       "...                ...  \n",
       "2020-12-24  130.620880  \n",
       "2020-12-28  135.292648  \n",
       "2020-12-29  133.491241  \n",
       "2020-12-30  132.353027  \n",
       "2020-12-31  131.333527  \n",
       "\n",
       "[7559 rows x 6 columns]>"
      ]
     },
     "execution_count": 66,
     "metadata": {},
     "output_type": "execute_result"
    }
   ],
   "source": [
    "df.tail"
   ]
  },
  {
   "cell_type": "code",
   "execution_count": 67,
   "metadata": {},
   "outputs": [
    {
     "data": {
      "text/html": [
       "<div>\n",
       "<style scoped>\n",
       "    .dataframe tbody tr th:only-of-type {\n",
       "        vertical-align: middle;\n",
       "    }\n",
       "\n",
       "    .dataframe tbody tr th {\n",
       "        vertical-align: top;\n",
       "    }\n",
       "\n",
       "    .dataframe thead th {\n",
       "        text-align: right;\n",
       "    }\n",
       "</style>\n",
       "<table border=\"1\" class=\"dataframe\">\n",
       "  <thead>\n",
       "    <tr style=\"text-align: right;\">\n",
       "      <th></th>\n",
       "      <th>High</th>\n",
       "      <th>Low</th>\n",
       "      <th>Open</th>\n",
       "      <th>Close</th>\n",
       "      <th>Volume</th>\n",
       "      <th>Adj Close</th>\n",
       "    </tr>\n",
       "    <tr>\n",
       "      <th>Date</th>\n",
       "      <th></th>\n",
       "      <th></th>\n",
       "      <th></th>\n",
       "      <th></th>\n",
       "      <th></th>\n",
       "      <th></th>\n",
       "    </tr>\n",
       "  </thead>\n",
       "  <tbody>\n",
       "    <tr>\n",
       "      <th>1991-01-31</th>\n",
       "      <td>0.500000</td>\n",
       "      <td>0.488839</td>\n",
       "      <td>0.495536</td>\n",
       "      <td>0.495536</td>\n",
       "      <td>242592000.0</td>\n",
       "      <td>0.400227</td>\n",
       "    </tr>\n",
       "    <tr>\n",
       "      <th>1991-02-28</th>\n",
       "      <td>0.522321</td>\n",
       "      <td>0.502232</td>\n",
       "      <td>0.520089</td>\n",
       "      <td>0.511161</td>\n",
       "      <td>227360000.0</td>\n",
       "      <td>0.413715</td>\n",
       "    </tr>\n",
       "    <tr>\n",
       "      <th>1991-03-31</th>\n",
       "      <td>NaN</td>\n",
       "      <td>NaN</td>\n",
       "      <td>NaN</td>\n",
       "      <td>NaN</td>\n",
       "      <td>NaN</td>\n",
       "      <td>NaN</td>\n",
       "    </tr>\n",
       "    <tr>\n",
       "      <th>1991-04-30</th>\n",
       "      <td>0.520089</td>\n",
       "      <td>0.486607</td>\n",
       "      <td>0.515625</td>\n",
       "      <td>0.491071</td>\n",
       "      <td>711446400.0</td>\n",
       "      <td>0.397455</td>\n",
       "    </tr>\n",
       "    <tr>\n",
       "      <th>1991-05-31</th>\n",
       "      <td>0.426339</td>\n",
       "      <td>0.412946</td>\n",
       "      <td>0.424107</td>\n",
       "      <td>0.419643</td>\n",
       "      <td>217862400.0</td>\n",
       "      <td>0.340513</td>\n",
       "    </tr>\n",
       "  </tbody>\n",
       "</table>\n",
       "</div>"
      ],
      "text/plain": [
       "                High       Low      Open     Close       Volume  Adj Close\n",
       "Date                                                                      \n",
       "1991-01-31  0.500000  0.488839  0.495536  0.495536  242592000.0   0.400227\n",
       "1991-02-28  0.522321  0.502232  0.520089  0.511161  227360000.0   0.413715\n",
       "1991-03-31       NaN       NaN       NaN       NaN          NaN        NaN\n",
       "1991-04-30  0.520089  0.486607  0.515625  0.491071  711446400.0   0.397455\n",
       "1991-05-31  0.426339  0.412946  0.424107  0.419643  217862400.0   0.340513"
      ]
     },
     "execution_count": 67,
     "metadata": {},
     "output_type": "execute_result"
    }
   ],
   "source": [
    "df.asfreq('M').head()"
   ]
  },
  {
   "cell_type": "code",
   "execution_count": 68,
   "metadata": {},
   "outputs": [
    {
     "data": {
      "text/html": [
       "<div>\n",
       "<style scoped>\n",
       "    .dataframe tbody tr th:only-of-type {\n",
       "        vertical-align: middle;\n",
       "    }\n",
       "\n",
       "    .dataframe tbody tr th {\n",
       "        vertical-align: top;\n",
       "    }\n",
       "\n",
       "    .dataframe thead th {\n",
       "        text-align: right;\n",
       "    }\n",
       "</style>\n",
       "<table border=\"1\" class=\"dataframe\">\n",
       "  <thead>\n",
       "    <tr style=\"text-align: right;\">\n",
       "      <th></th>\n",
       "      <th>High</th>\n",
       "      <th>Low</th>\n",
       "      <th>Open</th>\n",
       "      <th>Close</th>\n",
       "      <th>Volume</th>\n",
       "      <th>Adj Close</th>\n",
       "    </tr>\n",
       "    <tr>\n",
       "      <th>Date</th>\n",
       "      <th></th>\n",
       "      <th></th>\n",
       "      <th></th>\n",
       "      <th></th>\n",
       "      <th></th>\n",
       "      <th></th>\n",
       "    </tr>\n",
       "  </thead>\n",
       "  <tbody>\n",
       "    <tr>\n",
       "      <th>1991-01-31</th>\n",
       "      <td>0.500000</td>\n",
       "      <td>0.488839</td>\n",
       "      <td>0.495536</td>\n",
       "      <td>0.495536</td>\n",
       "      <td>242592000.0</td>\n",
       "      <td>0.400227</td>\n",
       "    </tr>\n",
       "    <tr>\n",
       "      <th>1991-02-28</th>\n",
       "      <td>0.522321</td>\n",
       "      <td>0.502232</td>\n",
       "      <td>0.520089</td>\n",
       "      <td>0.511161</td>\n",
       "      <td>227360000.0</td>\n",
       "      <td>0.413715</td>\n",
       "    </tr>\n",
       "    <tr>\n",
       "      <th>1991-03-31</th>\n",
       "      <td>0.625000</td>\n",
       "      <td>0.604911</td>\n",
       "      <td>0.618304</td>\n",
       "      <td>0.607143</td>\n",
       "      <td>78702400.0</td>\n",
       "      <td>0.491400</td>\n",
       "    </tr>\n",
       "    <tr>\n",
       "      <th>1991-04-30</th>\n",
       "      <td>0.520089</td>\n",
       "      <td>0.486607</td>\n",
       "      <td>0.515625</td>\n",
       "      <td>0.491071</td>\n",
       "      <td>711446400.0</td>\n",
       "      <td>0.397455</td>\n",
       "    </tr>\n",
       "    <tr>\n",
       "      <th>1991-05-31</th>\n",
       "      <td>0.426339</td>\n",
       "      <td>0.412946</td>\n",
       "      <td>0.424107</td>\n",
       "      <td>0.419643</td>\n",
       "      <td>217862400.0</td>\n",
       "      <td>0.340513</td>\n",
       "    </tr>\n",
       "  </tbody>\n",
       "</table>\n",
       "</div>"
      ],
      "text/plain": [
       "                High       Low      Open     Close       Volume  Adj Close\n",
       "Date                                                                      \n",
       "1991-01-31  0.500000  0.488839  0.495536  0.495536  242592000.0   0.400227\n",
       "1991-02-28  0.522321  0.502232  0.520089  0.511161  227360000.0   0.413715\n",
       "1991-03-31  0.625000  0.604911  0.618304  0.607143   78702400.0   0.491400\n",
       "1991-04-30  0.520089  0.486607  0.515625  0.491071  711446400.0   0.397455\n",
       "1991-05-31  0.426339  0.412946  0.424107  0.419643  217862400.0   0.340513"
      ]
     },
     "execution_count": 68,
     "metadata": {},
     "output_type": "execute_result"
    }
   ],
   "source": [
    "# Rellenamos el hueco NaN \n",
    "df.asfreq('M',method=\"ffill\").head()"
   ]
  },
  {
   "cell_type": "code",
   "execution_count": 71,
   "metadata": {},
   "outputs": [
    {
     "data": {
      "text/html": [
       "<div>\n",
       "<style scoped>\n",
       "    .dataframe tbody tr th:only-of-type {\n",
       "        vertical-align: middle;\n",
       "    }\n",
       "\n",
       "    .dataframe tbody tr th {\n",
       "        vertical-align: top;\n",
       "    }\n",
       "\n",
       "    .dataframe thead th {\n",
       "        text-align: right;\n",
       "    }\n",
       "</style>\n",
       "<table border=\"1\" class=\"dataframe\">\n",
       "  <thead>\n",
       "    <tr style=\"text-align: right;\">\n",
       "      <th></th>\n",
       "      <th>High</th>\n",
       "      <th>Low</th>\n",
       "      <th>Open</th>\n",
       "      <th>Close</th>\n",
       "      <th>Volume</th>\n",
       "      <th>Adj Close</th>\n",
       "    </tr>\n",
       "    <tr>\n",
       "      <th>Date</th>\n",
       "      <th></th>\n",
       "      <th></th>\n",
       "      <th></th>\n",
       "      <th></th>\n",
       "      <th></th>\n",
       "      <th></th>\n",
       "    </tr>\n",
       "  </thead>\n",
       "  <tbody>\n",
       "    <tr>\n",
       "      <th>1991-03-27</th>\n",
       "      <td>0.627232</td>\n",
       "      <td>0.611607</td>\n",
       "      <td>0.625000</td>\n",
       "      <td>0.618304</td>\n",
       "      <td>190220800.0</td>\n",
       "      <td>0.500433</td>\n",
       "    </tr>\n",
       "    <tr>\n",
       "      <th>1991-03-28</th>\n",
       "      <td>0.625000</td>\n",
       "      <td>0.604911</td>\n",
       "      <td>0.618304</td>\n",
       "      <td>0.607143</td>\n",
       "      <td>78702400.0</td>\n",
       "      <td>0.491400</td>\n",
       "    </tr>\n",
       "    <tr>\n",
       "      <th>1991-04-01</th>\n",
       "      <td>0.620536</td>\n",
       "      <td>0.602679</td>\n",
       "      <td>0.607143</td>\n",
       "      <td>0.611607</td>\n",
       "      <td>117924800.0</td>\n",
       "      <td>0.495013</td>\n",
       "    </tr>\n",
       "  </tbody>\n",
       "</table>\n",
       "</div>"
      ],
      "text/plain": [
       "                High       Low      Open     Close       Volume  Adj Close\n",
       "Date                                                                      \n",
       "1991-03-27  0.627232  0.611607  0.625000  0.618304  190220800.0   0.500433\n",
       "1991-03-28  0.625000  0.604911  0.618304  0.607143   78702400.0   0.491400\n",
       "1991-04-01  0.620536  0.602679  0.607143  0.611607  117924800.0   0.495013"
      ]
     },
     "execution_count": 71,
     "metadata": {},
     "output_type": "execute_result"
    }
   ],
   "source": [
    "df.loc['1991-03-27':'1991-04-01',]"
   ]
  },
  {
   "cell_type": "code",
   "execution_count": 72,
   "metadata": {},
   "outputs": [
    {
     "data": {
      "text/html": [
       "<div>\n",
       "<style scoped>\n",
       "    .dataframe tbody tr th:only-of-type {\n",
       "        vertical-align: middle;\n",
       "    }\n",
       "\n",
       "    .dataframe tbody tr th {\n",
       "        vertical-align: top;\n",
       "    }\n",
       "\n",
       "    .dataframe thead th {\n",
       "        text-align: right;\n",
       "    }\n",
       "</style>\n",
       "<table border=\"1\" class=\"dataframe\">\n",
       "  <thead>\n",
       "    <tr style=\"text-align: right;\">\n",
       "      <th></th>\n",
       "      <th>High</th>\n",
       "      <th>Low</th>\n",
       "      <th>Open</th>\n",
       "      <th>Close</th>\n",
       "      <th>Volume</th>\n",
       "      <th>Adj Close</th>\n",
       "    </tr>\n",
       "    <tr>\n",
       "      <th>Date</th>\n",
       "      <th></th>\n",
       "      <th></th>\n",
       "      <th></th>\n",
       "      <th></th>\n",
       "      <th></th>\n",
       "      <th></th>\n",
       "    </tr>\n",
       "  </thead>\n",
       "  <tbody>\n",
       "    <tr>\n",
       "      <th>1991-01-31</th>\n",
       "      <td>0.500000</td>\n",
       "      <td>0.488839</td>\n",
       "      <td>0.495536</td>\n",
       "      <td>0.495536</td>\n",
       "      <td>242592000.0</td>\n",
       "      <td>0.400227</td>\n",
       "    </tr>\n",
       "    <tr>\n",
       "      <th>1991-02-28</th>\n",
       "      <td>0.522321</td>\n",
       "      <td>0.502232</td>\n",
       "      <td>0.520089</td>\n",
       "      <td>0.511161</td>\n",
       "      <td>227360000.0</td>\n",
       "      <td>0.413715</td>\n",
       "    </tr>\n",
       "    <tr>\n",
       "      <th>1991-03-31</th>\n",
       "      <td>0.620536</td>\n",
       "      <td>0.602679</td>\n",
       "      <td>0.607143</td>\n",
       "      <td>0.611607</td>\n",
       "      <td>117924800.0</td>\n",
       "      <td>0.495013</td>\n",
       "    </tr>\n",
       "    <tr>\n",
       "      <th>1991-04-30</th>\n",
       "      <td>0.520089</td>\n",
       "      <td>0.486607</td>\n",
       "      <td>0.515625</td>\n",
       "      <td>0.491071</td>\n",
       "      <td>711446400.0</td>\n",
       "      <td>0.397455</td>\n",
       "    </tr>\n",
       "    <tr>\n",
       "      <th>1991-05-31</th>\n",
       "      <td>0.426339</td>\n",
       "      <td>0.412946</td>\n",
       "      <td>0.424107</td>\n",
       "      <td>0.419643</td>\n",
       "      <td>217862400.0</td>\n",
       "      <td>0.340513</td>\n",
       "    </tr>\n",
       "  </tbody>\n",
       "</table>\n",
       "</div>"
      ],
      "text/plain": [
       "                High       Low      Open     Close       Volume  Adj Close\n",
       "Date                                                                      \n",
       "1991-01-31  0.500000  0.488839  0.495536  0.495536  242592000.0   0.400227\n",
       "1991-02-28  0.522321  0.502232  0.520089  0.511161  227360000.0   0.413715\n",
       "1991-03-31  0.620536  0.602679  0.607143  0.611607  117924800.0   0.495013\n",
       "1991-04-30  0.520089  0.486607  0.515625  0.491071  711446400.0   0.397455\n",
       "1991-05-31  0.426339  0.412946  0.424107  0.419643  217862400.0   0.340513"
      ]
     },
     "execution_count": 72,
     "metadata": {},
     "output_type": "execute_result"
    }
   ],
   "source": [
    "df.asfreq('M',method=\"bfill\").head()"
   ]
  },
  {
   "cell_type": "code",
   "execution_count": 81,
   "metadata": {},
   "outputs": [],
   "source": [
    "df_mensual=df.asfreq('M')"
   ]
  },
  {
   "cell_type": "code",
   "execution_count": 82,
   "metadata": {},
   "outputs": [
    {
     "data": {
      "text/html": [
       "<div>\n",
       "<style scoped>\n",
       "    .dataframe tbody tr th:only-of-type {\n",
       "        vertical-align: middle;\n",
       "    }\n",
       "\n",
       "    .dataframe tbody tr th {\n",
       "        vertical-align: top;\n",
       "    }\n",
       "\n",
       "    .dataframe thead th {\n",
       "        text-align: right;\n",
       "    }\n",
       "</style>\n",
       "<table border=\"1\" class=\"dataframe\">\n",
       "  <thead>\n",
       "    <tr style=\"text-align: right;\">\n",
       "      <th></th>\n",
       "      <th>High</th>\n",
       "      <th>Low</th>\n",
       "      <th>Open</th>\n",
       "      <th>Close</th>\n",
       "      <th>Volume</th>\n",
       "      <th>Adj Close</th>\n",
       "    </tr>\n",
       "    <tr>\n",
       "      <th>Date</th>\n",
       "      <th></th>\n",
       "      <th></th>\n",
       "      <th></th>\n",
       "      <th></th>\n",
       "      <th></th>\n",
       "      <th></th>\n",
       "    </tr>\n",
       "  </thead>\n",
       "  <tbody>\n",
       "    <tr>\n",
       "      <th>1991-01-31</th>\n",
       "      <td>0.500000</td>\n",
       "      <td>0.488839</td>\n",
       "      <td>0.495536</td>\n",
       "      <td>0.495536</td>\n",
       "      <td>242592000.0</td>\n",
       "      <td>0.400227</td>\n",
       "    </tr>\n",
       "    <tr>\n",
       "      <th>1991-02-28</th>\n",
       "      <td>0.522321</td>\n",
       "      <td>0.502232</td>\n",
       "      <td>0.520089</td>\n",
       "      <td>0.511161</td>\n",
       "      <td>227360000.0</td>\n",
       "      <td>0.413715</td>\n",
       "    </tr>\n",
       "    <tr>\n",
       "      <th>1991-03-31</th>\n",
       "      <td>NaN</td>\n",
       "      <td>NaN</td>\n",
       "      <td>NaN</td>\n",
       "      <td>NaN</td>\n",
       "      <td>NaN</td>\n",
       "      <td>NaN</td>\n",
       "    </tr>\n",
       "    <tr>\n",
       "      <th>1991-04-30</th>\n",
       "      <td>0.520089</td>\n",
       "      <td>0.486607</td>\n",
       "      <td>0.515625</td>\n",
       "      <td>0.491071</td>\n",
       "      <td>711446400.0</td>\n",
       "      <td>0.397455</td>\n",
       "    </tr>\n",
       "    <tr>\n",
       "      <th>1991-05-31</th>\n",
       "      <td>0.426339</td>\n",
       "      <td>0.412946</td>\n",
       "      <td>0.424107</td>\n",
       "      <td>0.419643</td>\n",
       "      <td>217862400.0</td>\n",
       "      <td>0.340513</td>\n",
       "    </tr>\n",
       "    <tr>\n",
       "      <th>...</th>\n",
       "      <td>...</td>\n",
       "      <td>...</td>\n",
       "      <td>...</td>\n",
       "      <td>...</td>\n",
       "      <td>...</td>\n",
       "      <td>...</td>\n",
       "    </tr>\n",
       "    <tr>\n",
       "      <th>2020-08-31</th>\n",
       "      <td>131.000000</td>\n",
       "      <td>126.000000</td>\n",
       "      <td>127.580002</td>\n",
       "      <td>129.039993</td>\n",
       "      <td>225702700.0</td>\n",
       "      <td>127.500885</td>\n",
       "    </tr>\n",
       "    <tr>\n",
       "      <th>2020-09-30</th>\n",
       "      <td>117.260002</td>\n",
       "      <td>113.620003</td>\n",
       "      <td>113.790001</td>\n",
       "      <td>115.809998</td>\n",
       "      <td>142675200.0</td>\n",
       "      <td>114.428680</td>\n",
       "    </tr>\n",
       "    <tr>\n",
       "      <th>2020-10-31</th>\n",
       "      <td>NaN</td>\n",
       "      <td>NaN</td>\n",
       "      <td>NaN</td>\n",
       "      <td>NaN</td>\n",
       "      <td>NaN</td>\n",
       "      <td>NaN</td>\n",
       "    </tr>\n",
       "    <tr>\n",
       "      <th>2020-11-30</th>\n",
       "      <td>120.970001</td>\n",
       "      <td>116.809998</td>\n",
       "      <td>116.970001</td>\n",
       "      <td>119.050003</td>\n",
       "      <td>169410200.0</td>\n",
       "      <td>117.832977</td>\n",
       "    </tr>\n",
       "    <tr>\n",
       "      <th>2020-12-31</th>\n",
       "      <td>134.740005</td>\n",
       "      <td>131.720001</td>\n",
       "      <td>134.080002</td>\n",
       "      <td>132.690002</td>\n",
       "      <td>99116600.0</td>\n",
       "      <td>131.333527</td>\n",
       "    </tr>\n",
       "  </tbody>\n",
       "</table>\n",
       "<p>360 rows × 6 columns</p>\n",
       "</div>"
      ],
      "text/plain": [
       "                  High         Low        Open       Close       Volume  \\\n",
       "Date                                                                      \n",
       "1991-01-31    0.500000    0.488839    0.495536    0.495536  242592000.0   \n",
       "1991-02-28    0.522321    0.502232    0.520089    0.511161  227360000.0   \n",
       "1991-03-31         NaN         NaN         NaN         NaN          NaN   \n",
       "1991-04-30    0.520089    0.486607    0.515625    0.491071  711446400.0   \n",
       "1991-05-31    0.426339    0.412946    0.424107    0.419643  217862400.0   \n",
       "...                ...         ...         ...         ...          ...   \n",
       "2020-08-31  131.000000  126.000000  127.580002  129.039993  225702700.0   \n",
       "2020-09-30  117.260002  113.620003  113.790001  115.809998  142675200.0   \n",
       "2020-10-31         NaN         NaN         NaN         NaN          NaN   \n",
       "2020-11-30  120.970001  116.809998  116.970001  119.050003  169410200.0   \n",
       "2020-12-31  134.740005  131.720001  134.080002  132.690002   99116600.0   \n",
       "\n",
       "             Adj Close  \n",
       "Date                    \n",
       "1991-01-31    0.400227  \n",
       "1991-02-28    0.413715  \n",
       "1991-03-31         NaN  \n",
       "1991-04-30    0.397455  \n",
       "1991-05-31    0.340513  \n",
       "...                ...  \n",
       "2020-08-31  127.500885  \n",
       "2020-09-30  114.428680  \n",
       "2020-10-31         NaN  \n",
       "2020-11-30  117.832977  \n",
       "2020-12-31  131.333527  \n",
       "\n",
       "[360 rows x 6 columns]"
      ]
     },
     "execution_count": 82,
     "metadata": {},
     "output_type": "execute_result"
    }
   ],
   "source": [
    "df_mensual"
   ]
  },
  {
   "cell_type": "code",
   "execution_count": 83,
   "metadata": {},
   "outputs": [],
   "source": [
    "df_mensual[df_mensual.isna()] =1000"
   ]
  },
  {
   "cell_type": "code",
   "execution_count": 84,
   "metadata": {},
   "outputs": [
    {
     "data": {
      "text/html": [
       "<div>\n",
       "<style scoped>\n",
       "    .dataframe tbody tr th:only-of-type {\n",
       "        vertical-align: middle;\n",
       "    }\n",
       "\n",
       "    .dataframe tbody tr th {\n",
       "        vertical-align: top;\n",
       "    }\n",
       "\n",
       "    .dataframe thead th {\n",
       "        text-align: right;\n",
       "    }\n",
       "</style>\n",
       "<table border=\"1\" class=\"dataframe\">\n",
       "  <thead>\n",
       "    <tr style=\"text-align: right;\">\n",
       "      <th></th>\n",
       "      <th>High</th>\n",
       "      <th>Low</th>\n",
       "      <th>Open</th>\n",
       "      <th>Close</th>\n",
       "      <th>Volume</th>\n",
       "      <th>Adj Close</th>\n",
       "    </tr>\n",
       "    <tr>\n",
       "      <th>Date</th>\n",
       "      <th></th>\n",
       "      <th></th>\n",
       "      <th></th>\n",
       "      <th></th>\n",
       "      <th></th>\n",
       "      <th></th>\n",
       "    </tr>\n",
       "  </thead>\n",
       "  <tbody>\n",
       "    <tr>\n",
       "      <th>1991-01-31</th>\n",
       "      <td>0.500000</td>\n",
       "      <td>0.488839</td>\n",
       "      <td>0.495536</td>\n",
       "      <td>0.495536</td>\n",
       "      <td>242592000.0</td>\n",
       "      <td>0.400227</td>\n",
       "    </tr>\n",
       "    <tr>\n",
       "      <th>1991-02-28</th>\n",
       "      <td>0.522321</td>\n",
       "      <td>0.502232</td>\n",
       "      <td>0.520089</td>\n",
       "      <td>0.511161</td>\n",
       "      <td>227360000.0</td>\n",
       "      <td>0.413715</td>\n",
       "    </tr>\n",
       "    <tr>\n",
       "      <th>1991-03-31</th>\n",
       "      <td>1000.000000</td>\n",
       "      <td>1000.000000</td>\n",
       "      <td>1000.000000</td>\n",
       "      <td>1000.000000</td>\n",
       "      <td>1000.0</td>\n",
       "      <td>1000.000000</td>\n",
       "    </tr>\n",
       "    <tr>\n",
       "      <th>1991-04-30</th>\n",
       "      <td>0.520089</td>\n",
       "      <td>0.486607</td>\n",
       "      <td>0.515625</td>\n",
       "      <td>0.491071</td>\n",
       "      <td>711446400.0</td>\n",
       "      <td>0.397455</td>\n",
       "    </tr>\n",
       "    <tr>\n",
       "      <th>1991-05-31</th>\n",
       "      <td>0.426339</td>\n",
       "      <td>0.412946</td>\n",
       "      <td>0.424107</td>\n",
       "      <td>0.419643</td>\n",
       "      <td>217862400.0</td>\n",
       "      <td>0.340513</td>\n",
       "    </tr>\n",
       "    <tr>\n",
       "      <th>...</th>\n",
       "      <td>...</td>\n",
       "      <td>...</td>\n",
       "      <td>...</td>\n",
       "      <td>...</td>\n",
       "      <td>...</td>\n",
       "      <td>...</td>\n",
       "    </tr>\n",
       "    <tr>\n",
       "      <th>2020-08-31</th>\n",
       "      <td>131.000000</td>\n",
       "      <td>126.000000</td>\n",
       "      <td>127.580002</td>\n",
       "      <td>129.039993</td>\n",
       "      <td>225702700.0</td>\n",
       "      <td>127.500885</td>\n",
       "    </tr>\n",
       "    <tr>\n",
       "      <th>2020-09-30</th>\n",
       "      <td>117.260002</td>\n",
       "      <td>113.620003</td>\n",
       "      <td>113.790001</td>\n",
       "      <td>115.809998</td>\n",
       "      <td>142675200.0</td>\n",
       "      <td>114.428680</td>\n",
       "    </tr>\n",
       "    <tr>\n",
       "      <th>2020-10-31</th>\n",
       "      <td>1000.000000</td>\n",
       "      <td>1000.000000</td>\n",
       "      <td>1000.000000</td>\n",
       "      <td>1000.000000</td>\n",
       "      <td>1000.0</td>\n",
       "      <td>1000.000000</td>\n",
       "    </tr>\n",
       "    <tr>\n",
       "      <th>2020-11-30</th>\n",
       "      <td>120.970001</td>\n",
       "      <td>116.809998</td>\n",
       "      <td>116.970001</td>\n",
       "      <td>119.050003</td>\n",
       "      <td>169410200.0</td>\n",
       "      <td>117.832977</td>\n",
       "    </tr>\n",
       "    <tr>\n",
       "      <th>2020-12-31</th>\n",
       "      <td>134.740005</td>\n",
       "      <td>131.720001</td>\n",
       "      <td>134.080002</td>\n",
       "      <td>132.690002</td>\n",
       "      <td>99116600.0</td>\n",
       "      <td>131.333527</td>\n",
       "    </tr>\n",
       "  </tbody>\n",
       "</table>\n",
       "<p>360 rows × 6 columns</p>\n",
       "</div>"
      ],
      "text/plain": [
       "                   High          Low         Open        Close       Volume  \\\n",
       "Date                                                                          \n",
       "1991-01-31     0.500000     0.488839     0.495536     0.495536  242592000.0   \n",
       "1991-02-28     0.522321     0.502232     0.520089     0.511161  227360000.0   \n",
       "1991-03-31  1000.000000  1000.000000  1000.000000  1000.000000       1000.0   \n",
       "1991-04-30     0.520089     0.486607     0.515625     0.491071  711446400.0   \n",
       "1991-05-31     0.426339     0.412946     0.424107     0.419643  217862400.0   \n",
       "...                 ...          ...          ...          ...          ...   \n",
       "2020-08-31   131.000000   126.000000   127.580002   129.039993  225702700.0   \n",
       "2020-09-30   117.260002   113.620003   113.790001   115.809998  142675200.0   \n",
       "2020-10-31  1000.000000  1000.000000  1000.000000  1000.000000       1000.0   \n",
       "2020-11-30   120.970001   116.809998   116.970001   119.050003  169410200.0   \n",
       "2020-12-31   134.740005   131.720001   134.080002   132.690002   99116600.0   \n",
       "\n",
       "              Adj Close  \n",
       "Date                     \n",
       "1991-01-31     0.400227  \n",
       "1991-02-28     0.413715  \n",
       "1991-03-31  1000.000000  \n",
       "1991-04-30     0.397455  \n",
       "1991-05-31     0.340513  \n",
       "...                 ...  \n",
       "2020-08-31   127.500885  \n",
       "2020-09-30   114.428680  \n",
       "2020-10-31  1000.000000  \n",
       "2020-11-30   117.832977  \n",
       "2020-12-31   131.333527  \n",
       "\n",
       "[360 rows x 6 columns]"
      ]
     },
     "execution_count": 84,
     "metadata": {},
     "output_type": "execute_result"
    }
   ],
   "source": [
    "df_mensual"
   ]
  },
  {
   "cell_type": "code",
   "execution_count": 85,
   "metadata": {},
   "outputs": [],
   "source": [
    "df_ch= df.reset_index()"
   ]
  },
  {
   "cell_type": "code",
   "execution_count": 86,
   "metadata": {},
   "outputs": [
    {
     "data": {
      "text/html": [
       "<div>\n",
       "<style scoped>\n",
       "    .dataframe tbody tr th:only-of-type {\n",
       "        vertical-align: middle;\n",
       "    }\n",
       "\n",
       "    .dataframe tbody tr th {\n",
       "        vertical-align: top;\n",
       "    }\n",
       "\n",
       "    .dataframe thead th {\n",
       "        text-align: right;\n",
       "    }\n",
       "</style>\n",
       "<table border=\"1\" class=\"dataframe\">\n",
       "  <thead>\n",
       "    <tr style=\"text-align: right;\">\n",
       "      <th></th>\n",
       "      <th>Date</th>\n",
       "      <th>High</th>\n",
       "      <th>Low</th>\n",
       "      <th>Open</th>\n",
       "      <th>Close</th>\n",
       "      <th>Volume</th>\n",
       "      <th>Adj Close</th>\n",
       "    </tr>\n",
       "  </thead>\n",
       "  <tbody>\n",
       "    <tr>\n",
       "      <th>0</th>\n",
       "      <td>1991-01-02</td>\n",
       "      <td>0.392857</td>\n",
       "      <td>0.375000</td>\n",
       "      <td>0.381696</td>\n",
       "      <td>0.388393</td>\n",
       "      <td>154985600.0</td>\n",
       "      <td>0.313691</td>\n",
       "    </tr>\n",
       "    <tr>\n",
       "      <th>1</th>\n",
       "      <td>1991-01-03</td>\n",
       "      <td>0.395089</td>\n",
       "      <td>0.383929</td>\n",
       "      <td>0.388393</td>\n",
       "      <td>0.383929</td>\n",
       "      <td>150180800.0</td>\n",
       "      <td>0.310086</td>\n",
       "    </tr>\n",
       "    <tr>\n",
       "      <th>2</th>\n",
       "      <td>1991-01-04</td>\n",
       "      <td>0.395089</td>\n",
       "      <td>0.383929</td>\n",
       "      <td>0.383929</td>\n",
       "      <td>0.386161</td>\n",
       "      <td>141523200.0</td>\n",
       "      <td>0.311889</td>\n",
       "    </tr>\n",
       "    <tr>\n",
       "      <th>3</th>\n",
       "      <td>1991-01-07</td>\n",
       "      <td>0.404018</td>\n",
       "      <td>0.383929</td>\n",
       "      <td>0.383929</td>\n",
       "      <td>0.386161</td>\n",
       "      <td>310800000.0</td>\n",
       "      <td>0.311889</td>\n",
       "    </tr>\n",
       "    <tr>\n",
       "      <th>4</th>\n",
       "      <td>1991-01-08</td>\n",
       "      <td>0.391741</td>\n",
       "      <td>0.379464</td>\n",
       "      <td>0.390625</td>\n",
       "      <td>0.386161</td>\n",
       "      <td>218691200.0</td>\n",
       "      <td>0.311889</td>\n",
       "    </tr>\n",
       "    <tr>\n",
       "      <th>...</th>\n",
       "      <td>...</td>\n",
       "      <td>...</td>\n",
       "      <td>...</td>\n",
       "      <td>...</td>\n",
       "      <td>...</td>\n",
       "      <td>...</td>\n",
       "      <td>...</td>\n",
       "    </tr>\n",
       "    <tr>\n",
       "      <th>7554</th>\n",
       "      <td>2020-12-24</td>\n",
       "      <td>133.460007</td>\n",
       "      <td>131.100006</td>\n",
       "      <td>131.320007</td>\n",
       "      <td>131.970001</td>\n",
       "      <td>54930100.0</td>\n",
       "      <td>130.620880</td>\n",
       "    </tr>\n",
       "    <tr>\n",
       "      <th>7555</th>\n",
       "      <td>2020-12-28</td>\n",
       "      <td>137.339996</td>\n",
       "      <td>133.509995</td>\n",
       "      <td>133.990005</td>\n",
       "      <td>136.690002</td>\n",
       "      <td>124486200.0</td>\n",
       "      <td>135.292648</td>\n",
       "    </tr>\n",
       "    <tr>\n",
       "      <th>7556</th>\n",
       "      <td>2020-12-29</td>\n",
       "      <td>138.789993</td>\n",
       "      <td>134.339996</td>\n",
       "      <td>138.050003</td>\n",
       "      <td>134.869995</td>\n",
       "      <td>121047300.0</td>\n",
       "      <td>133.491241</td>\n",
       "    </tr>\n",
       "    <tr>\n",
       "      <th>7557</th>\n",
       "      <td>2020-12-30</td>\n",
       "      <td>135.990005</td>\n",
       "      <td>133.399994</td>\n",
       "      <td>135.580002</td>\n",
       "      <td>133.720001</td>\n",
       "      <td>96452100.0</td>\n",
       "      <td>132.353027</td>\n",
       "    </tr>\n",
       "    <tr>\n",
       "      <th>7558</th>\n",
       "      <td>2020-12-31</td>\n",
       "      <td>134.740005</td>\n",
       "      <td>131.720001</td>\n",
       "      <td>134.080002</td>\n",
       "      <td>132.690002</td>\n",
       "      <td>99116600.0</td>\n",
       "      <td>131.333527</td>\n",
       "    </tr>\n",
       "  </tbody>\n",
       "</table>\n",
       "<p>7559 rows × 7 columns</p>\n",
       "</div>"
      ],
      "text/plain": [
       "           Date        High         Low        Open       Close       Volume  \\\n",
       "0    1991-01-02    0.392857    0.375000    0.381696    0.388393  154985600.0   \n",
       "1    1991-01-03    0.395089    0.383929    0.388393    0.383929  150180800.0   \n",
       "2    1991-01-04    0.395089    0.383929    0.383929    0.386161  141523200.0   \n",
       "3    1991-01-07    0.404018    0.383929    0.383929    0.386161  310800000.0   \n",
       "4    1991-01-08    0.391741    0.379464    0.390625    0.386161  218691200.0   \n",
       "...         ...         ...         ...         ...         ...          ...   \n",
       "7554 2020-12-24  133.460007  131.100006  131.320007  131.970001   54930100.0   \n",
       "7555 2020-12-28  137.339996  133.509995  133.990005  136.690002  124486200.0   \n",
       "7556 2020-12-29  138.789993  134.339996  138.050003  134.869995  121047300.0   \n",
       "7557 2020-12-30  135.990005  133.399994  135.580002  133.720001   96452100.0   \n",
       "7558 2020-12-31  134.740005  131.720001  134.080002  132.690002   99116600.0   \n",
       "\n",
       "       Adj Close  \n",
       "0       0.313691  \n",
       "1       0.310086  \n",
       "2       0.311889  \n",
       "3       0.311889  \n",
       "4       0.311889  \n",
       "...          ...  \n",
       "7554  130.620880  \n",
       "7555  135.292648  \n",
       "7556  133.491241  \n",
       "7557  132.353027  \n",
       "7558  131.333527  \n",
       "\n",
       "[7559 rows x 7 columns]"
      ]
     },
     "execution_count": 86,
     "metadata": {},
     "output_type": "execute_result"
    }
   ],
   "source": [
    "df_ch"
   ]
  },
  {
   "cell_type": "code",
   "execution_count": 87,
   "metadata": {},
   "outputs": [],
   "source": [
    "df_ch= df.reset_index(drop=True)"
   ]
  },
  {
   "cell_type": "code",
   "execution_count": 88,
   "metadata": {},
   "outputs": [
    {
     "data": {
      "text/html": [
       "<div>\n",
       "<style scoped>\n",
       "    .dataframe tbody tr th:only-of-type {\n",
       "        vertical-align: middle;\n",
       "    }\n",
       "\n",
       "    .dataframe tbody tr th {\n",
       "        vertical-align: top;\n",
       "    }\n",
       "\n",
       "    .dataframe thead th {\n",
       "        text-align: right;\n",
       "    }\n",
       "</style>\n",
       "<table border=\"1\" class=\"dataframe\">\n",
       "  <thead>\n",
       "    <tr style=\"text-align: right;\">\n",
       "      <th></th>\n",
       "      <th>High</th>\n",
       "      <th>Low</th>\n",
       "      <th>Open</th>\n",
       "      <th>Close</th>\n",
       "      <th>Volume</th>\n",
       "      <th>Adj Close</th>\n",
       "    </tr>\n",
       "  </thead>\n",
       "  <tbody>\n",
       "    <tr>\n",
       "      <th>0</th>\n",
       "      <td>0.392857</td>\n",
       "      <td>0.375000</td>\n",
       "      <td>0.381696</td>\n",
       "      <td>0.388393</td>\n",
       "      <td>154985600.0</td>\n",
       "      <td>0.313691</td>\n",
       "    </tr>\n",
       "    <tr>\n",
       "      <th>1</th>\n",
       "      <td>0.395089</td>\n",
       "      <td>0.383929</td>\n",
       "      <td>0.388393</td>\n",
       "      <td>0.383929</td>\n",
       "      <td>150180800.0</td>\n",
       "      <td>0.310086</td>\n",
       "    </tr>\n",
       "    <tr>\n",
       "      <th>2</th>\n",
       "      <td>0.395089</td>\n",
       "      <td>0.383929</td>\n",
       "      <td>0.383929</td>\n",
       "      <td>0.386161</td>\n",
       "      <td>141523200.0</td>\n",
       "      <td>0.311889</td>\n",
       "    </tr>\n",
       "    <tr>\n",
       "      <th>3</th>\n",
       "      <td>0.404018</td>\n",
       "      <td>0.383929</td>\n",
       "      <td>0.383929</td>\n",
       "      <td>0.386161</td>\n",
       "      <td>310800000.0</td>\n",
       "      <td>0.311889</td>\n",
       "    </tr>\n",
       "    <tr>\n",
       "      <th>4</th>\n",
       "      <td>0.391741</td>\n",
       "      <td>0.379464</td>\n",
       "      <td>0.390625</td>\n",
       "      <td>0.386161</td>\n",
       "      <td>218691200.0</td>\n",
       "      <td>0.311889</td>\n",
       "    </tr>\n",
       "    <tr>\n",
       "      <th>...</th>\n",
       "      <td>...</td>\n",
       "      <td>...</td>\n",
       "      <td>...</td>\n",
       "      <td>...</td>\n",
       "      <td>...</td>\n",
       "      <td>...</td>\n",
       "    </tr>\n",
       "    <tr>\n",
       "      <th>7554</th>\n",
       "      <td>133.460007</td>\n",
       "      <td>131.100006</td>\n",
       "      <td>131.320007</td>\n",
       "      <td>131.970001</td>\n",
       "      <td>54930100.0</td>\n",
       "      <td>130.620880</td>\n",
       "    </tr>\n",
       "    <tr>\n",
       "      <th>7555</th>\n",
       "      <td>137.339996</td>\n",
       "      <td>133.509995</td>\n",
       "      <td>133.990005</td>\n",
       "      <td>136.690002</td>\n",
       "      <td>124486200.0</td>\n",
       "      <td>135.292648</td>\n",
       "    </tr>\n",
       "    <tr>\n",
       "      <th>7556</th>\n",
       "      <td>138.789993</td>\n",
       "      <td>134.339996</td>\n",
       "      <td>138.050003</td>\n",
       "      <td>134.869995</td>\n",
       "      <td>121047300.0</td>\n",
       "      <td>133.491241</td>\n",
       "    </tr>\n",
       "    <tr>\n",
       "      <th>7557</th>\n",
       "      <td>135.990005</td>\n",
       "      <td>133.399994</td>\n",
       "      <td>135.580002</td>\n",
       "      <td>133.720001</td>\n",
       "      <td>96452100.0</td>\n",
       "      <td>132.353027</td>\n",
       "    </tr>\n",
       "    <tr>\n",
       "      <th>7558</th>\n",
       "      <td>134.740005</td>\n",
       "      <td>131.720001</td>\n",
       "      <td>134.080002</td>\n",
       "      <td>132.690002</td>\n",
       "      <td>99116600.0</td>\n",
       "      <td>131.333527</td>\n",
       "    </tr>\n",
       "  </tbody>\n",
       "</table>\n",
       "<p>7559 rows × 6 columns</p>\n",
       "</div>"
      ],
      "text/plain": [
       "            High         Low        Open       Close       Volume   Adj Close\n",
       "0       0.392857    0.375000    0.381696    0.388393  154985600.0    0.313691\n",
       "1       0.395089    0.383929    0.388393    0.383929  150180800.0    0.310086\n",
       "2       0.395089    0.383929    0.383929    0.386161  141523200.0    0.311889\n",
       "3       0.404018    0.383929    0.383929    0.386161  310800000.0    0.311889\n",
       "4       0.391741    0.379464    0.390625    0.386161  218691200.0    0.311889\n",
       "...          ...         ...         ...         ...          ...         ...\n",
       "7554  133.460007  131.100006  131.320007  131.970001   54930100.0  130.620880\n",
       "7555  137.339996  133.509995  133.990005  136.690002  124486200.0  135.292648\n",
       "7556  138.789993  134.339996  138.050003  134.869995  121047300.0  133.491241\n",
       "7557  135.990005  133.399994  135.580002  133.720001   96452100.0  132.353027\n",
       "7558  134.740005  131.720001  134.080002  132.690002   99116600.0  131.333527\n",
       "\n",
       "[7559 rows x 6 columns]"
      ]
     },
     "execution_count": 88,
     "metadata": {},
     "output_type": "execute_result"
    }
   ],
   "source": [
    "df_ch"
   ]
  },
  {
   "cell_type": "code",
   "execution_count": 89,
   "metadata": {},
   "outputs": [
    {
     "data": {
      "text/html": [
       "<div>\n",
       "<style scoped>\n",
       "    .dataframe tbody tr th:only-of-type {\n",
       "        vertical-align: middle;\n",
       "    }\n",
       "\n",
       "    .dataframe tbody tr th {\n",
       "        vertical-align: top;\n",
       "    }\n",
       "\n",
       "    .dataframe thead th {\n",
       "        text-align: right;\n",
       "    }\n",
       "</style>\n",
       "<table border=\"1\" class=\"dataframe\">\n",
       "  <thead>\n",
       "    <tr style=\"text-align: right;\">\n",
       "      <th></th>\n",
       "      <th>High</th>\n",
       "      <th>Low</th>\n",
       "      <th>Open</th>\n",
       "      <th>Close</th>\n",
       "      <th>Volume</th>\n",
       "      <th>Adj Close</th>\n",
       "    </tr>\n",
       "    <tr>\n",
       "      <th>Date</th>\n",
       "      <th></th>\n",
       "      <th></th>\n",
       "      <th></th>\n",
       "      <th></th>\n",
       "      <th></th>\n",
       "      <th></th>\n",
       "    </tr>\n",
       "  </thead>\n",
       "  <tbody>\n",
       "    <tr>\n",
       "      <th>1991-03-29</th>\n",
       "      <td>NaN</td>\n",
       "      <td>NaN</td>\n",
       "      <td>NaN</td>\n",
       "      <td>NaN</td>\n",
       "      <td>NaN</td>\n",
       "      <td>NaN</td>\n",
       "    </tr>\n",
       "    <tr>\n",
       "      <th>1991-06-28</th>\n",
       "      <td>0.379464</td>\n",
       "      <td>0.359375</td>\n",
       "      <td>0.377232</td>\n",
       "      <td>0.370536</td>\n",
       "      <td>226643200.0</td>\n",
       "      <td>0.300666</td>\n",
       "    </tr>\n",
       "    <tr>\n",
       "      <th>1991-09-30</th>\n",
       "      <td>0.444196</td>\n",
       "      <td>0.437500</td>\n",
       "      <td>0.439732</td>\n",
       "      <td>0.441964</td>\n",
       "      <td>63201600.0</td>\n",
       "      <td>0.359435</td>\n",
       "    </tr>\n",
       "    <tr>\n",
       "      <th>1991-12-31</th>\n",
       "      <td>0.517857</td>\n",
       "      <td>0.500000</td>\n",
       "      <td>0.512277</td>\n",
       "      <td>0.503348</td>\n",
       "      <td>134030400.0</td>\n",
       "      <td>0.410341</td>\n",
       "    </tr>\n",
       "    <tr>\n",
       "      <th>1992-03-31</th>\n",
       "      <td>0.533482</td>\n",
       "      <td>0.517857</td>\n",
       "      <td>0.520089</td>\n",
       "      <td>0.520089</td>\n",
       "      <td>212632000.0</td>\n",
       "      <td>0.424781</td>\n",
       "    </tr>\n",
       "  </tbody>\n",
       "</table>\n",
       "</div>"
      ],
      "text/plain": [
       "                High       Low      Open     Close       Volume  Adj Close\n",
       "Date                                                                      \n",
       "1991-03-29       NaN       NaN       NaN       NaN          NaN        NaN\n",
       "1991-06-28  0.379464  0.359375  0.377232  0.370536  226643200.0   0.300666\n",
       "1991-09-30  0.444196  0.437500  0.439732  0.441964   63201600.0   0.359435\n",
       "1991-12-31  0.517857  0.500000  0.512277  0.503348  134030400.0   0.410341\n",
       "1992-03-31  0.533482  0.517857  0.520089  0.520089  212632000.0   0.424781"
      ]
     },
     "execution_count": 89,
     "metadata": {},
     "output_type": "execute_result"
    }
   ],
   "source": [
    "df.asfreq('BQ').head() #Ultimo dia de mes de cada trimestre"
   ]
  },
  {
   "cell_type": "code",
   "execution_count": 92,
   "metadata": {},
   "outputs": [],
   "source": [
    "df[\"Variacion_High\"]=df[\"High\"]/df[\"High\"].shift(1)-1 # Si es positivo mira para arriba, si es negativo abajo"
   ]
  },
  {
   "cell_type": "code",
   "execution_count": 93,
   "metadata": {},
   "outputs": [
    {
     "data": {
      "text/html": [
       "<div>\n",
       "<style scoped>\n",
       "    .dataframe tbody tr th:only-of-type {\n",
       "        vertical-align: middle;\n",
       "    }\n",
       "\n",
       "    .dataframe tbody tr th {\n",
       "        vertical-align: top;\n",
       "    }\n",
       "\n",
       "    .dataframe thead th {\n",
       "        text-align: right;\n",
       "    }\n",
       "</style>\n",
       "<table border=\"1\" class=\"dataframe\">\n",
       "  <thead>\n",
       "    <tr style=\"text-align: right;\">\n",
       "      <th></th>\n",
       "      <th>High</th>\n",
       "      <th>Low</th>\n",
       "      <th>Open</th>\n",
       "      <th>Close</th>\n",
       "      <th>Volume</th>\n",
       "      <th>Adj Close</th>\n",
       "      <th>Variacion_High</th>\n",
       "    </tr>\n",
       "    <tr>\n",
       "      <th>Date</th>\n",
       "      <th></th>\n",
       "      <th></th>\n",
       "      <th></th>\n",
       "      <th></th>\n",
       "      <th></th>\n",
       "      <th></th>\n",
       "      <th></th>\n",
       "    </tr>\n",
       "  </thead>\n",
       "  <tbody>\n",
       "    <tr>\n",
       "      <th>1991-01-02</th>\n",
       "      <td>0.392857</td>\n",
       "      <td>0.375000</td>\n",
       "      <td>0.381696</td>\n",
       "      <td>0.388393</td>\n",
       "      <td>154985600.0</td>\n",
       "      <td>0.313691</td>\n",
       "      <td>NaN</td>\n",
       "    </tr>\n",
       "    <tr>\n",
       "      <th>1991-01-03</th>\n",
       "      <td>0.395089</td>\n",
       "      <td>0.383929</td>\n",
       "      <td>0.388393</td>\n",
       "      <td>0.383929</td>\n",
       "      <td>150180800.0</td>\n",
       "      <td>0.310086</td>\n",
       "      <td>0.005681</td>\n",
       "    </tr>\n",
       "    <tr>\n",
       "      <th>1991-01-04</th>\n",
       "      <td>0.395089</td>\n",
       "      <td>0.383929</td>\n",
       "      <td>0.383929</td>\n",
       "      <td>0.386161</td>\n",
       "      <td>141523200.0</td>\n",
       "      <td>0.311889</td>\n",
       "      <td>0.000000</td>\n",
       "    </tr>\n",
       "    <tr>\n",
       "      <th>1991-01-07</th>\n",
       "      <td>0.404018</td>\n",
       "      <td>0.383929</td>\n",
       "      <td>0.383929</td>\n",
       "      <td>0.386161</td>\n",
       "      <td>310800000.0</td>\n",
       "      <td>0.311889</td>\n",
       "      <td>0.022600</td>\n",
       "    </tr>\n",
       "    <tr>\n",
       "      <th>1991-01-08</th>\n",
       "      <td>0.391741</td>\n",
       "      <td>0.379464</td>\n",
       "      <td>0.390625</td>\n",
       "      <td>0.386161</td>\n",
       "      <td>218691200.0</td>\n",
       "      <td>0.311889</td>\n",
       "      <td>-0.030387</td>\n",
       "    </tr>\n",
       "    <tr>\n",
       "      <th>...</th>\n",
       "      <td>...</td>\n",
       "      <td>...</td>\n",
       "      <td>...</td>\n",
       "      <td>...</td>\n",
       "      <td>...</td>\n",
       "      <td>...</td>\n",
       "      <td>...</td>\n",
       "    </tr>\n",
       "    <tr>\n",
       "      <th>2020-12-24</th>\n",
       "      <td>133.460007</td>\n",
       "      <td>131.100006</td>\n",
       "      <td>131.320007</td>\n",
       "      <td>131.970001</td>\n",
       "      <td>54930100.0</td>\n",
       "      <td>130.620880</td>\n",
       "      <td>0.007778</td>\n",
       "    </tr>\n",
       "    <tr>\n",
       "      <th>2020-12-28</th>\n",
       "      <td>137.339996</td>\n",
       "      <td>133.509995</td>\n",
       "      <td>133.990005</td>\n",
       "      <td>136.690002</td>\n",
       "      <td>124486200.0</td>\n",
       "      <td>135.292648</td>\n",
       "      <td>0.029072</td>\n",
       "    </tr>\n",
       "    <tr>\n",
       "      <th>2020-12-29</th>\n",
       "      <td>138.789993</td>\n",
       "      <td>134.339996</td>\n",
       "      <td>138.050003</td>\n",
       "      <td>134.869995</td>\n",
       "      <td>121047300.0</td>\n",
       "      <td>133.491241</td>\n",
       "      <td>0.010558</td>\n",
       "    </tr>\n",
       "    <tr>\n",
       "      <th>2020-12-30</th>\n",
       "      <td>135.990005</td>\n",
       "      <td>133.399994</td>\n",
       "      <td>135.580002</td>\n",
       "      <td>133.720001</td>\n",
       "      <td>96452100.0</td>\n",
       "      <td>132.353027</td>\n",
       "      <td>-0.020174</td>\n",
       "    </tr>\n",
       "    <tr>\n",
       "      <th>2020-12-31</th>\n",
       "      <td>134.740005</td>\n",
       "      <td>131.720001</td>\n",
       "      <td>134.080002</td>\n",
       "      <td>132.690002</td>\n",
       "      <td>99116600.0</td>\n",
       "      <td>131.333527</td>\n",
       "      <td>-0.009192</td>\n",
       "    </tr>\n",
       "  </tbody>\n",
       "</table>\n",
       "<p>7559 rows × 7 columns</p>\n",
       "</div>"
      ],
      "text/plain": [
       "                  High         Low        Open       Close       Volume  \\\n",
       "Date                                                                      \n",
       "1991-01-02    0.392857    0.375000    0.381696    0.388393  154985600.0   \n",
       "1991-01-03    0.395089    0.383929    0.388393    0.383929  150180800.0   \n",
       "1991-01-04    0.395089    0.383929    0.383929    0.386161  141523200.0   \n",
       "1991-01-07    0.404018    0.383929    0.383929    0.386161  310800000.0   \n",
       "1991-01-08    0.391741    0.379464    0.390625    0.386161  218691200.0   \n",
       "...                ...         ...         ...         ...          ...   \n",
       "2020-12-24  133.460007  131.100006  131.320007  131.970001   54930100.0   \n",
       "2020-12-28  137.339996  133.509995  133.990005  136.690002  124486200.0   \n",
       "2020-12-29  138.789993  134.339996  138.050003  134.869995  121047300.0   \n",
       "2020-12-30  135.990005  133.399994  135.580002  133.720001   96452100.0   \n",
       "2020-12-31  134.740005  131.720001  134.080002  132.690002   99116600.0   \n",
       "\n",
       "             Adj Close  Variacion_High  \n",
       "Date                                    \n",
       "1991-01-02    0.313691             NaN  \n",
       "1991-01-03    0.310086        0.005681  \n",
       "1991-01-04    0.311889        0.000000  \n",
       "1991-01-07    0.311889        0.022600  \n",
       "1991-01-08    0.311889       -0.030387  \n",
       "...                ...             ...  \n",
       "2020-12-24  130.620880        0.007778  \n",
       "2020-12-28  135.292648        0.029072  \n",
       "2020-12-29  133.491241        0.010558  \n",
       "2020-12-30  132.353027       -0.020174  \n",
       "2020-12-31  131.333527       -0.009192  \n",
       "\n",
       "[7559 rows x 7 columns]"
      ]
     },
     "execution_count": 93,
     "metadata": {},
     "output_type": "execute_result"
    }
   ],
   "source": [
    "df"
   ]
  },
  {
   "cell_type": "code",
   "execution_count": 106,
   "metadata": {},
   "outputs": [
    {
     "data": {
      "text/plain": [
       "<AxesSubplot: xlabel='Date'>"
      ]
     },
     "execution_count": 106,
     "metadata": {},
     "output_type": "execute_result"
    },
    {
     "data": {
      "image/png": "[encoded data removed]",
      "text/plain": [
       "<Figure size 640x480 with 1 Axes>"
      ]
     },
     "metadata": {},
     "output_type": "display_data"
    }
   ],
   "source": [
    "df[\"Variacion_High\"].plot()"
   ]
  },
  {
   "cell_type": "code",
   "execution_count": 107,
   "metadata": {},
   "outputs": [
    {
     "data": {
      "text/plain": [
       "<AxesSubplot: xlabel='Date'>"
      ]
     },
     "execution_count": 107,
     "metadata": {},
     "output_type": "execute_result"
    },
    {
     "data": {
      "image/png": "[encoded data removed]",
      "text/plain": [
       "<Figure size 640x480 with 1 Axes>"
      ]
     },
     "metadata": {},
     "output_type": "display_data"
    }
   ],
   "source": [
    "df[\"High\"].plot()"
   ]
  },
  {
   "cell_type": "code",
   "execution_count": 102,
   "metadata": {},
   "outputs": [],
   "source": [
    "df[\"Medias_Moviles_High\"]=df[\"High\"].rolling(window=5).mean()"
   ]
  },
  {
   "cell_type": "code",
   "execution_count": 103,
   "metadata": {},
   "outputs": [
    {
     "data": {
      "text/html": [
       "<div>\n",
       "<style scoped>\n",
       "    .dataframe tbody tr th:only-of-type {\n",
       "        vertical-align: middle;\n",
       "    }\n",
       "\n",
       "    .dataframe tbody tr th {\n",
       "        vertical-align: top;\n",
       "    }\n",
       "\n",
       "    .dataframe thead th {\n",
       "        text-align: right;\n",
       "    }\n",
       "</style>\n",
       "<table border=\"1\" class=\"dataframe\">\n",
       "  <thead>\n",
       "    <tr style=\"text-align: right;\">\n",
       "      <th></th>\n",
       "      <th>High</th>\n",
       "      <th>Low</th>\n",
       "      <th>Open</th>\n",
       "      <th>Close</th>\n",
       "      <th>Volume</th>\n",
       "      <th>Adj Close</th>\n",
       "      <th>Variacion_High</th>\n",
       "      <th>Medias_Moviles_High</th>\n",
       "    </tr>\n",
       "    <tr>\n",
       "      <th>Date</th>\n",
       "      <th></th>\n",
       "      <th></th>\n",
       "      <th></th>\n",
       "      <th></th>\n",
       "      <th></th>\n",
       "      <th></th>\n",
       "      <th></th>\n",
       "      <th></th>\n",
       "    </tr>\n",
       "  </thead>\n",
       "  <tbody>\n",
       "    <tr>\n",
       "      <th>1991-01-02</th>\n",
       "      <td>0.392857</td>\n",
       "      <td>0.375000</td>\n",
       "      <td>0.381696</td>\n",
       "      <td>0.388393</td>\n",
       "      <td>154985600.0</td>\n",
       "      <td>0.313691</td>\n",
       "      <td>NaN</td>\n",
       "      <td>NaN</td>\n",
       "    </tr>\n",
       "    <tr>\n",
       "      <th>1991-01-03</th>\n",
       "      <td>0.395089</td>\n",
       "      <td>0.383929</td>\n",
       "      <td>0.388393</td>\n",
       "      <td>0.383929</td>\n",
       "      <td>150180800.0</td>\n",
       "      <td>0.310086</td>\n",
       "      <td>0.005681</td>\n",
       "      <td>NaN</td>\n",
       "    </tr>\n",
       "    <tr>\n",
       "      <th>1991-01-04</th>\n",
       "      <td>0.395089</td>\n",
       "      <td>0.383929</td>\n",
       "      <td>0.383929</td>\n",
       "      <td>0.386161</td>\n",
       "      <td>141523200.0</td>\n",
       "      <td>0.311889</td>\n",
       "      <td>0.000000</td>\n",
       "      <td>NaN</td>\n",
       "    </tr>\n",
       "    <tr>\n",
       "      <th>1991-01-07</th>\n",
       "      <td>0.404018</td>\n",
       "      <td>0.383929</td>\n",
       "      <td>0.383929</td>\n",
       "      <td>0.386161</td>\n",
       "      <td>310800000.0</td>\n",
       "      <td>0.311889</td>\n",
       "      <td>0.022600</td>\n",
       "      <td>NaN</td>\n",
       "    </tr>\n",
       "    <tr>\n",
       "      <th>1991-01-08</th>\n",
       "      <td>0.391741</td>\n",
       "      <td>0.379464</td>\n",
       "      <td>0.390625</td>\n",
       "      <td>0.386161</td>\n",
       "      <td>218691200.0</td>\n",
       "      <td>0.311889</td>\n",
       "      <td>-0.030387</td>\n",
       "      <td>0.395759</td>\n",
       "    </tr>\n",
       "  </tbody>\n",
       "</table>\n",
       "</div>"
      ],
      "text/plain": [
       "                High       Low      Open     Close       Volume  Adj Close  \\\n",
       "Date                                                                         \n",
       "1991-01-02  0.392857  0.375000  0.381696  0.388393  154985600.0   0.313691   \n",
       "1991-01-03  0.395089  0.383929  0.388393  0.383929  150180800.0   0.310086   \n",
       "1991-01-04  0.395089  0.383929  0.383929  0.386161  141523200.0   0.311889   \n",
       "1991-01-07  0.404018  0.383929  0.383929  0.386161  310800000.0   0.311889   \n",
       "1991-01-08  0.391741  0.379464  0.390625  0.386161  218691200.0   0.311889   \n",
       "\n",
       "            Variacion_High  Medias_Moviles_High  \n",
       "Date                                             \n",
       "1991-01-02             NaN                  NaN  \n",
       "1991-01-03        0.005681                  NaN  \n",
       "1991-01-04        0.000000                  NaN  \n",
       "1991-01-07        0.022600                  NaN  \n",
       "1991-01-08       -0.030387             0.395759  "
      ]
     },
     "execution_count": 103,
     "metadata": {},
     "output_type": "execute_result"
    }
   ],
   "source": [
    "df.head()"
   ]
  },
  {
   "cell_type": "code",
   "execution_count": 109,
   "metadata": {},
   "outputs": [],
   "source": [
    "df[\"Diferencias_Volumen\"]=df[\"Volume\"].diff(periods=1)"
   ]
  },
  {
   "cell_type": "code",
   "execution_count": 110,
   "metadata": {},
   "outputs": [
    {
     "data": {
      "text/html": [
       "<div>\n",
       "<style scoped>\n",
       "    .dataframe tbody tr th:only-of-type {\n",
       "        vertical-align: middle;\n",
       "    }\n",
       "\n",
       "    .dataframe tbody tr th {\n",
       "        vertical-align: top;\n",
       "    }\n",
       "\n",
       "    .dataframe thead th {\n",
       "        text-align: right;\n",
       "    }\n",
       "</style>\n",
       "<table border=\"1\" class=\"dataframe\">\n",
       "  <thead>\n",
       "    <tr style=\"text-align: right;\">\n",
       "      <th></th>\n",
       "      <th>High</th>\n",
       "      <th>Low</th>\n",
       "      <th>Open</th>\n",
       "      <th>Close</th>\n",
       "      <th>Volume</th>\n",
       "      <th>Adj Close</th>\n",
       "      <th>Variacion_High</th>\n",
       "      <th>Medias_Moviles_High</th>\n",
       "      <th>Diferencias_Volumen</th>\n",
       "    </tr>\n",
       "    <tr>\n",
       "      <th>Date</th>\n",
       "      <th></th>\n",
       "      <th></th>\n",
       "      <th></th>\n",
       "      <th></th>\n",
       "      <th></th>\n",
       "      <th></th>\n",
       "      <th></th>\n",
       "      <th></th>\n",
       "      <th></th>\n",
       "    </tr>\n",
       "  </thead>\n",
       "  <tbody>\n",
       "    <tr>\n",
       "      <th>1991-01-02</th>\n",
       "      <td>0.392857</td>\n",
       "      <td>0.375000</td>\n",
       "      <td>0.381696</td>\n",
       "      <td>0.388393</td>\n",
       "      <td>154985600.0</td>\n",
       "      <td>0.313691</td>\n",
       "      <td>NaN</td>\n",
       "      <td>NaN</td>\n",
       "      <td>NaN</td>\n",
       "    </tr>\n",
       "    <tr>\n",
       "      <th>1991-01-03</th>\n",
       "      <td>0.395089</td>\n",
       "      <td>0.383929</td>\n",
       "      <td>0.388393</td>\n",
       "      <td>0.383929</td>\n",
       "      <td>150180800.0</td>\n",
       "      <td>0.310086</td>\n",
       "      <td>0.005681</td>\n",
       "      <td>NaN</td>\n",
       "      <td>-4804800.0</td>\n",
       "    </tr>\n",
       "    <tr>\n",
       "      <th>1991-01-04</th>\n",
       "      <td>0.395089</td>\n",
       "      <td>0.383929</td>\n",
       "      <td>0.383929</td>\n",
       "      <td>0.386161</td>\n",
       "      <td>141523200.0</td>\n",
       "      <td>0.311889</td>\n",
       "      <td>0.000000</td>\n",
       "      <td>NaN</td>\n",
       "      <td>-8657600.0</td>\n",
       "    </tr>\n",
       "    <tr>\n",
       "      <th>1991-01-07</th>\n",
       "      <td>0.404018</td>\n",
       "      <td>0.383929</td>\n",
       "      <td>0.383929</td>\n",
       "      <td>0.386161</td>\n",
       "      <td>310800000.0</td>\n",
       "      <td>0.311889</td>\n",
       "      <td>0.022600</td>\n",
       "      <td>NaN</td>\n",
       "      <td>169276800.0</td>\n",
       "    </tr>\n",
       "    <tr>\n",
       "      <th>1991-01-08</th>\n",
       "      <td>0.391741</td>\n",
       "      <td>0.379464</td>\n",
       "      <td>0.390625</td>\n",
       "      <td>0.386161</td>\n",
       "      <td>218691200.0</td>\n",
       "      <td>0.311889</td>\n",
       "      <td>-0.030387</td>\n",
       "      <td>0.395759</td>\n",
       "      <td>-92108800.0</td>\n",
       "    </tr>\n",
       "    <tr>\n",
       "      <th>...</th>\n",
       "      <td>...</td>\n",
       "      <td>...</td>\n",
       "      <td>...</td>\n",
       "      <td>...</td>\n",
       "      <td>...</td>\n",
       "      <td>...</td>\n",
       "      <td>...</td>\n",
       "      <td>...</td>\n",
       "      <td>...</td>\n",
       "    </tr>\n",
       "    <tr>\n",
       "      <th>2020-12-24</th>\n",
       "      <td>133.460007</td>\n",
       "      <td>131.100006</td>\n",
       "      <td>131.320007</td>\n",
       "      <td>131.970001</td>\n",
       "      <td>54930100.0</td>\n",
       "      <td>130.620880</td>\n",
       "      <td>0.007778</td>\n",
       "      <td>131.542001</td>\n",
       "      <td>-33293600.0</td>\n",
       "    </tr>\n",
       "    <tr>\n",
       "      <th>2020-12-28</th>\n",
       "      <td>137.339996</td>\n",
       "      <td>133.509995</td>\n",
       "      <td>133.990005</td>\n",
       "      <td>136.690002</td>\n",
       "      <td>124486200.0</td>\n",
       "      <td>135.292648</td>\n",
       "      <td>0.029072</td>\n",
       "      <td>133.189999</td>\n",
       "      <td>69556100.0</td>\n",
       "    </tr>\n",
       "    <tr>\n",
       "      <th>2020-12-29</th>\n",
       "      <td>138.789993</td>\n",
       "      <td>134.339996</td>\n",
       "      <td>138.050003</td>\n",
       "      <td>134.869995</td>\n",
       "      <td>121047300.0</td>\n",
       "      <td>133.491241</td>\n",
       "      <td>0.010558</td>\n",
       "      <td>135.285999</td>\n",
       "      <td>-3438900.0</td>\n",
       "    </tr>\n",
       "    <tr>\n",
       "      <th>2020-12-30</th>\n",
       "      <td>135.990005</td>\n",
       "      <td>133.399994</td>\n",
       "      <td>135.580002</td>\n",
       "      <td>133.720001</td>\n",
       "      <td>96452100.0</td>\n",
       "      <td>132.353027</td>\n",
       "      <td>-0.020174</td>\n",
       "      <td>135.601999</td>\n",
       "      <td>-24595200.0</td>\n",
       "    </tr>\n",
       "    <tr>\n",
       "      <th>2020-12-31</th>\n",
       "      <td>134.740005</td>\n",
       "      <td>131.720001</td>\n",
       "      <td>134.080002</td>\n",
       "      <td>132.690002</td>\n",
       "      <td>99116600.0</td>\n",
       "      <td>131.333527</td>\n",
       "      <td>-0.009192</td>\n",
       "      <td>136.064001</td>\n",
       "      <td>2664500.0</td>\n",
       "    </tr>\n",
       "  </tbody>\n",
       "</table>\n",
       "<p>7559 rows × 9 columns</p>\n",
       "</div>"
      ],
      "text/plain": [
       "                  High         Low        Open       Close       Volume  \\\n",
       "Date                                                                      \n",
       "1991-01-02    0.392857    0.375000    0.381696    0.388393  154985600.0   \n",
       "1991-01-03    0.395089    0.383929    0.388393    0.383929  150180800.0   \n",
       "1991-01-04    0.395089    0.383929    0.383929    0.386161  141523200.0   \n",
       "1991-01-07    0.404018    0.383929    0.383929    0.386161  310800000.0   \n",
       "1991-01-08    0.391741    0.379464    0.390625    0.386161  218691200.0   \n",
       "...                ...         ...         ...         ...          ...   \n",
       "2020-12-24  133.460007  131.100006  131.320007  131.970001   54930100.0   \n",
       "2020-12-28  137.339996  133.509995  133.990005  136.690002  124486200.0   \n",
       "2020-12-29  138.789993  134.339996  138.050003  134.869995  121047300.0   \n",
       "2020-12-30  135.990005  133.399994  135.580002  133.720001   96452100.0   \n",
       "2020-12-31  134.740005  131.720001  134.080002  132.690002   99116600.0   \n",
       "\n",
       "             Adj Close  Variacion_High  Medias_Moviles_High  \\\n",
       "Date                                                          \n",
       "1991-01-02    0.313691             NaN                  NaN   \n",
       "1991-01-03    0.310086        0.005681                  NaN   \n",
       "1991-01-04    0.311889        0.000000                  NaN   \n",
       "1991-01-07    0.311889        0.022600                  NaN   \n",
       "1991-01-08    0.311889       -0.030387             0.395759   \n",
       "...                ...             ...                  ...   \n",
       "2020-12-24  130.620880        0.007778           131.542001   \n",
       "2020-12-28  135.292648        0.029072           133.189999   \n",
       "2020-12-29  133.491241        0.010558           135.285999   \n",
       "2020-12-30  132.353027       -0.020174           135.601999   \n",
       "2020-12-31  131.333527       -0.009192           136.064001   \n",
       "\n",
       "            Diferencias_Volumen  \n",
       "Date                             \n",
       "1991-01-02                  NaN  \n",
       "1991-01-03           -4804800.0  \n",
       "1991-01-04           -8657600.0  \n",
       "1991-01-07          169276800.0  \n",
       "1991-01-08          -92108800.0  \n",
       "...                         ...  \n",
       "2020-12-24          -33293600.0  \n",
       "2020-12-28           69556100.0  \n",
       "2020-12-29           -3438900.0  \n",
       "2020-12-30          -24595200.0  \n",
       "2020-12-31            2664500.0  \n",
       "\n",
       "[7559 rows x 9 columns]"
      ]
     },
     "execution_count": 110,
     "metadata": {},
     "output_type": "execute_result"
    }
   ],
   "source": [
    "df"
   ]
  },
  {
   "cell_type": "code",
   "execution_count": 111,
   "metadata": {},
   "outputs": [],
   "source": [
    "df_ch[\"Diferencias_Volumen\"]=df_ch[\"Volume\"].diff(periods=1)"
   ]
  },
  {
   "cell_type": "code",
   "execution_count": 112,
   "metadata": {},
   "outputs": [
    {
     "data": {
      "text/html": [
       "<div>\n",
       "<style scoped>\n",
       "    .dataframe tbody tr th:only-of-type {\n",
       "        vertical-align: middle;\n",
       "    }\n",
       "\n",
       "    .dataframe tbody tr th {\n",
       "        vertical-align: top;\n",
       "    }\n",
       "\n",
       "    .dataframe thead th {\n",
       "        text-align: right;\n",
       "    }\n",
       "</style>\n",
       "<table border=\"1\" class=\"dataframe\">\n",
       "  <thead>\n",
       "    <tr style=\"text-align: right;\">\n",
       "      <th></th>\n",
       "      <th>High</th>\n",
       "      <th>Low</th>\n",
       "      <th>Open</th>\n",
       "      <th>Close</th>\n",
       "      <th>Volume</th>\n",
       "      <th>Adj Close</th>\n",
       "      <th>Diferencias_Volumen</th>\n",
       "    </tr>\n",
       "  </thead>\n",
       "  <tbody>\n",
       "    <tr>\n",
       "      <th>0</th>\n",
       "      <td>0.392857</td>\n",
       "      <td>0.375000</td>\n",
       "      <td>0.381696</td>\n",
       "      <td>0.388393</td>\n",
       "      <td>154985600.0</td>\n",
       "      <td>0.313691</td>\n",
       "      <td>NaN</td>\n",
       "    </tr>\n",
       "    <tr>\n",
       "      <th>1</th>\n",
       "      <td>0.395089</td>\n",
       "      <td>0.383929</td>\n",
       "      <td>0.388393</td>\n",
       "      <td>0.383929</td>\n",
       "      <td>150180800.0</td>\n",
       "      <td>0.310086</td>\n",
       "      <td>-4804800.0</td>\n",
       "    </tr>\n",
       "    <tr>\n",
       "      <th>2</th>\n",
       "      <td>0.395089</td>\n",
       "      <td>0.383929</td>\n",
       "      <td>0.383929</td>\n",
       "      <td>0.386161</td>\n",
       "      <td>141523200.0</td>\n",
       "      <td>0.311889</td>\n",
       "      <td>-8657600.0</td>\n",
       "    </tr>\n",
       "    <tr>\n",
       "      <th>3</th>\n",
       "      <td>0.404018</td>\n",
       "      <td>0.383929</td>\n",
       "      <td>0.383929</td>\n",
       "      <td>0.386161</td>\n",
       "      <td>310800000.0</td>\n",
       "      <td>0.311889</td>\n",
       "      <td>169276800.0</td>\n",
       "    </tr>\n",
       "    <tr>\n",
       "      <th>4</th>\n",
       "      <td>0.391741</td>\n",
       "      <td>0.379464</td>\n",
       "      <td>0.390625</td>\n",
       "      <td>0.386161</td>\n",
       "      <td>218691200.0</td>\n",
       "      <td>0.311889</td>\n",
       "      <td>-92108800.0</td>\n",
       "    </tr>\n",
       "    <tr>\n",
       "      <th>...</th>\n",
       "      <td>...</td>\n",
       "      <td>...</td>\n",
       "      <td>...</td>\n",
       "      <td>...</td>\n",
       "      <td>...</td>\n",
       "      <td>...</td>\n",
       "      <td>...</td>\n",
       "    </tr>\n",
       "    <tr>\n",
       "      <th>7554</th>\n",
       "      <td>133.460007</td>\n",
       "      <td>131.100006</td>\n",
       "      <td>131.320007</td>\n",
       "      <td>131.970001</td>\n",
       "      <td>54930100.0</td>\n",
       "      <td>130.620880</td>\n",
       "      <td>-33293600.0</td>\n",
       "    </tr>\n",
       "    <tr>\n",
       "      <th>7555</th>\n",
       "      <td>137.339996</td>\n",
       "      <td>133.509995</td>\n",
       "      <td>133.990005</td>\n",
       "      <td>136.690002</td>\n",
       "      <td>124486200.0</td>\n",
       "      <td>135.292648</td>\n",
       "      <td>69556100.0</td>\n",
       "    </tr>\n",
       "    <tr>\n",
       "      <th>7556</th>\n",
       "      <td>138.789993</td>\n",
       "      <td>134.339996</td>\n",
       "      <td>138.050003</td>\n",
       "      <td>134.869995</td>\n",
       "      <td>121047300.0</td>\n",
       "      <td>133.491241</td>\n",
       "      <td>-3438900.0</td>\n",
       "    </tr>\n",
       "    <tr>\n",
       "      <th>7557</th>\n",
       "      <td>135.990005</td>\n",
       "      <td>133.399994</td>\n",
       "      <td>135.580002</td>\n",
       "      <td>133.720001</td>\n",
       "      <td>96452100.0</td>\n",
       "      <td>132.353027</td>\n",
       "      <td>-24595200.0</td>\n",
       "    </tr>\n",
       "    <tr>\n",
       "      <th>7558</th>\n",
       "      <td>134.740005</td>\n",
       "      <td>131.720001</td>\n",
       "      <td>134.080002</td>\n",
       "      <td>132.690002</td>\n",
       "      <td>99116600.0</td>\n",
       "      <td>131.333527</td>\n",
       "      <td>2664500.0</td>\n",
       "    </tr>\n",
       "  </tbody>\n",
       "</table>\n",
       "<p>7559 rows × 7 columns</p>\n",
       "</div>"
      ],
      "text/plain": [
       "            High         Low        Open       Close       Volume   Adj Close  \\\n",
       "0       0.392857    0.375000    0.381696    0.388393  154985600.0    0.313691   \n",
       "1       0.395089    0.383929    0.388393    0.383929  150180800.0    0.310086   \n",
       "2       0.395089    0.383929    0.383929    0.386161  141523200.0    0.311889   \n",
       "3       0.404018    0.383929    0.383929    0.386161  310800000.0    0.311889   \n",
       "4       0.391741    0.379464    0.390625    0.386161  218691200.0    0.311889   \n",
       "...          ...         ...         ...         ...          ...         ...   \n",
       "7554  133.460007  131.100006  131.320007  131.970001   54930100.0  130.620880   \n",
       "7555  137.339996  133.509995  133.990005  136.690002  124486200.0  135.292648   \n",
       "7556  138.789993  134.339996  138.050003  134.869995  121047300.0  133.491241   \n",
       "7557  135.990005  133.399994  135.580002  133.720001   96452100.0  132.353027   \n",
       "7558  134.740005  131.720001  134.080002  132.690002   99116600.0  131.333527   \n",
       "\n",
       "      Diferencias_Volumen  \n",
       "0                     NaN  \n",
       "1              -4804800.0  \n",
       "2              -8657600.0  \n",
       "3             169276800.0  \n",
       "4             -92108800.0  \n",
       "...                   ...  \n",
       "7554          -33293600.0  \n",
       "7555           69556100.0  \n",
       "7556           -3438900.0  \n",
       "7557          -24595200.0  \n",
       "7558            2664500.0  \n",
       "\n",
       "[7559 rows x 7 columns]"
      ]
     },
     "execution_count": 112,
     "metadata": {},
     "output_type": "execute_result"
    }
   ],
   "source": [
    "df_ch"
   ]
  },
  {
   "cell_type": "code",
   "execution_count": 114,
   "metadata": {},
   "outputs": [
    {
     "data": {
      "text/plain": [
       "<AxesSubplot: >"
      ]
     },
     "execution_count": 114,
     "metadata": {},
     "output_type": "execute_result"
    },
    {
     "data": {
      "image/png": "[encoded data removed]",
      "text/plain": [
       "<Figure size 640x480 with 1 Axes>"
      ]
     },
     "metadata": {},
     "output_type": "display_data"
    }
   ],
   "source": [
    "df_ch[\"Diferencias_Volumen\"].plot()"
   ]
  },
  {
   "cell_type": "code",
   "execution_count": 115,
   "metadata": {},
   "outputs": [
    {
     "ename": "ModuleNotFoundError",
     "evalue": "No module named 'statsmodels'",
     "output_type": "error",
     "traceback": [
      "\u001b[1;31m---------------------------------------------------------------------------\u001b[0m",
      "\u001b[1;31mModuleNotFoundError\u001b[0m                       Traceback (most recent call last)",
      "Cell \u001b[1;32mIn [115], line 1\u001b[0m\n\u001b[1;32m----> 1\u001b[0m \u001b[39mimport\u001b[39;00m \u001b[39mstatsmodels\u001b[39;00m\u001b[39m.\u001b[39;00m\u001b[39mapi\u001b[39;00m \u001b[39mas\u001b[39;00m \u001b[39msm\u001b[39;00m\n",
      "\u001b[1;31mModuleNotFoundError\u001b[0m: No module named 'statsmodels'"
     ]
    }
   ],
   "source": [
    "import statsmodels.api as sm"
   ]
  },
  {
   "cell_type": "code",
   "execution_count": 118,
   "metadata": {},
   "outputs": [
    {
     "name": "stdout",
     "output_type": "stream",
     "text": [
      "Requirement already satisfied: statsmodels in c:\\users\\alvaro díaz\\.conda\\envs\\thebridge_enviroment\\lib\\site-packages (0.13.2)\n",
      "Requirement already satisfied: scipy>=1.3 in c:\\users\\alvaro díaz\\.conda\\envs\\thebridge_enviroment\\lib\\site-packages (from statsmodels) (1.9.1)\n",
      "Requirement already satisfied: packaging>=21.3 in c:\\users\\alvaro díaz\\.conda\\envs\\thebridge_enviroment\\lib\\site-packages (from statsmodels) (21.3)\n",
      "Requirement already satisfied: patsy>=0.5.2 in c:\\users\\alvaro díaz\\.conda\\envs\\thebridge_enviroment\\lib\\site-packages (from statsmodels) (0.5.3)\n",
      "Requirement already satisfied: pandas>=0.25 in c:\\users\\alvaro díaz\\.conda\\envs\\thebridge_enviroment\\lib\\site-packages (from statsmodels) (1.5.1)\n",
      "Requirement already satisfied: numpy>=1.17 in c:\\users\\alvaro díaz\\.conda\\envs\\thebridge_enviroment\\lib\\site-packages (from statsmodels) (1.23.3)\n",
      "Requirement already satisfied: pyparsing!=3.0.5,>=2.0.2 in c:\\users\\alvaro díaz\\.conda\\envs\\thebridge_enviroment\\lib\\site-packages (from packaging>=21.3->statsmodels) (3.0.9)\n",
      "Requirement already satisfied: pytz>=2020.1 in c:\\users\\alvaro díaz\\.conda\\envs\\thebridge_enviroment\\lib\\site-packages (from pandas>=0.25->statsmodels) (2022.5)\n",
      "Requirement already satisfied: python-dateutil>=2.8.1 in c:\\users\\alvaro díaz\\.conda\\envs\\thebridge_enviroment\\lib\\site-packages (from pandas>=0.25->statsmodels) (2.8.2)\n",
      "Requirement already satisfied: six in c:\\users\\alvaro díaz\\.conda\\envs\\thebridge_enviroment\\lib\\site-packages (from patsy>=0.5.2->statsmodels) (1.16.0)\n",
      "Note: you may need to restart the kernel to use updated packages.\n"
     ]
    }
   ],
   "source": [
    "pip install statsmodels\n"
   ]
  },
  {
   "cell_type": "code",
   "execution_count": 119,
   "metadata": {},
   "outputs": [],
   "source": [
    "import statsmodels.api as sm"
   ]
  },
  {
   "cell_type": "code",
   "execution_count": 120,
   "metadata": {},
   "outputs": [
    {
     "data": {
      "text/plain": [
       "(Date\n",
       " 1991-01-02    0.008232\n",
       " 1991-01-03   -0.000078\n",
       " 1991-01-04   -0.002986\n",
       " 1991-01-07   -0.007706\n",
       " 1991-01-08   -0.012439\n",
       "                 ...   \n",
       " 2020-12-24    0.361312\n",
       " 2020-12-28    4.263760\n",
       " 2020-12-29    1.695958\n",
       " 2020-12-30   -0.206038\n",
       " 2020-12-31   -1.988077\n",
       " Name: Adj Close_cycle, Length: 7559, dtype: float64,\n",
       " Date\n",
       " 1991-01-02      0.305460\n",
       " 1991-01-03      0.310164\n",
       " 1991-01-04      0.314874\n",
       " 1991-01-07      0.319594\n",
       " 1991-01-08      0.324328\n",
       "                  ...    \n",
       " 2020-12-24    130.259568\n",
       " 2020-12-28    131.028889\n",
       " 2020-12-29    131.795284\n",
       " 2020-12-30    132.559065\n",
       " 2020-12-31    133.321604\n",
       " Name: Adj Close_trend, Length: 7559, dtype: float64)"
      ]
     },
     "execution_count": 120,
     "metadata": {},
     "output_type": "execute_result"
    }
   ],
   "source": [
    "sm.tsa.filters.hpfilter(df[\"Adj Close\"])"
   ]
  },
  {
   "cell_type": "code",
   "execution_count": 121,
   "metadata": {},
   "outputs": [],
   "source": [
    "ciclo,tendencia=sm.tsa.filters.hpfilter(df[\"Adj Close\"])"
   ]
  },
  {
   "cell_type": "code",
   "execution_count": 122,
   "metadata": {},
   "outputs": [],
   "source": [
    "df[\"tendencia\"]=tendencia\n"
   ]
  },
  {
   "cell_type": "code",
   "execution_count": 123,
   "metadata": {},
   "outputs": [
    {
     "data": {
      "text/plain": [
       "<AxesSubplot: xlabel='Date'>"
      ]
     },
     "execution_count": 123,
     "metadata": {},
     "output_type": "execute_result"
    },
    {
     "data": {
      "image/png": "[encoded data removed]",
      "text/plain": [
       "<Figure size 640x480 with 1 Axes>"
      ]
     },
     "metadata": {},
     "output_type": "display_data"
    }
   ],
   "source": [
    "df[[\"Adj Close\",\"tendencia\"]].plot()"
   ]
  },
  {
   "cell_type": "code",
   "execution_count": 124,
   "metadata": {},
   "outputs": [],
   "source": [
    "df[\"Medias_Moviles_Adj_Close\"]=df[\"Adj Close\"].rolling(window=5).mean()"
   ]
  },
  {
   "cell_type": "code",
   "execution_count": 125,
   "metadata": {},
   "outputs": [
    {
     "data": {
      "text/plain": [
       "<AxesSubplot: xlabel='Date'>"
      ]
     },
     "execution_count": 125,
     "metadata": {},
     "output_type": "execute_result"
    },
    {
     "data": {
      "image/png": "[encoded data removed]",
      "text/plain": [
       "<Figure size 640x480 with 1 Axes>"
      ]
     },
     "metadata": {},
     "output_type": "display_data"
    }
   ],
   "source": [
    "df[[\"Adj Close\",\"tendencia\",\"Medias_Moviles_Adj_Close\"]].plot()"
   ]
  },
  {
   "cell_type": "code",
   "execution_count": 128,
   "metadata": {},
   "outputs": [
    {
     "data": {
      "image/png": "[encoded data removed]",
      "text/plain": [
       "<Figure size 640x480 with 4 Axes>"
      ]
     },
     "metadata": {},
     "output_type": "display_data"
    }
   ],
   "source": [
    "sm.tsa.seasonal_decompose(df[\"Adj Close\"], model=\"additive\",period=30).plot();"
   ]
  },
  {
   "cell_type": "markdown",
   "metadata": {},
   "source": [
    "# Los datos ayudan a entender las cosas pero NO DEMUESTRA NADA"
   ]
  },
  {
   "cell_type": "code",
   "execution_count": 129,
   "metadata": {},
   "outputs": [],
   "source": [
    "import matplotlib.pyplot as plt"
   ]
  },
  {
   "cell_type": "code",
   "execution_count": 139,
   "metadata": {},
   "outputs": [
    {
     "ename": "AttributeError",
     "evalue": "module 'numpy' has no attribute 'range'",
     "output_type": "error",
     "traceback": [
      "\u001b[1;31m---------------------------------------------------------------------------\u001b[0m",
      "\u001b[1;31mAttributeError\u001b[0m                            Traceback (most recent call last)",
      "Cell \u001b[1;32mIn [139], line 2\u001b[0m\n\u001b[0;32m      1\u001b[0m \u001b[39m# Grafico histograma\u001b[39;00m\n\u001b[1;32m----> 2\u001b[0m plt\u001b[39m.\u001b[39mhist(x\u001b[39m=\u001b[39mdf[\u001b[39m\"\u001b[39m\u001b[39mVolume\u001b[39m\u001b[39m\"\u001b[39m],bins\u001b[39m=\u001b[39mnp\u001b[39m.\u001b[39;49mrange(minimo,maximo,(maximo\u001b[39m-\u001b[39mminimo)\u001b[39m/\u001b[39m\u001b[39m10\u001b[39m))\n",
      "File \u001b[1;32mc:\\Users\\Alvaro Díaz\\.conda\\envs\\thebridge_enviroment\\lib\\site-packages\\numpy\\__init__.py:311\u001b[0m, in \u001b[0;36m__getattr__\u001b[1;34m(attr)\u001b[0m\n\u001b[0;32m    308\u001b[0m     \u001b[39mfrom\u001b[39;00m \u001b[39m.\u001b[39;00m\u001b[39mtesting\u001b[39;00m \u001b[39mimport\u001b[39;00m Tester\n\u001b[0;32m    309\u001b[0m     \u001b[39mreturn\u001b[39;00m Tester\n\u001b[1;32m--> 311\u001b[0m \u001b[39mraise\u001b[39;00m \u001b[39mAttributeError\u001b[39;00m(\u001b[39m\"\u001b[39m\u001b[39mmodule \u001b[39m\u001b[39m{!r}\u001b[39;00m\u001b[39m has no attribute \u001b[39m\u001b[39m\"\u001b[39m\n\u001b[0;32m    312\u001b[0m                      \u001b[39m\"\u001b[39m\u001b[39m{!r}\u001b[39;00m\u001b[39m\"\u001b[39m\u001b[39m.\u001b[39mformat(\u001b[39m__name__\u001b[39m, attr))\n",
      "\u001b[1;31mAttributeError\u001b[0m: module 'numpy' has no attribute 'range'"
     ]
    }
   ],
   "source": [
    "# Grafico histograma\n",
    "plt.hist(x=df[\"Volume\"],bins=np.range(minimo,maximo,(maximo-minimo)/10))"
   ]
  },
  {
   "cell_type": "code",
   "execution_count": 132,
   "metadata": {},
   "outputs": [
    {
     "data": {
      "text/plain": [
       "7421640800.0"
      ]
     },
     "execution_count": 132,
     "metadata": {},
     "output_type": "execute_result"
    }
   ],
   "source": [
    "maximo=df[\"Volume\"].max()\n",
    "maximo"
   ]
  },
  {
   "cell_type": "code",
   "execution_count": 133,
   "metadata": {},
   "outputs": [
    {
     "data": {
      "text/plain": [
       "2396800.0"
      ]
     },
     "execution_count": 133,
     "metadata": {},
     "output_type": "execute_result"
    }
   ],
   "source": [
    "minimo=df[\"Volume\"].min()\n",
    "minimo"
   ]
  },
  {
   "cell_type": "code",
   "execution_count": 134,
   "metadata": {},
   "outputs": [
    {
     "data": {
      "text/plain": [
       "741924400.0"
      ]
     },
     "execution_count": 134,
     "metadata": {},
     "output_type": "execute_result"
    }
   ],
   "source": [
    "(maximo-minimo)/10"
   ]
  },
  {
   "cell_type": "code",
   "execution_count": 135,
   "metadata": {},
   "outputs": [
    {
     "ename": "AttributeError",
     "evalue": "module 'numpy' has no attribute 'arrange'",
     "output_type": "error",
     "traceback": [
      "\u001b[1;31m---------------------------------------------------------------------------\u001b[0m",
      "\u001b[1;31mAttributeError\u001b[0m                            Traceback (most recent call last)",
      "Cell \u001b[1;32mIn [135], line 1\u001b[0m\n\u001b[1;32m----> 1\u001b[0m np\u001b[39m.\u001b[39;49marrange(minimo,maximo,(maximo\u001b[39m-\u001b[39mminimo)\u001b[39m/\u001b[39m\u001b[39m10\u001b[39m)\n",
      "File \u001b[1;32mc:\\Users\\Alvaro Díaz\\.conda\\envs\\thebridge_enviroment\\lib\\site-packages\\numpy\\__init__.py:311\u001b[0m, in \u001b[0;36m__getattr__\u001b[1;34m(attr)\u001b[0m\n\u001b[0;32m    308\u001b[0m     \u001b[39mfrom\u001b[39;00m \u001b[39m.\u001b[39;00m\u001b[39mtesting\u001b[39;00m \u001b[39mimport\u001b[39;00m Tester\n\u001b[0;32m    309\u001b[0m     \u001b[39mreturn\u001b[39;00m Tester\n\u001b[1;32m--> 311\u001b[0m \u001b[39mraise\u001b[39;00m \u001b[39mAttributeError\u001b[39;00m(\u001b[39m\"\u001b[39m\u001b[39mmodule \u001b[39m\u001b[39m{!r}\u001b[39;00m\u001b[39m has no attribute \u001b[39m\u001b[39m\"\u001b[39m\n\u001b[0;32m    312\u001b[0m                      \u001b[39m\"\u001b[39m\u001b[39m{!r}\u001b[39;00m\u001b[39m\"\u001b[39m\u001b[39m.\u001b[39mformat(\u001b[39m__name__\u001b[39m, attr))\n",
      "\u001b[1;31mAttributeError\u001b[0m: module 'numpy' has no attribute 'arrange'"
     ]
    }
   ],
   "source": [
    "np.arrange(minimo,maximo,(maximo-minimo)/10)"
   ]
  },
  {
   "cell_type": "code",
   "execution_count": 141,
   "metadata": {},
   "outputs": [],
   "source": [
    "df[\"Anyo\"]=df.index.strftime(\"%Y\")"
   ]
  },
  {
   "cell_type": "code",
   "execution_count": 142,
   "metadata": {},
   "outputs": [
    {
     "data": {
      "text/html": [
       "<div>\n",
       "<style scoped>\n",
       "    .dataframe tbody tr th:only-of-type {\n",
       "        vertical-align: middle;\n",
       "    }\n",
       "\n",
       "    .dataframe tbody tr th {\n",
       "        vertical-align: top;\n",
       "    }\n",
       "\n",
       "    .dataframe thead th {\n",
       "        text-align: right;\n",
       "    }\n",
       "</style>\n",
       "<table border=\"1\" class=\"dataframe\">\n",
       "  <thead>\n",
       "    <tr style=\"text-align: right;\">\n",
       "      <th></th>\n",
       "      <th>High</th>\n",
       "      <th>Low</th>\n",
       "      <th>Open</th>\n",
       "      <th>Close</th>\n",
       "      <th>Volume</th>\n",
       "      <th>Adj Close</th>\n",
       "      <th>Variacion_High</th>\n",
       "      <th>Medias_Moviles_High</th>\n",
       "      <th>Diferencias_Volumen</th>\n",
       "      <th>tendencia</th>\n",
       "      <th>Medias_Moviles_Adj_Close</th>\n",
       "      <th>Anyo</th>\n",
       "    </tr>\n",
       "    <tr>\n",
       "      <th>Date</th>\n",
       "      <th></th>\n",
       "      <th></th>\n",
       "      <th></th>\n",
       "      <th></th>\n",
       "      <th></th>\n",
       "      <th></th>\n",
       "      <th></th>\n",
       "      <th></th>\n",
       "      <th></th>\n",
       "      <th></th>\n",
       "      <th></th>\n",
       "      <th></th>\n",
       "    </tr>\n",
       "  </thead>\n",
       "  <tbody>\n",
       "    <tr>\n",
       "      <th>1991-01-02</th>\n",
       "      <td>0.392857</td>\n",
       "      <td>0.375000</td>\n",
       "      <td>0.381696</td>\n",
       "      <td>0.388393</td>\n",
       "      <td>154985600.0</td>\n",
       "      <td>0.313691</td>\n",
       "      <td>NaN</td>\n",
       "      <td>NaN</td>\n",
       "      <td>NaN</td>\n",
       "      <td>0.305460</td>\n",
       "      <td>NaN</td>\n",
       "      <td>1991</td>\n",
       "    </tr>\n",
       "    <tr>\n",
       "      <th>1991-01-03</th>\n",
       "      <td>0.395089</td>\n",
       "      <td>0.383929</td>\n",
       "      <td>0.388393</td>\n",
       "      <td>0.383929</td>\n",
       "      <td>150180800.0</td>\n",
       "      <td>0.310086</td>\n",
       "      <td>0.005681</td>\n",
       "      <td>NaN</td>\n",
       "      <td>-4804800.0</td>\n",
       "      <td>0.310164</td>\n",
       "      <td>NaN</td>\n",
       "      <td>1991</td>\n",
       "    </tr>\n",
       "    <tr>\n",
       "      <th>1991-01-04</th>\n",
       "      <td>0.395089</td>\n",
       "      <td>0.383929</td>\n",
       "      <td>0.383929</td>\n",
       "      <td>0.386161</td>\n",
       "      <td>141523200.0</td>\n",
       "      <td>0.311889</td>\n",
       "      <td>0.000000</td>\n",
       "      <td>NaN</td>\n",
       "      <td>-8657600.0</td>\n",
       "      <td>0.314874</td>\n",
       "      <td>NaN</td>\n",
       "      <td>1991</td>\n",
       "    </tr>\n",
       "    <tr>\n",
       "      <th>1991-01-07</th>\n",
       "      <td>0.404018</td>\n",
       "      <td>0.383929</td>\n",
       "      <td>0.383929</td>\n",
       "      <td>0.386161</td>\n",
       "      <td>310800000.0</td>\n",
       "      <td>0.311889</td>\n",
       "      <td>0.022600</td>\n",
       "      <td>NaN</td>\n",
       "      <td>169276800.0</td>\n",
       "      <td>0.319594</td>\n",
       "      <td>NaN</td>\n",
       "      <td>1991</td>\n",
       "    </tr>\n",
       "    <tr>\n",
       "      <th>1991-01-08</th>\n",
       "      <td>0.391741</td>\n",
       "      <td>0.379464</td>\n",
       "      <td>0.390625</td>\n",
       "      <td>0.386161</td>\n",
       "      <td>218691200.0</td>\n",
       "      <td>0.311889</td>\n",
       "      <td>-0.030387</td>\n",
       "      <td>0.395759</td>\n",
       "      <td>-92108800.0</td>\n",
       "      <td>0.324328</td>\n",
       "      <td>0.311889</td>\n",
       "      <td>1991</td>\n",
       "    </tr>\n",
       "    <tr>\n",
       "      <th>...</th>\n",
       "      <td>...</td>\n",
       "      <td>...</td>\n",
       "      <td>...</td>\n",
       "      <td>...</td>\n",
       "      <td>...</td>\n",
       "      <td>...</td>\n",
       "      <td>...</td>\n",
       "      <td>...</td>\n",
       "      <td>...</td>\n",
       "      <td>...</td>\n",
       "      <td>...</td>\n",
       "      <td>...</td>\n",
       "    </tr>\n",
       "    <tr>\n",
       "      <th>2020-12-24</th>\n",
       "      <td>133.460007</td>\n",
       "      <td>131.100006</td>\n",
       "      <td>131.320007</td>\n",
       "      <td>131.970001</td>\n",
       "      <td>54930100.0</td>\n",
       "      <td>130.620880</td>\n",
       "      <td>0.007778</td>\n",
       "      <td>131.542001</td>\n",
       "      <td>-33293600.0</td>\n",
       "      <td>130.259568</td>\n",
       "      <td>128.611652</td>\n",
       "      <td>2020</td>\n",
       "    </tr>\n",
       "    <tr>\n",
       "      <th>2020-12-28</th>\n",
       "      <td>137.339996</td>\n",
       "      <td>133.509995</td>\n",
       "      <td>133.990005</td>\n",
       "      <td>136.690002</td>\n",
       "      <td>124486200.0</td>\n",
       "      <td>135.292648</td>\n",
       "      <td>0.029072</td>\n",
       "      <td>133.189999</td>\n",
       "      <td>69556100.0</td>\n",
       "      <td>131.028889</td>\n",
       "      <td>130.597144</td>\n",
       "      <td>2020</td>\n",
       "    </tr>\n",
       "    <tr>\n",
       "      <th>2020-12-29</th>\n",
       "      <td>138.789993</td>\n",
       "      <td>134.339996</td>\n",
       "      <td>138.050003</td>\n",
       "      <td>134.869995</td>\n",
       "      <td>121047300.0</td>\n",
       "      <td>133.491241</td>\n",
       "      <td>0.010558</td>\n",
       "      <td>135.285999</td>\n",
       "      <td>-3438900.0</td>\n",
       "      <td>131.795284</td>\n",
       "      <td>131.911566</td>\n",
       "      <td>2020</td>\n",
       "    </tr>\n",
       "    <tr>\n",
       "      <th>2020-12-30</th>\n",
       "      <td>135.990005</td>\n",
       "      <td>133.399994</td>\n",
       "      <td>135.580002</td>\n",
       "      <td>133.720001</td>\n",
       "      <td>96452100.0</td>\n",
       "      <td>132.353027</td>\n",
       "      <td>-0.020174</td>\n",
       "      <td>135.601999</td>\n",
       "      <td>-24595200.0</td>\n",
       "      <td>132.559065</td>\n",
       "      <td>132.275806</td>\n",
       "      <td>2020</td>\n",
       "    </tr>\n",
       "    <tr>\n",
       "      <th>2020-12-31</th>\n",
       "      <td>134.740005</td>\n",
       "      <td>131.720001</td>\n",
       "      <td>134.080002</td>\n",
       "      <td>132.690002</td>\n",
       "      <td>99116600.0</td>\n",
       "      <td>131.333527</td>\n",
       "      <td>-0.009192</td>\n",
       "      <td>136.064001</td>\n",
       "      <td>2664500.0</td>\n",
       "      <td>133.321604</td>\n",
       "      <td>132.618265</td>\n",
       "      <td>2020</td>\n",
       "    </tr>\n",
       "  </tbody>\n",
       "</table>\n",
       "<p>7559 rows × 12 columns</p>\n",
       "</div>"
      ],
      "text/plain": [
       "                  High         Low        Open       Close       Volume  \\\n",
       "Date                                                                      \n",
       "1991-01-02    0.392857    0.375000    0.381696    0.388393  154985600.0   \n",
       "1991-01-03    0.395089    0.383929    0.388393    0.383929  150180800.0   \n",
       "1991-01-04    0.395089    0.383929    0.383929    0.386161  141523200.0   \n",
       "1991-01-07    0.404018    0.383929    0.383929    0.386161  310800000.0   \n",
       "1991-01-08    0.391741    0.379464    0.390625    0.386161  218691200.0   \n",
       "...                ...         ...         ...         ...          ...   \n",
       "2020-12-24  133.460007  131.100006  131.320007  131.970001   54930100.0   \n",
       "2020-12-28  137.339996  133.509995  133.990005  136.690002  124486200.0   \n",
       "2020-12-29  138.789993  134.339996  138.050003  134.869995  121047300.0   \n",
       "2020-12-30  135.990005  133.399994  135.580002  133.720001   96452100.0   \n",
       "2020-12-31  134.740005  131.720001  134.080002  132.690002   99116600.0   \n",
       "\n",
       "             Adj Close  Variacion_High  Medias_Moviles_High  \\\n",
       "Date                                                          \n",
       "1991-01-02    0.313691             NaN                  NaN   \n",
       "1991-01-03    0.310086        0.005681                  NaN   \n",
       "1991-01-04    0.311889        0.000000                  NaN   \n",
       "1991-01-07    0.311889        0.022600                  NaN   \n",
       "1991-01-08    0.311889       -0.030387             0.395759   \n",
       "...                ...             ...                  ...   \n",
       "2020-12-24  130.620880        0.007778           131.542001   \n",
       "2020-12-28  135.292648        0.029072           133.189999   \n",
       "2020-12-29  133.491241        0.010558           135.285999   \n",
       "2020-12-30  132.353027       -0.020174           135.601999   \n",
       "2020-12-31  131.333527       -0.009192           136.064001   \n",
       "\n",
       "            Diferencias_Volumen   tendencia  Medias_Moviles_Adj_Close  Anyo  \n",
       "Date                                                                         \n",
       "1991-01-02                  NaN    0.305460                       NaN  1991  \n",
       "1991-01-03           -4804800.0    0.310164                       NaN  1991  \n",
       "1991-01-04           -8657600.0    0.314874                       NaN  1991  \n",
       "1991-01-07          169276800.0    0.319594                       NaN  1991  \n",
       "1991-01-08          -92108800.0    0.324328                  0.311889  1991  \n",
       "...                         ...         ...                       ...   ...  \n",
       "2020-12-24          -33293600.0  130.259568                128.611652  2020  \n",
       "2020-12-28           69556100.0  131.028889                130.597144  2020  \n",
       "2020-12-29           -3438900.0  131.795284                131.911566  2020  \n",
       "2020-12-30          -24595200.0  132.559065                132.275806  2020  \n",
       "2020-12-31            2664500.0  133.321604                132.618265  2020  \n",
       "\n",
       "[7559 rows x 12 columns]"
      ]
     },
     "execution_count": 142,
     "metadata": {},
     "output_type": "execute_result"
    }
   ],
   "source": [
    "df"
   ]
  },
  {
   "cell_type": "code",
   "execution_count": 148,
   "metadata": {},
   "outputs": [
    {
     "data": {
      "text/plain": [
       "<AxesSubplot: ylabel='Anyo'>"
      ]
     },
     "execution_count": 148,
     "metadata": {},
     "output_type": "execute_result"
    },
    {
     "data": {
      "image/png": "[encoded data removed]",
      "text/plain": [
       "<Figure size 640x480 with 1 Axes>"
      ]
     },
     "metadata": {},
     "output_type": "display_data"
    }
   ],
   "source": [
    "df.groupby([\"Anyo\"])[\"High\"].mean().plot.barh()"
   ]
  },
  {
   "cell_type": "code",
   "execution_count": 149,
   "metadata": {},
   "outputs": [
    {
     "data": {
      "text/plain": [
       "<AxesSubplot: xlabel='Anyo'>"
      ]
     },
     "execution_count": 149,
     "metadata": {},
     "output_type": "execute_result"
    },
    {
     "data": {
      "image/png": "[encoded data removed]",
      "text/plain": [
       "<Figure size 640x480 with 1 Axes>"
      ]
     },
     "metadata": {},
     "output_type": "display_data"
    }
   ],
   "source": [
    "df.groupby([\"Anyo\"])[\"High\"].mean().plot.bar()"
   ]
  },
  {
   "cell_type": "code",
   "execution_count": 150,
   "metadata": {},
   "outputs": [
    {
     "data": {
      "text/plain": [
       "<AxesSubplot: xlabel='Anyo'>"
      ]
     },
     "execution_count": 150,
     "metadata": {},
     "output_type": "execute_result"
    },
    {
     "data": {
      "image/png": "[encoded data removed]",
      "text/plain": [
       "<Figure size 640x480 with 1 Axes>"
      ]
     },
     "metadata": {},
     "output_type": "display_data"
    }
   ],
   "source": [
    "df.groupby([\"Anyo\"])[\"High\"].mean().plot.line()"
   ]
  },
  {
   "cell_type": "code",
   "execution_count": 151,
   "metadata": {},
   "outputs": [
    {
     "data": {
      "text/plain": [
       "<AxesSubplot: ylabel='High'>"
      ]
     },
     "execution_count": 151,
     "metadata": {},
     "output_type": "execute_result"
    },
    {
     "data": {
      "image/png": "[encoded data removed]",
      "text/plain": [
       "<Figure size 640x480 with 1 Axes>"
      ]
     },
     "metadata": {},
     "output_type": "display_data"
    }
   ],
   "source": [
    "df.groupby([\"Anyo\"])[\"High\"].mean().plot.pie()"
   ]
  },
  {
   "cell_type": "code",
   "execution_count": 152,
   "metadata": {},
   "outputs": [
    {
     "data": {
      "text/plain": [
       "<AxesSubplot: >"
      ]
     },
     "execution_count": 152,
     "metadata": {},
     "output_type": "execute_result"
    },
    {
     "data": {
      "image/png": "[encoded data removed]",
      "text/plain": [
       "<Figure size 640x480 with 1 Axes>"
      ]
     },
     "metadata": {},
     "output_type": "display_data"
    }
   ],
   "source": [
    "df.groupby([\"Anyo\"])[\"High\"].mean().plot.box()"
   ]
  },
  {
   "cell_type": "code",
   "execution_count": 157,
   "metadata": {},
   "outputs": [
    {
     "data": {
      "text/plain": [
       "<AxesSubplot: >"
      ]
     },
     "execution_count": 157,
     "metadata": {},
     "output_type": "execute_result"
    },
    {
     "data": {
      "image/png": "[encoded data removed]",
      "text/plain": [
       "<Figure size 640x480 with 1 Axes>"
      ]
     },
     "metadata": {},
     "output_type": "display_data"
    }
   ],
   "source": [
    "df.boxplot(column=[\"Volume\"])"
   ]
  },
  {
   "cell_type": "markdown",
   "metadata": {},
   "source": [
    "### El bigote de abajo es el max{minimo o Q1-1,5 rango intercuartil}\n",
    "### La primera barrita azuk Q1\n",
    "### La linea verde es la media--> Q2\n",
    "### La linea azul de abajo min{máximo, Q3+1,5 rango intercuartil}\n",
    "Si la distancia de la linea verde de ambas azules es la misma es simétrica, de lo contrario es assimetrica\n"
   ]
  },
  {
   "cell_type": "code",
   "execution_count": 162,
   "metadata": {},
   "outputs": [
    {
     "data": {
      "text/plain": [
       "<AxesSubplot: title={'center': 'Volumen_escala'}, xlabel='Anyo'>"
      ]
     },
     "execution_count": 162,
     "metadata": {},
     "output_type": "execute_result"
    },
    {
     "data": {
      "image/png": "[encoded data removed]",
      "text/plain": [
       "<Figure size 640x480 with 1 Axes>"
      ]
     },
     "metadata": {},
     "output_type": "display_data"
    }
   ],
   "source": [
    "df[\"Volumen_escala\"]=np.log(df[\"Volume\"])\n",
    "df.boxplot(column=\"Volumen_escala\",by=\"Anyo\")"
   ]
  },
  {
   "cell_type": "code",
   "execution_count": 163,
   "metadata": {},
   "outputs": [
    {
     "name": "stderr",
     "output_type": "stream",
     "text": [
      "C:\\Users\\Alvaro Díaz\\AppData\\Local\\Temp\\ipykernel_604\\1134722465.py:1: FutureWarning: The default value of numeric_only in DataFrame.corr is deprecated. In a future version, it will default to False. Select only valid columns or specify the value of numeric_only to silence this warning.\n",
      "  df.corr()\n"
     ]
    },
    {
     "data": {
      "text/html": [
       "<div>\n",
       "<style scoped>\n",
       "    .dataframe tbody tr th:only-of-type {\n",
       "        vertical-align: middle;\n",
       "    }\n",
       "\n",
       "    .dataframe tbody tr th {\n",
       "        vertical-align: top;\n",
       "    }\n",
       "\n",
       "    .dataframe thead th {\n",
       "        text-align: right;\n",
       "    }\n",
       "</style>\n",
       "<table border=\"1\" class=\"dataframe\">\n",
       "  <thead>\n",
       "    <tr style=\"text-align: right;\">\n",
       "      <th></th>\n",
       "      <th>High</th>\n",
       "      <th>Low</th>\n",
       "      <th>Open</th>\n",
       "      <th>Close</th>\n",
       "      <th>Volume</th>\n",
       "      <th>Adj Close</th>\n",
       "      <th>Variacion_High</th>\n",
       "      <th>Medias_Moviles_High</th>\n",
       "      <th>Diferencias_Volumen</th>\n",
       "      <th>tendencia</th>\n",
       "      <th>Medias_Moviles_Adj_Close</th>\n",
       "      <th>Volumen_escala</th>\n",
       "    </tr>\n",
       "  </thead>\n",
       "  <tbody>\n",
       "    <tr>\n",
       "      <th>High</th>\n",
       "      <td>1.000000</td>\n",
       "      <td>0.999856</td>\n",
       "      <td>0.999923</td>\n",
       "      <td>0.999904</td>\n",
       "      <td>-0.264460</td>\n",
       "      <td>0.999280</td>\n",
       "      <td>0.013598</td>\n",
       "      <td>0.999701</td>\n",
       "      <td>0.000241</td>\n",
       "      <td>0.998965</td>\n",
       "      <td>0.999188</td>\n",
       "      <td>-0.378395</td>\n",
       "    </tr>\n",
       "    <tr>\n",
       "      <th>Low</th>\n",
       "      <td>0.999856</td>\n",
       "      <td>1.000000</td>\n",
       "      <td>0.999890</td>\n",
       "      <td>0.999909</td>\n",
       "      <td>-0.267341</td>\n",
       "      <td>0.999158</td>\n",
       "      <td>0.013644</td>\n",
       "      <td>0.999507</td>\n",
       "      <td>-0.000710</td>\n",
       "      <td>0.998789</td>\n",
       "      <td>0.998961</td>\n",
       "      <td>-0.382591</td>\n",
       "    </tr>\n",
       "    <tr>\n",
       "      <th>Open</th>\n",
       "      <td>0.999923</td>\n",
       "      <td>0.999890</td>\n",
       "      <td>1.000000</td>\n",
       "      <td>0.999822</td>\n",
       "      <td>-0.265561</td>\n",
       "      <td>0.999129</td>\n",
       "      <td>0.012422</td>\n",
       "      <td>0.999634</td>\n",
       "      <td>-0.000081</td>\n",
       "      <td>0.998832</td>\n",
       "      <td>0.999078</td>\n",
       "      <td>-0.380040</td>\n",
       "    </tr>\n",
       "    <tr>\n",
       "      <th>Close</th>\n",
       "      <td>0.999904</td>\n",
       "      <td>0.999909</td>\n",
       "      <td>0.999822</td>\n",
       "      <td>1.000000</td>\n",
       "      <td>-0.265916</td>\n",
       "      <td>0.999319</td>\n",
       "      <td>0.014685</td>\n",
       "      <td>0.999542</td>\n",
       "      <td>-0.000340</td>\n",
       "      <td>0.998883</td>\n",
       "      <td>0.999041</td>\n",
       "      <td>-0.380577</td>\n",
       "    </tr>\n",
       "    <tr>\n",
       "      <th>Volume</th>\n",
       "      <td>-0.264460</td>\n",
       "      <td>-0.267341</td>\n",
       "      <td>-0.265561</td>\n",
       "      <td>-0.265916</td>\n",
       "      <td>1.000000</td>\n",
       "      <td>-0.268136</td>\n",
       "      <td>0.039013</td>\n",
       "      <td>-0.264635</td>\n",
       "      <td>0.339469</td>\n",
       "      <td>-0.267864</td>\n",
       "      <td>-0.268046</td>\n",
       "      <td>0.873017</td>\n",
       "    </tr>\n",
       "    <tr>\n",
       "      <th>Adj Close</th>\n",
       "      <td>0.999280</td>\n",
       "      <td>0.999158</td>\n",
       "      <td>0.999129</td>\n",
       "      <td>0.999319</td>\n",
       "      <td>-0.268136</td>\n",
       "      <td>1.000000</td>\n",
       "      <td>0.014786</td>\n",
       "      <td>0.998862</td>\n",
       "      <td>-0.000319</td>\n",
       "      <td>0.999566</td>\n",
       "      <td>0.999671</td>\n",
       "      <td>-0.385131</td>\n",
       "    </tr>\n",
       "    <tr>\n",
       "      <th>Variacion_High</th>\n",
       "      <td>0.013598</td>\n",
       "      <td>0.013644</td>\n",
       "      <td>0.012422</td>\n",
       "      <td>0.014685</td>\n",
       "      <td>0.039013</td>\n",
       "      <td>0.014786</td>\n",
       "      <td>1.000000</td>\n",
       "      <td>0.007619</td>\n",
       "      <td>0.136957</td>\n",
       "      <td>0.010781</td>\n",
       "      <td>0.008614</td>\n",
       "      <td>0.068437</td>\n",
       "    </tr>\n",
       "    <tr>\n",
       "      <th>Medias_Moviles_High</th>\n",
       "      <td>0.999701</td>\n",
       "      <td>0.999507</td>\n",
       "      <td>0.999634</td>\n",
       "      <td>0.999542</td>\n",
       "      <td>-0.264635</td>\n",
       "      <td>0.998862</td>\n",
       "      <td>0.007619</td>\n",
       "      <td>1.000000</td>\n",
       "      <td>0.000050</td>\n",
       "      <td>0.998978</td>\n",
       "      <td>0.999338</td>\n",
       "      <td>-0.378786</td>\n",
       "    </tr>\n",
       "    <tr>\n",
       "      <th>Diferencias_Volumen</th>\n",
       "      <td>0.000241</td>\n",
       "      <td>-0.000710</td>\n",
       "      <td>-0.000081</td>\n",
       "      <td>-0.000340</td>\n",
       "      <td>0.339469</td>\n",
       "      <td>-0.000319</td>\n",
       "      <td>0.136957</td>\n",
       "      <td>0.000050</td>\n",
       "      <td>1.000000</td>\n",
       "      <td>-0.000092</td>\n",
       "      <td>0.000068</td>\n",
       "      <td>0.187394</td>\n",
       "    </tr>\n",
       "    <tr>\n",
       "      <th>tendencia</th>\n",
       "      <td>0.998965</td>\n",
       "      <td>0.998789</td>\n",
       "      <td>0.998832</td>\n",
       "      <td>0.998883</td>\n",
       "      <td>-0.267864</td>\n",
       "      <td>0.999566</td>\n",
       "      <td>0.010781</td>\n",
       "      <td>0.998978</td>\n",
       "      <td>-0.000092</td>\n",
       "      <td>1.000000</td>\n",
       "      <td>0.999703</td>\n",
       "      <td>-0.384863</td>\n",
       "    </tr>\n",
       "    <tr>\n",
       "      <th>Medias_Moviles_Adj_Close</th>\n",
       "      <td>0.999188</td>\n",
       "      <td>0.998961</td>\n",
       "      <td>0.999078</td>\n",
       "      <td>0.999041</td>\n",
       "      <td>-0.268046</td>\n",
       "      <td>0.999671</td>\n",
       "      <td>0.008614</td>\n",
       "      <td>0.999338</td>\n",
       "      <td>0.000068</td>\n",
       "      <td>0.999703</td>\n",
       "      <td>1.000000</td>\n",
       "      <td>-0.385040</td>\n",
       "    </tr>\n",
       "    <tr>\n",
       "      <th>Volumen_escala</th>\n",
       "      <td>-0.378395</td>\n",
       "      <td>-0.382591</td>\n",
       "      <td>-0.380040</td>\n",
       "      <td>-0.380577</td>\n",
       "      <td>0.873017</td>\n",
       "      <td>-0.385131</td>\n",
       "      <td>0.068437</td>\n",
       "      <td>-0.378786</td>\n",
       "      <td>0.187394</td>\n",
       "      <td>-0.384863</td>\n",
       "      <td>-0.385040</td>\n",
       "      <td>1.000000</td>\n",
       "    </tr>\n",
       "  </tbody>\n",
       "</table>\n",
       "</div>"
      ],
      "text/plain": [
       "                              High       Low      Open     Close    Volume  \\\n",
       "High                      1.000000  0.999856  0.999923  0.999904 -0.264460   \n",
       "Low                       0.999856  1.000000  0.999890  0.999909 -0.267341   \n",
       "Open                      0.999923  0.999890  1.000000  0.999822 -0.265561   \n",
       "Close                     0.999904  0.999909  0.999822  1.000000 -0.265916   \n",
       "Volume                   -0.264460 -0.267341 -0.265561 -0.265916  1.000000   \n",
       "Adj Close                 0.999280  0.999158  0.999129  0.999319 -0.268136   \n",
       "Variacion_High            0.013598  0.013644  0.012422  0.014685  0.039013   \n",
       "Medias_Moviles_High       0.999701  0.999507  0.999634  0.999542 -0.264635   \n",
       "Diferencias_Volumen       0.000241 -0.000710 -0.000081 -0.000340  0.339469   \n",
       "tendencia                 0.998965  0.998789  0.998832  0.998883 -0.267864   \n",
       "Medias_Moviles_Adj_Close  0.999188  0.998961  0.999078  0.999041 -0.268046   \n",
       "Volumen_escala           -0.378395 -0.382591 -0.380040 -0.380577  0.873017   \n",
       "\n",
       "                          Adj Close  Variacion_High  Medias_Moviles_High  \\\n",
       "High                       0.999280        0.013598             0.999701   \n",
       "Low                        0.999158        0.013644             0.999507   \n",
       "Open                       0.999129        0.012422             0.999634   \n",
       "Close                      0.999319        0.014685             0.999542   \n",
       "Volume                    -0.268136        0.039013            -0.264635   \n",
       "Adj Close                  1.000000        0.014786             0.998862   \n",
       "Variacion_High             0.014786        1.000000             0.007619   \n",
       "Medias_Moviles_High        0.998862        0.007619             1.000000   \n",
       "Diferencias_Volumen       -0.000319        0.136957             0.000050   \n",
       "tendencia                  0.999566        0.010781             0.998978   \n",
       "Medias_Moviles_Adj_Close   0.999671        0.008614             0.999338   \n",
       "Volumen_escala            -0.385131        0.068437            -0.378786   \n",
       "\n",
       "                          Diferencias_Volumen  tendencia  \\\n",
       "High                                 0.000241   0.998965   \n",
       "Low                                 -0.000710   0.998789   \n",
       "Open                                -0.000081   0.998832   \n",
       "Close                               -0.000340   0.998883   \n",
       "Volume                               0.339469  -0.267864   \n",
       "Adj Close                           -0.000319   0.999566   \n",
       "Variacion_High                       0.136957   0.010781   \n",
       "Medias_Moviles_High                  0.000050   0.998978   \n",
       "Diferencias_Volumen                  1.000000  -0.000092   \n",
       "tendencia                           -0.000092   1.000000   \n",
       "Medias_Moviles_Adj_Close             0.000068   0.999703   \n",
       "Volumen_escala                       0.187394  -0.384863   \n",
       "\n",
       "                          Medias_Moviles_Adj_Close  Volumen_escala  \n",
       "High                                      0.999188       -0.378395  \n",
       "Low                                       0.998961       -0.382591  \n",
       "Open                                      0.999078       -0.380040  \n",
       "Close                                     0.999041       -0.380577  \n",
       "Volume                                   -0.268046        0.873017  \n",
       "Adj Close                                 0.999671       -0.385131  \n",
       "Variacion_High                            0.008614        0.068437  \n",
       "Medias_Moviles_High                       0.999338       -0.378786  \n",
       "Diferencias_Volumen                       0.000068        0.187394  \n",
       "tendencia                                 0.999703       -0.384863  \n",
       "Medias_Moviles_Adj_Close                  1.000000       -0.385040  \n",
       "Volumen_escala                           -0.385040        1.000000  "
      ]
     },
     "execution_count": 163,
     "metadata": {},
     "output_type": "execute_result"
    }
   ],
   "source": [
    "df.corr()"
   ]
  },
  {
   "cell_type": "code",
   "execution_count": 170,
   "metadata": {},
   "outputs": [
    {
     "data": {
      "text/plain": [
       "Text(0, 0.5, 'Precio Lox')"
      ]
     },
     "execution_count": 170,
     "metadata": {},
     "output_type": "execute_result"
    },
    {
     "data": {
      "image/png": "[encoded data removed]",
      "text/plain": [
       "<Figure size 640x480 with 1 Axes>"
      ]
     },
     "metadata": {},
     "output_type": "display_data"
    }
   ],
   "source": [
    "plt.scatter(df[\"High\"], df[\"Low\"]) # Grafico de dispersion\n",
    "plt.title(\"Relación entre la variable High y la variable Low\")\n",
    "plt.xlabel(\"Precio High\")\n",
    "plt.ylabel(\"Precio Lox\")"
   ]
  },
  {
   "cell_type": "code",
   "execution_count": 171,
   "metadata": {},
   "outputs": [
    {
     "data": {
      "text/plain": [
       "['Solarize_Light2',\n",
       " '_classic_test_patch',\n",
       " '_mpl-gallery',\n",
       " '_mpl-gallery-nogrid',\n",
       " 'bmh',\n",
       " 'classic',\n",
       " 'dark_background',\n",
       " 'fast',\n",
       " 'fivethirtyeight',\n",
       " 'ggplot',\n",
       " 'grayscale',\n",
       " 'seaborn-v0_8',\n",
       " 'seaborn-v0_8-bright',\n",
       " 'seaborn-v0_8-colorblind',\n",
       " 'seaborn-v0_8-dark',\n",
       " 'seaborn-v0_8-dark-palette',\n",
       " 'seaborn-v0_8-darkgrid',\n",
       " 'seaborn-v0_8-deep',\n",
       " 'seaborn-v0_8-muted',\n",
       " 'seaborn-v0_8-notebook',\n",
       " 'seaborn-v0_8-paper',\n",
       " 'seaborn-v0_8-pastel',\n",
       " 'seaborn-v0_8-poster',\n",
       " 'seaborn-v0_8-talk',\n",
       " 'seaborn-v0_8-ticks',\n",
       " 'seaborn-v0_8-white',\n",
       " 'seaborn-v0_8-whitegrid',\n",
       " 'tableau-colorblind10']"
      ]
     },
     "execution_count": 171,
     "metadata": {},
     "output_type": "execute_result"
    }
   ],
   "source": [
    "plt.style.available"
   ]
  },
  {
   "cell_type": "code",
   "execution_count": 179,
   "metadata": {},
   "outputs": [
    {
     "data": {
      "text/plain": [
       "Text(0, 0.5, 'Precio Lox')"
      ]
     },
     "execution_count": 179,
     "metadata": {},
     "output_type": "execute_result"
    },
    {
     "data": {
      "image/png": "[encoded data removed]",
      "text/plain": [
       "<Figure size 800x550 with 1 Axes>"
      ]
     },
     "metadata": {},
     "output_type": "display_data"
    }
   ],
   "source": [
    "plt.style.use('dark_background')\n",
    "plt.scatter(df[\"High\"], df[\"Low\"]) # Grafico de dispersion\n",
    "plt.title(\"Relación entre la variable High y la variable Low\")\n",
    "plt.xlabel(\"Precio High\")\n",
    "plt.ylabel(\"Precio Lox\")"
   ]
  },
  {
   "cell_type": "code",
   "execution_count": 180,
   "metadata": {},
   "outputs": [
    {
     "data": {
      "text/plain": [
       "<AxesSubplot: title={'center': 'Volumen_escala'}, xlabel='Anyo'>"
      ]
     },
     "execution_count": 180,
     "metadata": {},
     "output_type": "execute_result"
    },
    {
     "data": {
      "image/png": "[encoded data removed]",
      "text/plain": [
       "<Figure size 800x550 with 1 Axes>"
      ]
     },
     "metadata": {},
     "output_type": "display_data"
    }
   ],
   "source": [
    "df.boxplot(column=\"Volumen_escala\",by=\"Anyo\")"
   ]
  },
  {
   "cell_type": "code",
   "execution_count": 182,
   "metadata": {},
   "outputs": [
    {
     "name": "stdout",
     "output_type": "stream",
     "text": [
      "Collecting seaborn\n",
      "  Using cached seaborn-0.12.1-py3-none-any.whl (288 kB)\n",
      "Collecting matplotlib!=3.6.1,>=3.1\n",
      "  Downloading matplotlib-3.6.0-cp310-cp310-win_amd64.whl (7.2 MB)\n",
      "     ---------------------------------------- 7.2/7.2 MB 5.7 MB/s eta 0:00:00\n",
      "Requirement already satisfied: pandas>=0.25 in c:\\users\\alvaro díaz\\.conda\\envs\\thebridge_enviroment\\lib\\site-packages (from seaborn) (1.5.1)\n",
      "Requirement already satisfied: numpy>=1.17 in c:\\users\\alvaro díaz\\.conda\\envs\\thebridge_enviroment\\lib\\site-packages (from seaborn) (1.23.3)\n",
      "Requirement already satisfied: kiwisolver>=1.0.1 in c:\\users\\alvaro díaz\\.conda\\envs\\thebridge_enviroment\\lib\\site-packages (from matplotlib!=3.6.1,>=3.1->seaborn) (1.4.4)\n",
      "Requirement already satisfied: packaging>=20.0 in c:\\users\\alvaro díaz\\.conda\\envs\\thebridge_enviroment\\lib\\site-packages (from matplotlib!=3.6.1,>=3.1->seaborn) (21.3)\n",
      "Requirement already satisfied: contourpy>=1.0.1 in c:\\users\\alvaro díaz\\.conda\\envs\\thebridge_enviroment\\lib\\site-packages (from matplotlib!=3.6.1,>=3.1->seaborn) (1.0.5)\n",
      "Requirement already satisfied: cycler>=0.10 in c:\\users\\alvaro díaz\\.conda\\envs\\thebridge_enviroment\\lib\\site-packages (from matplotlib!=3.6.1,>=3.1->seaborn) (0.11.0)\n",
      "Requirement already satisfied: pyparsing>=2.2.1 in c:\\users\\alvaro díaz\\.conda\\envs\\thebridge_enviroment\\lib\\site-packages (from matplotlib!=3.6.1,>=3.1->seaborn) (3.0.9)\n",
      "Requirement already satisfied: fonttools>=4.22.0 in c:\\users\\alvaro díaz\\.conda\\envs\\thebridge_enviroment\\lib\\site-packages (from matplotlib!=3.6.1,>=3.1->seaborn) (4.38.0)\n",
      "Requirement already satisfied: pillow>=6.2.0 in c:\\users\\alvaro díaz\\.conda\\envs\\thebridge_enviroment\\lib\\site-packages (from matplotlib!=3.6.1,>=3.1->seaborn) (9.2.0)\n",
      "Requirement already satisfied: python-dateutil>=2.7 in c:\\users\\alvaro díaz\\.conda\\envs\\thebridge_enviroment\\lib\\site-packages (from matplotlib!=3.6.1,>=3.1->seaborn) (2.8.2)\n",
      "Requirement already satisfied: pytz>=2020.1 in c:\\users\\alvaro díaz\\.conda\\envs\\thebridge_enviroment\\lib\\site-packages (from pandas>=0.25->seaborn) (2022.5)\n",
      "Requirement already satisfied: six>=1.5 in c:\\users\\alvaro díaz\\.conda\\envs\\thebridge_enviroment\\lib\\site-packages (from python-dateutil>=2.7->matplotlib!=3.6.1,>=3.1->seaborn) (1.16.0)\n",
      "Installing collected packages: matplotlib, seaborn\n",
      "  Attempting uninstall: matplotlib\n",
      "    Found existing installation: matplotlib 3.6.1\n",
      "    Uninstalling matplotlib-3.6.1:\n",
      "Note: you may need to restart the kernel to use updated packages.\n"
     ]
    },
    {
     "name": "stderr",
     "output_type": "stream",
     "text": [
      "ERROR: Could not install packages due to an OSError: [WinError 5] Acceso denegado: 'c:\\\\users\\\\alvaro díaz\\\\.conda\\\\envs\\\\thebridge_enviroment\\\\lib\\\\site-packages\\\\matplotlib\\\\backends\\\\_backend_agg.cp310-win_amd64.pyd'\n",
      "Consider using the `--user` option or check the permissions.\n",
      "\n"
     ]
    }
   ],
   "source": [
    "pip install seaborn\n"
   ]
  },
  {
   "cell_type": "code",
   "execution_count": 188,
   "metadata": {},
   "outputs": [
    {
     "ename": "ModuleNotFoundError",
     "evalue": "No module named 'seaborn'",
     "output_type": "error",
     "traceback": [
      "\u001b[1;31m---------------------------------------------------------------------------\u001b[0m",
      "\u001b[1;31mModuleNotFoundError\u001b[0m                       Traceback (most recent call last)",
      "Cell \u001b[1;32mIn [188], line 1\u001b[0m\n\u001b[1;32m----> 1\u001b[0m \u001b[39mimport\u001b[39;00m \u001b[39mseaborn\u001b[39;00m\n",
      "\u001b[1;31mModuleNotFoundError\u001b[0m: No module named 'seaborn'"
     ]
    }
   ],
   "source": [
    "import seaborn"
   ]
  },
  {
   "cell_type": "code",
   "execution_count": null,
   "metadata": {},
   "outputs": [],
   "source": [
    "sns.heatmap(df.corr(), annot=True)"
   ]
  },
  {
   "cell_type": "code",
   "execution_count": 186,
   "metadata": {},
   "outputs": [
    {
     "name": "stdout",
     "output_type": "stream",
     "text": [
      "Collecting altair\n",
      "  Using cached altair-4.2.0-py3-none-any.whl (812 kB)\n",
      "Requirement already satisfied: jinja2 in c:\\users\\alvaro díaz\\.conda\\envs\\thebridge_enviroment\\lib\\site-packages (from altair) (3.1.2)\n",
      "Requirement already satisfied: entrypoints in c:\\users\\alvaro díaz\\.conda\\envs\\thebridge_enviroment\\lib\\site-packages (from altair) (0.4)\n",
      "Requirement already satisfied: pandas>=0.18 in c:\\users\\alvaro díaz\\.conda\\envs\\thebridge_enviroment\\lib\\site-packages (from altair) (1.5.1)\n",
      "Requirement already satisfied: jsonschema>=3.0 in c:\\users\\alvaro díaz\\.conda\\envs\\thebridge_enviroment\\lib\\site-packages (from altair) (4.16.0)\n",
      "Requirement already satisfied: numpy in c:\\users\\alvaro díaz\\.conda\\envs\\thebridge_enviroment\\lib\\site-packages (from altair) (1.23.3)\n",
      "Collecting toolz\n",
      "  Using cached toolz-0.12.0-py3-none-any.whl (55 kB)\n",
      "Requirement already satisfied: attrs>=17.4.0 in c:\\users\\alvaro díaz\\.conda\\envs\\thebridge_enviroment\\lib\\site-packages (from jsonschema>=3.0->altair) (22.1.0)\n",
      "Requirement already satisfied: pyrsistent!=0.17.0,!=0.17.1,!=0.17.2,>=0.14.0 in c:\\users\\alvaro díaz\\.conda\\envs\\thebridge_enviroment\\lib\\site-packages (from jsonschema>=3.0->altair) (0.18.1)\n",
      "Requirement already satisfied: pytz>=2020.1 in c:\\users\\alvaro díaz\\.conda\\envs\\thebridge_enviroment\\lib\\site-packages (from pandas>=0.18->altair) (2022.5)\n",
      "Requirement already satisfied: python-dateutil>=2.8.1 in c:\\users\\alvaro díaz\\.conda\\envs\\thebridge_enviroment\\lib\\site-packages (from pandas>=0.18->altair) (2.8.2)\n",
      "Requirement already satisfied: MarkupSafe>=2.0 in c:\\users\\alvaro díaz\\.conda\\envs\\thebridge_enviroment\\lib\\site-packages (from jinja2->altair) (2.1.1)\n",
      "Requirement already satisfied: six>=1.5 in c:\\users\\alvaro díaz\\.conda\\envs\\thebridge_enviroment\\lib\\site-packages (from python-dateutil>=2.8.1->pandas>=0.18->altair) (1.16.0)\n",
      "Installing collected packages: toolz, altair\n",
      "Successfully installed altair-4.2.0 toolz-0.12.0\n",
      "Note: you may need to restart the kernel to use updated packages.\n"
     ]
    },
    {
     "name": "stderr",
     "output_type": "stream",
     "text": [
      "WARNING: Ignoring invalid distribution -atplotlib (c:\\users\\alvaro díaz\\.conda\\envs\\thebridge_enviroment\\lib\\site-packages)\n",
      "WARNING: Ignoring invalid distribution -atplotlib (c:\\users\\alvaro díaz\\.conda\\envs\\thebridge_enviroment\\lib\\site-packages)\n",
      "WARNING: Ignoring invalid distribution -atplotlib (c:\\users\\alvaro díaz\\.conda\\envs\\thebridge_enviroment\\lib\\site-packages)\n",
      "WARNING: Ignoring invalid distribution -atplotlib (c:\\users\\alvaro díaz\\.conda\\envs\\thebridge_enviroment\\lib\\site-packages)\n",
      "WARNING: Ignoring invalid distribution -atplotlib (c:\\users\\alvaro díaz\\.conda\\envs\\thebridge_enviroment\\lib\\site-packages)\n",
      "WARNING: Ignoring invalid distribution -atplotlib (c:\\users\\alvaro díaz\\.conda\\envs\\thebridge_enviroment\\lib\\site-packages)\n",
      "WARNING: Ignoring invalid distribution -atplotlib (c:\\users\\alvaro díaz\\.conda\\envs\\thebridge_enviroment\\lib\\site-packages)\n",
      "WARNING: Ignoring invalid distribution -atplotlib (c:\\users\\alvaro díaz\\.conda\\envs\\thebridge_enviroment\\lib\\site-packages)\n"
     ]
    }
   ],
   "source": [
    "pip install altair"
   ]
  },
  {
   "cell_type": "code",
   "execution_count": 189,
   "metadata": {},
   "outputs": [],
   "source": [
    "from altair import Chart, Color, Scale"
   ]
  },
  {
   "cell_type": "code",
   "execution_count": 193,
   "metadata": {},
   "outputs": [],
   "source": [
    "diagrama=Chart(df.loc[\"2000-01-01\":\"2001-01-01\"])"
   ]
  },
  {
   "cell_type": "code",
   "execution_count": 194,
   "metadata": {},
   "outputs": [
    {
     "name": "stderr",
     "output_type": "stream",
     "text": [
      "c:\\Users\\Alvaro Díaz\\.conda\\envs\\thebridge_enviroment\\lib\\site-packages\\altair\\utils\\core.py:317: FutureWarning: iteritems is deprecated and will be removed in a future version. Use .items instead.\n",
      "  for col_name, dtype in df.dtypes.iteritems():\n"
     ]
    },
    {
     "ename": "SchemaValidationError",
     "evalue": "Invalid specification\n\n        altair.vegalite.v4.api.Chart, validating 'required'\n\n        'mark' is a required property\n        ",
     "output_type": "error",
     "traceback": [
      "\u001b[1;31m---------------------------------------------------------------------------\u001b[0m",
      "\u001b[1;31mSchemaValidationError\u001b[0m                     Traceback (most recent call last)",
      "File \u001b[1;32mc:\\Users\\Alvaro Díaz\\.conda\\envs\\thebridge_enviroment\\lib\\site-packages\\altair\\vegalite\\v4\\api.py:2020\u001b[0m, in \u001b[0;36mChart.to_dict\u001b[1;34m(self, *args, **kwargs)\u001b[0m\n\u001b[0;32m   2018\u001b[0m     copy\u001b[39m.\u001b[39mdata \u001b[39m=\u001b[39m core\u001b[39m.\u001b[39mInlineData(values\u001b[39m=\u001b[39m[{}])\n\u001b[0;32m   2019\u001b[0m     \u001b[39mreturn\u001b[39;00m \u001b[39msuper\u001b[39m(Chart, copy)\u001b[39m.\u001b[39mto_dict(\u001b[39m*\u001b[39margs, \u001b[39m*\u001b[39m\u001b[39m*\u001b[39mkwargs)\n\u001b[1;32m-> 2020\u001b[0m \u001b[39mreturn\u001b[39;00m \u001b[39msuper\u001b[39m()\u001b[39m.\u001b[39mto_dict(\u001b[39m*\u001b[39margs, \u001b[39m*\u001b[39m\u001b[39m*\u001b[39mkwargs)\n",
      "File \u001b[1;32mc:\\Users\\Alvaro Díaz\\.conda\\envs\\thebridge_enviroment\\lib\\site-packages\\altair\\vegalite\\v4\\api.py:393\u001b[0m, in \u001b[0;36mTopLevelMixin.to_dict\u001b[1;34m(self, *args, **kwargs)\u001b[0m\n\u001b[0;32m    391\u001b[0m \u001b[39mif\u001b[39;00m dct \u001b[39mis\u001b[39;00m \u001b[39mNone\u001b[39;00m:\n\u001b[0;32m    392\u001b[0m     kwargs[\u001b[39m\"\u001b[39m\u001b[39mvalidate\u001b[39m\u001b[39m\"\u001b[39m] \u001b[39m=\u001b[39m \u001b[39m\"\u001b[39m\u001b[39mdeep\u001b[39m\u001b[39m\"\u001b[39m\n\u001b[1;32m--> 393\u001b[0m     dct \u001b[39m=\u001b[39m \u001b[39msuper\u001b[39m(TopLevelMixin, copy)\u001b[39m.\u001b[39mto_dict(\u001b[39m*\u001b[39margs, \u001b[39m*\u001b[39m\u001b[39m*\u001b[39mkwargs)\n\u001b[0;32m    395\u001b[0m \u001b[39m# TODO: following entries are added after validation. Should they be validated?\u001b[39;00m\n\u001b[0;32m    396\u001b[0m \u001b[39mif\u001b[39;00m is_top_level:\n\u001b[0;32m    397\u001b[0m     \u001b[39m# since this is top-level we add $schema if it's missing\u001b[39;00m\n",
      "File \u001b[1;32mc:\\Users\\Alvaro Díaz\\.conda\\envs\\thebridge_enviroment\\lib\\site-packages\\altair\\utils\\schemapi.py:340\u001b[0m, in \u001b[0;36mSchemaBase.to_dict\u001b[1;34m(self, validate, ignore, context)\u001b[0m\n\u001b[0;32m    338\u001b[0m         \u001b[39mself\u001b[39m\u001b[39m.\u001b[39mvalidate(result)\n\u001b[0;32m    339\u001b[0m     \u001b[39mexcept\u001b[39;00m jsonschema\u001b[39m.\u001b[39mValidationError \u001b[39mas\u001b[39;00m err:\n\u001b[1;32m--> 340\u001b[0m         \u001b[39mraise\u001b[39;00m SchemaValidationError(\u001b[39mself\u001b[39m, err)\n\u001b[0;32m    341\u001b[0m \u001b[39mreturn\u001b[39;00m result\n",
      "\u001b[1;31mSchemaValidationError\u001b[0m: Invalid specification\n\n        altair.vegalite.v4.api.Chart, validating 'required'\n\n        'mark' is a required property\n        "
     ]
    },
    {
     "data": {
      "text/plain": [
       "alt.Chart(...)"
      ]
     },
     "execution_count": 194,
     "metadata": {},
     "output_type": "execute_result"
    }
   ],
   "source": [
    "diagrama"
   ]
  },
  {
   "cell_type": "code",
   "execution_count": 196,
   "metadata": {},
   "outputs": [
    {
     "ename": "TypeError",
     "evalue": "range expected at least 1 argument, got 0",
     "output_type": "error",
     "traceback": [
      "\u001b[1;31m---------------------------------------------------------------------------\u001b[0m",
      "\u001b[1;31mTypeError\u001b[0m                                 Traceback (most recent call last)",
      "Cell \u001b[1;32mIn [196], line 1\u001b[0m\n\u001b[1;32m----> 1\u001b[0m escala\u001b[39m=\u001b[39mScale(\u001b[39mrange\u001b[39;49m())\n\u001b[0;32m      2\u001b[0m diagrama\u001b[39m.\u001b[39mmark_point()\u001b[39m.\u001b[39mencode(x\u001b[39m=\u001b[39m\u001b[39m\"\u001b[39m\u001b[39mHigh\u001b[39m\u001b[39m\"\u001b[39m, y\u001b[39m=\u001b[39m\u001b[39m\"\u001b[39m\u001b[39mLow\u001b[39m\u001b[39m\"\u001b[39m,color\u001b[39m=\u001b[39mColor(\u001b[39m\"\u001b[39m\u001b[39mAnyo\u001b[39m\u001b[39m\"\u001b[39m,scale\u001b[39m=\u001b[39mescala))\n",
      "\u001b[1;31mTypeError\u001b[0m: range expected at least 1 argument, got 0"
     ]
    }
   ],
   "source": [
    "escala=Scale(range())\n",
    "diagrama.mark_point().encode(x=\"High\", y=\"Low\",color=Color(\"Anyo\",scale=escala))"
   ]
  },
  {
   "cell_type": "code",
   "execution_count": 197,
   "metadata": {},
   "outputs": [
    {
     "data": {
      "text/plain": [
       "<AxesSubplot: ylabel='Density'>"
      ]
     },
     "execution_count": 197,
     "metadata": {},
     "output_type": "execute_result"
    },
    {
     "data": {
      "image/png": "[encoded data removed]",
      "text/plain": [
       "<Figure size 800x550 with 1 Axes>"
      ]
     },
     "metadata": {},
     "output_type": "display_data"
    }
   ],
   "source": [
    "df[\"High\"].plot.kde()"
   ]
  },
  {
   "cell_type": "markdown",
   "metadata": {},
   "source": [
    "# Ejercicios"
   ]
  },
  {
   "cell_type": "code",
   "execution_count": 3,
   "metadata": {},
   "outputs": [],
   "source": [
    "import numpy as np"
   ]
  },
  {
   "cell_type": "code",
   "execution_count": 6,
   "metadata": {},
   "outputs": [],
   "source": [
    "lista=[60,66,77,70,66,68,57,70,66,52,75,65,69,71,58,66,67,74,61,63]"
   ]
  },
  {
   "cell_type": "code",
   "execution_count": 7,
   "metadata": {},
   "outputs": [
    {
     "data": {
      "text/plain": [
       "66.05"
      ]
     },
     "execution_count": 7,
     "metadata": {},
     "output_type": "execute_result"
    }
   ],
   "source": [
    "np.mean(lista)"
   ]
  },
  {
   "cell_type": "code",
   "execution_count": 8,
   "metadata": {},
   "outputs": [
    {
     "data": {
      "text/plain": [
       "66.0"
      ]
     },
     "execution_count": 8,
     "metadata": {},
     "output_type": "execute_result"
    }
   ],
   "source": [
    "np.median(lista)"
   ]
  },
  {
   "cell_type": "code",
   "execution_count": 10,
   "metadata": {},
   "outputs": [],
   "source": [
    "from statistics import mode"
   ]
  },
  {
   "cell_type": "code",
   "execution_count": 11,
   "metadata": {},
   "outputs": [
    {
     "data": {
      "text/plain": [
       "66"
      ]
     },
     "execution_count": 11,
     "metadata": {},
     "output_type": "execute_result"
    }
   ],
   "source": [
    "mode(lista)"
   ]
  },
  {
   "cell_type": "code",
   "execution_count": 12,
   "metadata": {},
   "outputs": [
    {
     "data": {
      "text/plain": [
       "1.0"
      ]
     },
     "execution_count": 12,
     "metadata": {},
     "output_type": "execute_result"
    }
   ],
   "source": [
    "np.corrcoef(lista)"
   ]
  },
  {
   "cell_type": "code",
   "execution_count": 34,
   "metadata": {},
   "outputs": [
    {
     "data": {
      "text/plain": [
       "39.41842105263158"
      ]
     },
     "execution_count": 34,
     "metadata": {},
     "output_type": "execute_result"
    }
   ],
   "source": [
    "import statistics\n",
    "\n",
    "\n",
    "statistics.variance(lista)"
   ]
  },
  {
   "cell_type": "code",
   "execution_count": 37,
   "metadata": {},
   "outputs": [
    {
     "data": {
      "text/plain": [
       "66"
      ]
     },
     "execution_count": 37,
     "metadata": {},
     "output_type": "execute_result"
    }
   ],
   "source": [
    "statistics.mode(lista)"
   ]
  },
  {
   "cell_type": "code",
   "execution_count": 38,
   "metadata": {},
   "outputs": [
    {
     "data": {
      "text/plain": [
       "66.05"
      ]
     },
     "execution_count": 38,
     "metadata": {},
     "output_type": "execute_result"
    }
   ],
   "source": [
    "statistics.mean(lista)"
   ]
  },
  {
   "cell_type": "code",
   "execution_count": 39,
   "metadata": {},
   "outputs": [
    {
     "data": {
      "text/plain": [
       "66.0"
      ]
     },
     "execution_count": 39,
     "metadata": {},
     "output_type": "execute_result"
    }
   ],
   "source": [
    "statistics.median(lista)"
   ]
  },
  {
   "cell_type": "code",
   "execution_count": 42,
   "metadata": {},
   "outputs": [
    {
     "data": {
      "text/plain": [
       "39.41842105263157"
      ]
     },
     "execution_count": 42,
     "metadata": {},
     "output_type": "execute_result"
    }
   ],
   "source": [
    "statistics.covariance(lista,lista)"
   ]
  },
  {
   "cell_type": "code",
   "execution_count": 33,
   "metadata": {},
   "outputs": [
    {
     "data": {
      "text/plain": [
       "37.4475"
      ]
     },
     "execution_count": 33,
     "metadata": {},
     "output_type": "execute_result"
    }
   ],
   "source": [
    "np.var(lista)"
   ]
  },
  {
   "cell_type": "code",
   "execution_count": 14,
   "metadata": {},
   "outputs": [],
   "source": [
    "#Varianza paso 1 suma lista\n",
    "n = sum(lista)"
   ]
  },
  {
   "cell_type": "code",
   "execution_count": 16,
   "metadata": {},
   "outputs": [
    {
     "data": {
      "text/plain": [
       "0.049999999999999996"
      ]
     },
     "execution_count": 16,
     "metadata": {},
     "output_type": "execute_result"
    }
   ],
   "source": [
    "varianza= (np.mean(lista))/(n)\n",
    "varianza"
   ]
  },
  {
   "cell_type": "markdown",
   "metadata": {},
   "source": [
    " # Ejercocop 2"
   ]
  },
  {
   "cell_type": "code",
   "execution_count": 29,
   "metadata": {},
   "outputs": [
    {
     "data": {
      "text/plain": [
       "0.8973385117241223"
      ]
     },
     "execution_count": 29,
     "metadata": {},
     "output_type": "execute_result"
    }
   ],
   "source": [
    "coeficiente_determinacion = (66.1438-425)**2/(89.9218-468.75)**2\n",
    "coeficiente_determinacion"
   ]
  },
  {
   "cell_type": "code",
   "execution_count": null,
   "metadata": {},
   "outputs": [],
   "source": []
  }
 ],
 "metadata": {
  "kernelspec": {
   "display_name": "Python 3.10.6 ('thebridge_enviroment')",
   "language": "python",
   "name": "python3"
  },
  "language_info": {
   "codemirror_mode": {
    "name": "ipython",
    "version": 3
   },
   "file_extension": ".py",
   "mimetype": "text/x-python",
   "name": "python",
   "nbconvert_exporter": "python",
   "pygments_lexer": "ipython3",
   "version": "3.10.6"
  },
  "orig_nbformat": 4,
  "vscode": {
   "interpreter": {
    "hash": "7d3e4eb6c4020fc3182485a5b9588accf4086547f60579d23983d2a06b0708b2"
   }
  }
 },
 "nbformat": 4,
 "nbformat_minor": 2
}
