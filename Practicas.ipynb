{
 "cells": [
  {
   "cell_type": "markdown",
   "metadata": {},
   "source": [
    "# Funciones anónimas\n",
    "\n",
    "\n",
    "- lambda\n",
    "- map\n",
    "- reduce\n",
    "- filter\n"
   ]
  },
  {
   "cell_type": "markdown",
   "metadata": {},
   "source": [
    "## Lambda\n",
    "\n",
    "Se utiliza una única expreción, es evaluada con argumentos cuand ose llama la función, y el resultado de esta evaluación es el valor que devuelve la función\n",
    "\n",
    "```\n",
    "lambda par1, par2 : expr1, expr2\n",
    "```"
   ]
  },
  {
   "cell_type": "code",
   "execution_count": 1,
   "metadata": {},
   "outputs": [
    {
     "data": {
      "text/plain": [
       "<function __main__.<lambda>(x, y)>"
      ]
     },
     "execution_count": 1,
     "metadata": {},
     "output_type": "execute_result"
    }
   ],
   "source": [
    "# Definimos una funcion lambda que suma dos valores\n",
    "\n",
    "lambda x, y : x+y"
   ]
  },
  {
   "cell_type": "code",
   "execution_count": 2,
   "metadata": {},
   "outputs": [
    {
     "data": {
      "text/plain": [
       "14"
      ]
     },
     "execution_count": 2,
     "metadata": {},
     "output_type": "execute_result"
    }
   ],
   "source": [
    "# Definimos una funcion lambda que suma dos valores y la llamamos\n",
    "(lambda x, y : x+y )(5, 9)"
   ]
  },
  {
   "cell_type": "code",
   "execution_count": 3,
   "metadata": {},
   "outputs": [],
   "source": [
    "# Definimos una función lambda que suma dos valores y le asignamos a una variable suma \n",
    "suma = lambda x, y : x+y"
   ]
  },
  {
   "cell_type": "code",
   "execution_count": 4,
   "metadata": {},
   "outputs": [
    {
     "data": {
      "text/plain": [
       "9"
      ]
     },
     "execution_count": 4,
     "metadata": {},
     "output_type": "execute_result"
    }
   ],
   "source": [
    "suma(5,4)"
   ]
  },
  {
   "cell_type": "markdown",
   "metadata": {},
   "source": [
    "## Map\n",
    "\n",
    "La función `map`recibe como parámetros una función (built-in, custom, lambda) y devuelve un iterador que aplica la función proporcionada a cada uno de los elementos del iterable.\n",
    "\n",
    "`map(fun, iterable)`\n",
    "Es mapear"
   ]
  },
  {
   "cell_type": "code",
   "execution_count": 31,
   "metadata": {},
   "outputs": [],
   "source": [
    "def sum_dos(x):\n",
    "    \"\"\"Añade 2 al valor que recibe como parametro\"\"\"\n",
    "    return x+2\n",
    "\n",
    "#Aplicamos esta funcion a cada uno de los elementos de un iterable, lista\n",
    "lista= [5,8,9,7,1]\n",
    "op_suma = map(sum_dos, lista)"
   ]
  },
  {
   "cell_type": "code",
   "execution_count": 20,
   "metadata": {},
   "outputs": [
    {
     "data": {
      "text/plain": [
       "<map at 0x18d84819450>"
      ]
     },
     "execution_count": 20,
     "metadata": {},
     "output_type": "execute_result"
    }
   ],
   "source": [
    "op_suma # devulve un iterador"
   ]
  },
  {
   "cell_type": "code",
   "execution_count": 23,
   "metadata": {},
   "outputs": [
    {
     "data": {
      "text/plain": [
       "[7, 10, 11, 9, 3]"
      ]
     },
     "execution_count": 23,
     "metadata": {},
     "output_type": "execute_result"
    }
   ],
   "source": [
    "list(op_suma)"
   ]
  },
  {
   "cell_type": "code",
   "execution_count": 24,
   "metadata": {},
   "outputs": [],
   "source": [
    "####### EXPLICACION LIST COMPREHENSION\n",
    "# lista=[]\n",
    "# for n in op_suma:\n",
    "#    if n % 2 ==0:\n",
    "#        lista.append(n)\n",
    "\n",
    "###como list comprehension:\n",
    "# n for n in op_suma n %2 == 0"
   ]
  },
  {
   "cell_type": "code",
   "execution_count": 18,
   "metadata": {},
   "outputs": [
    {
     "name": "stdout",
     "output_type": "stream",
     "text": [
      "[7, 10, 11, 9, 3]\n"
     ]
    }
   ],
   "source": [
    "print(list(op_suma))"
   ]
  },
  {
   "cell_type": "code",
   "execution_count": 9,
   "metadata": {},
   "outputs": [
    {
     "name": "stdout",
     "output_type": "stream",
     "text": [
      "5\n",
      "8\n",
      "9\n",
      "7\n",
      "1\n"
     ]
    }
   ],
   "source": [
    "for n in lista:\n",
    "    print(n)"
   ]
  },
  {
   "cell_type": "code",
   "execution_count": 10,
   "metadata": {},
   "outputs": [
    {
     "data": {
      "text/plain": [
       "[7, 10, 11, 9, 3]"
      ]
     },
     "execution_count": 10,
     "metadata": {},
     "output_type": "execute_result"
    }
   ],
   "source": [
    "[sum_dos(x) for x in lista]"
   ]
  },
  {
   "cell_type": "code",
   "execution_count": 26,
   "metadata": {},
   "outputs": [],
   "source": [
    "# Definimos una funcion que convierte cadenas de caracteres que expresan valores numericos (decimales) en enteros\n",
    "def convert_to_int(x):\n",
    "    '''Convertimos valores numericos en enteros'''\n",
    "    return int(float(x))"
   ]
  },
  {
   "cell_type": "code",
   "execution_count": 76,
   "metadata": {},
   "outputs": [
    {
     "data": {
      "text/plain": [
       "[50, 15, 120000]"
      ]
     },
     "execution_count": 76,
     "metadata": {},
     "output_type": "execute_result"
    }
   ],
   "source": [
    "lista = [\"50.6\", \"15.4\", \"120000\"]\n",
    "\n",
    "# Guardamos los resultados en un objeto lista\n",
    "#conv = list(map(convert_to_int, lista))\n",
    "\n",
    "# Alternativa con list comprehension\n",
    "conv = [n for n in map(convert_to_int, lista)]\n",
    "conv"
   ]
  },
  {
   "cell_type": "code",
   "execution_count": 79,
   "metadata": {},
   "outputs": [
    {
     "data": {
      "text/plain": [
       "[50, 15, 1200000]"
      ]
     },
     "execution_count": 79,
     "metadata": {},
     "output_type": "execute_result"
    }
   ],
   "source": [
    "lista = [\"50.6\", \"15.4\", \"1200000\"]\n",
    "\n",
    "# Guardamos los resultados en un objeto lista \n",
    "conv=list(map(convert_to_int, lista))\n",
    "\n",
    "#conv = [n for n in map(convert_to_int, lista)]\n",
    "conv"
   ]
  },
  {
   "cell_type": "code",
   "execution_count": 85,
   "metadata": {},
   "outputs": [
    {
     "name": "stdout",
     "output_type": "stream",
     "text": [
      "113000\n"
     ]
    }
   ],
   "source": [
    "# Crear una funcion que calcula el precio de un piso a partir de los metros cuadrrados, el estado de conservacion y el vecindario\n",
    "\n",
    "def compute_price(sqm,status, neigh):\n",
    "    ''' Calcular el precio del piso'''\n",
    "\n",
    "    #TODO\n",
    "    # Declarar los parametro\n",
    "    value_flat = sqm * 1000\n",
    "    finish_price_status = 0\n",
    "    finish_price_neigh = 0\n",
    "    # Realizar el cálculo\n",
    "    \n",
    "\n",
    "    if status == \"Nuevo\":\n",
    "        return value_flat + 13000\n",
    "    elif status == \"Old\":\n",
    "        return finivalue_flatsh_price_status -2000\n",
    "\n",
    "    if neigh == \"Good\":\n",
    "        return value_flat*1.5\n",
    "    elif neigh == \"Bad\":\n",
    "        return value_flat*0.9\n",
    "\n",
    "    # Si el piso se encuentra en un barrio pijo, se aplica un factor multiplicativo al precio del piso\n",
    "\n",
    "    # Si el piso se encuentra en un barrio chungo, se resta un factor\n",
    "\n",
    "    # Si el piso es nuevo, nueva construccion, hay un factor multiplicativo al precio del piso\n",
    "    #price =sum[int(finish_price_neigh), int(finish_price_sqm), int(finish_price_status)]\n",
    "    price = lambda finish_price_neigh, finish_price_sqm, finish_price_status : finish_price_neigh+finish_price_sqm+finish_price_status\n",
    "    return price\n",
    "print (compute_price(100, \"Nuevo\", \"Bad\"))"
   ]
  },
  {
   "cell_type": "code",
   "execution_count": 86,
   "metadata": {},
   "outputs": [
    {
     "data": {
      "text/plain": [
       "113000"
      ]
     },
     "execution_count": 86,
     "metadata": {},
     "output_type": "execute_result"
    }
   ],
   "source": [
    "# Si al realizar la operacion \n",
    "compute_price(100, \"Nuevo\", \"Bad\")\n"
   ]
  },
  {
   "cell_type": "markdown",
   "metadata": {},
   "source": [
    "# Filter\n",
    "\n",
    "la funcio `filter`recibe tambien parámetros y un iterable, devuelve un iterador recorre los elementros , evalua la funcion cuando esta sea True\n",
    "\n",
    "`filter(fun, iterable)`"
   ]
  },
  {
   "cell_type": "code",
   "execution_count": 91,
   "metadata": {},
   "outputs": [],
   "source": [
    "# Definimos la funcion is_numeric devuelve True si recibe un entero o un flotante como argumente, False en caso contrario\n",
    "\n",
    "def is_numeric(x):\n",
    "    if type(x) == float or type(x) == int:\n",
    "        return True\n",
    "    return False"
   ]
  },
  {
   "cell_type": "code",
   "execution_count": 92,
   "metadata": {},
   "outputs": [
    {
     "data": {
      "text/plain": [
       "[1, 2, 4, 5, 6, 7, 8]"
      ]
     },
     "execution_count": 92,
     "metadata": {},
     "output_type": "execute_result"
    }
   ],
   "source": [
    "# Definimos una lista\n",
    "lista_mixta = [1,2, \"Three\", \"four\",4,5,6,7,8,[1,2,4], None]\n",
    "\n",
    "# Apliocmaos el filtro a la lista\n",
    "resultado = list(filter(is_numeric, lista_mixta))\n",
    "resultado"
   ]
  },
  {
   "cell_type": "markdown",
   "metadata": {},
   "source": [
    "# Reduce\n",
    "\n",
    "La funcion `reduce`recibe una funcion y un iterable. La funcion aplica de manera acumulativa, la funcion recibe como argumento los elementos del iterable. Tiene que devolver un solo valor. \n",
    "\n",
    "``` f(f(f(1,2),3),4)```"
   ]
  },
  {
   "cell_type": "code",
   "execution_count": 101,
   "metadata": {},
   "outputs": [],
   "source": [
    "def max_dos(x,y):\n",
    "    if x>y:\n",
    "        return x\n",
    "    else:\n",
    "        return y"
   ]
  },
  {
   "cell_type": "code",
   "execution_count": 102,
   "metadata": {},
   "outputs": [
    {
     "data": {
      "text/plain": [
       "4"
      ]
     },
     "execution_count": 102,
     "metadata": {},
     "output_type": "execute_result"
    }
   ],
   "source": [
    "from functools import reduce\n",
    "\n",
    "lista = [1,2,3,4]\n",
    "reduce(max_dos, lista)"
   ]
  },
  {
   "cell_type": "code",
   "execution_count": 103,
   "metadata": {},
   "outputs": [
    {
     "data": {
      "text/plain": [
       "4"
      ]
     },
     "execution_count": 103,
     "metadata": {},
     "output_type": "execute_result"
    }
   ],
   "source": [
    "max_dos(max_dos(max_dos(1,2),3),4)"
   ]
  },
  {
   "cell_type": "markdown",
   "metadata": {},
   "source": [
    "# Lab \n",
    "\n",
    "Ejemplo que utiliza las 3 funciones anteriores (Lambda, map, reuce)"
   ]
  },
  {
   "cell_type": "code",
   "execution_count": 104,
   "metadata": {},
   "outputs": [],
   "source": [
    "# Definimos una funcion que devuelve el producto de dos valores\n",
    "\n",
    "def prod_dos_valores(x,y):\n",
    "    return x*y\n",
    "\n",
    "# Definimos una funcion que devuelve el cuadrado de un valor\n",
    "def square(x):\n",
    "    return x**2\n",
    "\n",
    "# Definimos una funcion que devuelve True si el valor es impar y False en caso contrario\n",
    "def is_odd(x):\n",
    "    return x % 2\n",
    "    "
   ]
  },
  {
   "cell_type": "code",
   "execution_count": 140,
   "metadata": {},
   "outputs": [],
   "source": [
    "# Definimos la funcion completa devuelve el producto de los cuadrados de los valores impares de una lista\n",
    "def prod_sq_if_odd(lista):\n",
    "    return reduce(prod_dos_valores, map(square, filter(is_odd, lista)))"
   ]
  },
  {
   "cell_type": "code",
   "execution_count": 149,
   "metadata": {},
   "outputs": [
    {
     "data": {
      "text/plain": [
       "2025"
      ]
     },
     "execution_count": 149,
     "metadata": {},
     "output_type": "execute_result"
    }
   ],
   "source": [
    "lista_valores =[5,6,9,8]\n",
    "prod_sq_if_odd(lista_valores)"
   ]
  },
  {
   "cell_type": "code",
   "execution_count": 152,
   "metadata": {},
   "outputs": [],
   "source": [
    "# Realizar misma funcion con lambda, map, filter, reduce\n",
    "\n",
    "# Definimos la funcion completa devuelve el producto de los cuadrados de los valores impares de una lista\n",
    "def prod_sq_if_odd(lista):\n",
    "    return reduce(lambda x, y : x*y,\n",
    "                        map(lambda x : x**2,        \n",
    "                                filter(lambda x : x %2, lista)))"
   ]
  },
  {
   "cell_type": "code",
   "execution_count": 153,
   "metadata": {},
   "outputs": [
    {
     "data": {
      "text/plain": [
       "2025"
      ]
     },
     "execution_count": 153,
     "metadata": {},
     "output_type": "execute_result"
    }
   ],
   "source": [
    "lista_valores =[5,6,9,8]\n",
    "prod_sq_if_odd(lista_valores)"
   ]
  }
 ],
 "metadata": {
  "kernelspec": {
   "display_name": "Python 3.10.6 ('thebridge_enviroment')",
   "language": "python",
   "name": "python3"
  },
  "language_info": {
   "codemirror_mode": {
    "name": "ipython",
    "version": 3
   },
   "file_extension": ".py",
   "mimetype": "text/x-python",
   "name": "python",
   "nbconvert_exporter": "python",
   "pygments_lexer": "ipython3",
   "version": "3.10.6"
  },
  "orig_nbformat": 4,
  "vscode": {
   "interpreter": {
    "hash": "7d3e4eb6c4020fc3182485a5b9588accf4086547f60579d23983d2a06b0708b2"
   }
  }
 },
 "nbformat": 4,
 "nbformat_minor": 2
}
