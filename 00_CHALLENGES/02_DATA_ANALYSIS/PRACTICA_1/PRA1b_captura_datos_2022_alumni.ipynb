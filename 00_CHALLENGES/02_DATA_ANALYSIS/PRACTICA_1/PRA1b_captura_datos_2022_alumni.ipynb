{
  "cells": [
    {
      "cell_type": "markdown",
      "metadata": {
        "id": "bnr2i7L2VRMv"
      },
      "source": [
        "# Práctica 1b: INTRODUCCIÓN A LOS DATOS\n"
      ]
    },
    {
      "cell_type": "markdown",
      "metadata": {
        "id": "CRN_9N1zVauL"
      },
      "source": [
        "En esta práctica vamos a retomar el contacto con los datos y vamos a hacer un repaso con los formatos de datos más habituales."
      ]
    },
    {
      "cell_type": "markdown",
      "metadata": {
        "id": "PckOeTE7TpMd"
      },
      "source": [
        "**NOTA:**  Para cargar los ficheros de datos se recomienda que se guarden en la carpeta del google drive donde se está trabajando. \n",
        "\n",
        "Una vez guardados, se debe montar la unidad del drive para poder acceder y referenciar la ruta para cargar los datos. \n",
        "\n",
        "El código que permite cargar la unidad drive es:\n",
        "\n",
        "\n",
        "```\n",
        "from google.colab import drive\n",
        "drive.mount('/content/drive')\n",
        "\n",
        "```\n",
        "\n",
        "\n"
      ]
    },
    {
      "cell_type": "markdown",
      "metadata": {
        "id": "HAPIzljvTpMg"
      },
      "source": [
        "_Ejemplo:_"
      ]
    },
    {
      "cell_type": "code",
      "execution_count": null,
      "metadata": {
        "colab": {
          "base_uri": "https://localhost:8080/"
        },
        "id": "UtWHstwZTpMi",
        "outputId": "5a7c92db-80cd-422f-8058-63dd351913c1"
      },
      "outputs": [
        {
          "name": "stdout",
          "output_type": "stream",
          "text": [
            "Mounted at /content/drive\n"
          ]
        }
      ],
      "source": [
        "from google.colab import drive\n",
        "drive.mount('/content/drive')"
      ]
    },
    {
      "cell_type": "code",
      "execution_count": null,
      "metadata": {
        "id": "-sP-ymrbRWN8"
      },
      "outputs": [],
      "source": [
        "PATH=\"/content/drive/My Drive/......./PRA1/data/\""
      ]
    }
  ],
  "metadata": {
    "colab": {
      "collapsed_sections": [
        "wjlGj8hPb5wC"
      ],
      "provenance": []
    },
    "kernelspec": {
      "display_name": "Python 3.9.5 ('the_bridge_22')",
      "language": "python",
      "name": "python3"
    },
    "language_info": {
      "name": "python",
      "version": "3.9.5"
    },
    "vscode": {
      "interpreter": {
        "hash": "1c79a6bee0cc3880bade9bffe4f2ea0bcfc562fd81915ef930f986f3657b2ce7"
      }
    }
  },
  "nbformat": 4,
  "nbformat_minor": 0
}
