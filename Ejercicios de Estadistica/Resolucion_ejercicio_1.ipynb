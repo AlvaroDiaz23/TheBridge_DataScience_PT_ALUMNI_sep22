{
 "cells": [
  {
   "cell_type": "markdown",
   "metadata": {},
   "source": [
    "# Ejercicios Tema 1 (Estadistica)\n",
    "\n",
    "### Ejercicio 1 Se considera la matriz\n",
    "\n",
    "$\\left(A=\\begin{array}{lll}\n",
    "0 & -1 & 1 \\\\\n",
    "0 & 1 & -1 \\\\ 0 & 0 & 1\n",
    "\\end{array}\n",
    "\\right)\n",
    "$\n",
    "\n",
    "Hallar una fórmula para $A^n$, siendo n un entero positivo"
   ]
  },
  {
   "cell_type": "code",
   "execution_count": 3,
   "metadata": {},
   "outputs": [],
   "source": [
    "# Importamos la libreria de numpy\n",
    "import numpy as np"
   ]
  },
  {
   "cell_type": "code",
   "execution_count": 84,
   "metadata": {},
   "outputs": [
    {
     "data": {
      "text/plain": [
       "array([[ 0, -1,  1],\n",
       "       [ 0,  1, -1],\n",
       "       [ 0,  0,  1]])"
      ]
     },
     "execution_count": 84,
     "metadata": {},
     "output_type": "execute_result"
    }
   ],
   "source": [
    "# Creamos la matriz mediante una lista que numpy declara como array.\n",
    "A=np.array([[0,-1,1],[0,1,-1],[0,0,1]])\n",
    "A"
   ]
  },
  {
   "cell_type": "code",
   "execution_count": 29,
   "metadata": {},
   "outputs": [
    {
     "name": "stdout",
     "output_type": "stream",
     "text": [
      "La matriz para n=2 es:  [[0 1 1]\n",
      " [0 1 1]\n",
      " [0 0 1]]\n",
      "La matriz para n=3 es: [[ 0 -1  1]\n",
      " [ 0  1 -1]\n",
      " [ 0  0  1]]\n"
     ]
    }
   ],
   "source": [
    "# Vamos a hallar una formula para $A^n$, siendo n un número positivo\n",
    "\n",
    "# Vamos a probar con n=2\n",
    "A_dos= A*A\n",
    "A_tres=A_dos*A\n",
    "print (\"La matriz para n=2 es: \",A_dos )\n",
    "\n",
    "\n",
    "print (\"La matriz para n=3 es:\", A_tres)"
   ]
  },
  {
   "cell_type": "markdown",
   "metadata": {},
   "source": [
    "## Solución:\n",
    "\n",
    "Si n es un número par la matriz va a ser:\n",
    "$\\left(A=\\begin{array}{lll}\n",
    "0 & 1 & 1 \\\\\n",
    "0 & 1 & 1 \\\\ 0 & 0 & 1\n",
    "\\end{array}\n",
    "\\right)\n",
    "$\n",
    "\n",
    "Por el contrario si es impar:\n",
    "$\\left(A=\\begin{array}{lll}\n",
    "0 & -1 & 1 \\\\\n",
    "0 & 1 & -1 \\\\ 0 & 0 & 1\n",
    "\\end{array}\n",
    "\\right)\n",
    "$\n",
    "\n",
    "Todo es se debe a los signos negativos que tiene la matriz."
   ]
  },
  {
   "cell_type": "markdown",
   "metadata": {},
   "source": [
    "## Ejercicio 2 Dada la matriz: \n"
   ]
  },
  {
   "cell_type": "markdown",
   "metadata": {},
   "source": []
  },
  {
   "cell_type": "code",
   "execution_count": null,
   "metadata": {},
   "outputs": [],
   "source": []
  },
  {
   "cell_type": "markdown",
   "metadata": {},
   "source": [
    "## Ejercicio 3. Transforme la matriz A en una matriz escalonada reducida por filas: \n",
    "$\\left(A=\\begin{array}{lll}\n",
    "2 & 3 & 1 & 4 \\\\\n",
    "3 & 1 & 2 & 0\\\\ 1 & 2 & 4 & 1\n",
    "\\end{array}\n",
    "\\right)\n",
    "$"
   ]
  },
  {
   "cell_type": "code",
   "execution_count": 85,
   "metadata": {},
   "outputs": [
    {
     "data": {
      "text/plain": [
       "array([[2, 3, 1, 4],\n",
       "       [3, 1, 2, 0],\n",
       "       [1, 2, 4, 1]])"
      ]
     },
     "execution_count": 85,
     "metadata": {},
     "output_type": "execute_result"
    }
   ],
   "source": [
    "# Creamos la matriz:\n",
    "B=np.array([[2,3,1,4],[3,1,2,0],[1,2,4,1]])\n",
    "B"
   ]
  },
  {
   "cell_type": "code",
   "execution_count": 108,
   "metadata": {},
   "outputs": [
    {
     "data": {
      "text/plain": [
       "array([ 0,  0,  4, -2])"
      ]
     },
     "execution_count": 108,
     "metadata": {},
     "output_type": "execute_result"
    }
   ],
   "source": [
    "escalonada_F_1 = B[0]-1\n",
    "escalonada_F_2 = B[2]-escalonada_F_1\n",
    "escalonada_F_2"
   ]
  },
  {
   "cell_type": "code",
   "execution_count": 117,
   "metadata": {},
   "outputs": [
    {
     "name": "stderr",
     "output_type": "stream",
     "text": [
      "C:\\Users\\Alvaro Díaz\\AppData\\Local\\Temp\\ipykernel_21268\\3992919410.py:1: VisibleDeprecationWarning: Creating an ndarray from ragged nested sequences (which is a list-or-tuple of lists-or-tuples-or ndarrays with different lengths or shapes) is deprecated. If you meant to do this, you must specify 'dtype=object' when creating the ndarray.\n",
      "  B_modificada=np.array([[np.array(escalonada_F_1)],[np.array(escalonada_F_2)],B[1]])\n"
     ]
    },
    {
     "data": {
      "text/plain": [
       "numpy.ndarray"
      ]
     },
     "execution_count": 117,
     "metadata": {},
     "output_type": "execute_result"
    }
   ],
   "source": [
    "B_modificada=np.array([[np.array(escalonada_F_1)],[np.array(escalonada_F_2)],B[1]])\n",
    "type(B_modificada)"
   ]
  }
 ],
 "metadata": {
  "kernelspec": {
   "display_name": "Python 3.10.6 ('thebridge_enviroment')",
   "language": "python",
   "name": "python3"
  },
  "language_info": {
   "codemirror_mode": {
    "name": "ipython",
    "version": 3
   },
   "file_extension": ".py",
   "mimetype": "text/x-python",
   "name": "python",
   "nbconvert_exporter": "python",
   "pygments_lexer": "ipython3",
   "version": "3.10.6"
  },
  "orig_nbformat": 4,
  "vscode": {
   "interpreter": {
    "hash": "7d3e4eb6c4020fc3182485a5b9588accf4086547f60579d23983d2a06b0708b2"
   }
  }
 },
 "nbformat": 4,
 "nbformat_minor": 2
}
