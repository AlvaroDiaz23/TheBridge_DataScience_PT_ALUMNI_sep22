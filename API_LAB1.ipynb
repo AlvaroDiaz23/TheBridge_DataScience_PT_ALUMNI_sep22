{
 "cells": [
  {
   "cell_type": "markdown",
   "metadata": {},
   "source": [
    "# Lab. 01\n",
    "\n",
    "Ejercicio 1\n",
    "Programad una función que retorne el estado meteorológico actual en una cierta localización, definida por su código postal (zip code) y código de país (e.g: us, uk, es, fr, etc). La función debe devolver una lista de tuplas de dos elementos, correspondientes al resumen del estado actual del tiempo (weather.main) y a la descripción extendida (weather.description).\n",
    "\n",
    "- GET (endpoint -- headers, params)\n",
    "- POST (endpoint -- headers, params, body)\n",
    "\n",
    "\n",
    "Utilizad la API de openweathermap para obtener las predicciones.Para utilizar la API necesitareis registraros y obtener una API key. Podéis registraros aquí y obtener vuestra API key aquí una vez registrados. Tened en cuenta que la API key puede tardar un rato en funcionar después de registraros, y la API os devolverá un error 401 conforme la clave no es valida:\n",
    "\n",
    "```{\"cod\":401, \"message\": \"Invalid API key. Please see http://openweathermap.org/faq#error401 for more info.\"}\n",
    "```\n",
    "\n",
    "Simplemente esperad un rato antes de utilizar la clave.Hints: \n",
    "Veréis que en general la API esta documentada sin incluir la API key, aun que esta es necesaria. \n",
    "\n",
    "Deberéis incluir la API key en la llamada como uno de los parámetros de la URL (&appid=your_api_key):  \n",
    "\n",
    "```\n",
    "http://example_url.com?param1=value1&param2=value2&appid=your_api_key\n",
    "```\n",
    "\n",
    "Os animamos a que paséis por el \n",
    "proceso de registro para que veáis de que trata y cómo se generan las API keys. \n",
    "\n",
    "Aún así, os proporcionamos una API key en caso de que tengáis problemas con el proceso.  \n",
    "\n",
    "owm_api_key = '7b092a986cd6caa36dbe9917a6d95545'"
   ]
  },
  {
   "cell_type": "code",
   "execution_count": 6,
   "metadata": {},
   "outputs": [],
   "source": [
    "import pandas as pd\n",
    "import requests"
   ]
  },
  {
   "cell_type": "code",
   "execution_count": 25,
   "metadata": {},
   "outputs": [
    {
     "name": "stdout",
     "output_type": "stream",
     "text": [
      "Código de estado de la petición es: 401\n"
     ]
    }
   ],
   "source": [
    "# Realizamos la petición GET a la API de postcodes.io\n",
    "\n",
    "# Variables de la petición API -> ruta/codigo_postal\n",
    "APIKey = '7b092a986cd6caa36dbe9917a6d95545'\n",
    "api_url = \"https://api.openweathermap.org/data/2.5/weather?lat={lat}&lon={lon}&appid={API key}\"\n",
    "response = requests.get(url=api_url)\n",
    "print(f\"Código de estado de la petición es: {response.status_code}\")"
   ]
  },
  {
   "cell_type": "code",
   "execution_count": null,
   "metadata": {},
   "outputs": [],
   "source": []
  }
 ],
 "metadata": {
  "kernelspec": {
   "display_name": "Python 3.10.6 ('thebridge_enviroment')",
   "language": "python",
   "name": "python3"
  },
  "language_info": {
   "codemirror_mode": {
    "name": "ipython",
    "version": 3
   },
   "file_extension": ".py",
   "mimetype": "text/x-python",
   "name": "python",
   "nbconvert_exporter": "python",
   "pygments_lexer": "ipython3",
   "version": "3.10.6"
  },
  "orig_nbformat": 4,
  "vscode": {
   "interpreter": {
    "hash": "7d3e4eb6c4020fc3182485a5b9588accf4086547f60579d23983d2a06b0708b2"
   }
  }
 },
 "nbformat": 4,
 "nbformat_minor": 2
}
