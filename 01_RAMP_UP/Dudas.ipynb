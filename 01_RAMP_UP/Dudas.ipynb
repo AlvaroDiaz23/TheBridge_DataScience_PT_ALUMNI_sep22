{
 "cells": [
  {
   "cell_type": "markdown",
   "metadata": {},
   "source": [
    "# Manipulacion de ficheros"
   ]
  },
  {
   "cell_type": "markdown",
   "metadata": {},
   "source": [
    "## Lectura y escritura de ficheros\n"
   ]
  },
  {
   "cell_type": "code",
   "execution_count": 9,
   "metadata": {},
   "outputs": [],
   "source": [
    "import os\n",
    "\n",
    "# El primer metodo con OPEN\n",
    "\n",
    "# Abrimos el fichero\n",
    "out = open('test_file.txt','w')\n",
    "\n",
    "# Escribimos la palabra The bridge en este fichero\n",
    "out.write(\"Thebridge 2 \\n\")\n",
    "\n",
    "#Cerrar la conexion\n",
    "out.close()\n"
   ]
  },
  {
   "cell_type": "code",
   "execution_count": 5,
   "metadata": {},
   "outputs": [
    {
     "name": "stdout",
     "output_type": "stream",
     "text": [
      "I/O operation on closed file.\n"
     ]
    }
   ],
   "source": [
    "# El segundo metodo es con el WITH OPEN \n",
    "\n",
    "ruta_fichero = 'folder_ficheros/otro_test_file.txt'\n",
    "with open(ruta_fichero, 'w') as f: # output o f\n",
    "    f.write(\"otro texto\")\n",
    "\n",
    "    # En este caso no hay que cerrar como arriba.\n",
    "\n",
    "try:\n",
    "    f.write(\"otro texto alternatico\")\n",
    "except ValueError as e:\n",
    "    print(e)"
   ]
  },
  {
   "cell_type": "markdown",
   "metadata": {},
   "source": [
    "# Rutas o Path\n"
   ]
  },
  {
   "cell_type": "markdown",
   "metadata": {},
   "source": [
    "* `r`: read\n",
    "* `w`: write\n",
    "* `x`: creacion exclusiva\n",
    "* `a`: append\n",
    "* `b`: escribe en formato binario\n",
    "* `t`: modo texto, default\n",
    "* `+`: modo actualizacion (tanto la lectura `r+`que a escritura `w+`) "
   ]
  },
  {
   "cell_type": "code",
   "execution_count": 12,
   "metadata": {},
   "outputs": [],
   "source": [
    "file_path ='folder_ficheros/otro_test_file.txt'\n",
    "\n",
    "try:\n",
    "    with open(file_path, 'r') as inp:\n",
    "        pass\n",
    "except FileNotFoundError as e:\n",
    "    print(e)\n",
    "\n",
    "    # Error dos puede ser por no estar en la misma ruta, escribir mal el fichero o el krenel que se queda congelado y hay que hacer restart kernel"
   ]
  },
  {
   "cell_type": "code",
   "execution_count": 15,
   "metadata": {},
   "outputs": [],
   "source": [
    "# Intentar abrir el mismo fichero y escribimos\n",
    "\n",
    "with open(file_path,'w') as out:\n",
    "    out.write(\"Este fichero no existe \\n\") # Utilizamos \\n para nueva linea\n",
    "    out.write(\"Ahora tiene dos textos \\n\")"
   ]
  },
  {
   "cell_type": "code",
   "execution_count": 16,
   "metadata": {},
   "outputs": [
    {
     "name": "stdout",
     "output_type": "stream",
     "text": [
      "Este fichero no existe \n",
      "Ahora tiene dos textos \n",
      "\n"
     ]
    }
   ],
   "source": [
    "# Abrimos el fichero para leer las dos sentencias\n",
    "\n",
    "try:\n",
    "    with open(file_path,'r') as inp:\n",
    "        content = inp.read()\n",
    "        print(content)\n",
    "\n",
    "except FileNotFoundError as e:\n",
    "    print(e)"
   ]
  },
  {
   "cell_type": "code",
   "execution_count": 17,
   "metadata": {},
   "outputs": [
    {
     "data": {
      "text/plain": [
       "'Este fichero no existe \\nAhora tiene dos textos \\n'"
      ]
     },
     "execution_count": 17,
     "metadata": {},
     "output_type": "execute_result"
    }
   ],
   "source": [
    "content"
   ]
  },
  {
   "cell_type": "code",
   "execution_count": 19,
   "metadata": {},
   "outputs": [
    {
     "name": "stdout",
     "output_type": "stream",
     "text": [
      "Este fichero no existe \n",
      "Ahora tiene dos textos \n",
      "\n"
     ]
    }
   ],
   "source": [
    "print(content) # print anula el formato original es decir los espacion de new line \\n"
   ]
  },
  {
   "cell_type": "markdown",
   "metadata": {},
   "source": [
    "# Lectura de ficheros grandes"
   ]
  },
  {
   "cell_type": "code",
   "execution_count": 23,
   "metadata": {},
   "outputs": [
    {
     "name": "stdout",
     "output_type": "stream",
     "text": [
      "El tamaño del fichero es 250.087890625 en Kb\n"
     ]
    }
   ],
   "source": [
    "from sys import getsizeof\n",
    "\n",
    "path_big_file = 'folder_ficheros/somehow_big_file.txt'\n",
    "with open(path_big_file,'r') as f:\n",
    "    content = f.read()\n",
    "    size_in_bytes = getsizeof(content)\n",
    "\n",
    "    print(\"El tamaño del fichero es {} en Kb\".format(size_in_bytes/1024))\n"
   ]
  },
  {
   "cell_type": "code",
   "execution_count": 26,
   "metadata": {},
   "outputs": [
    {
     "name": "stdout",
     "output_type": "stream",
     "text": [
      "El tamaño de linea es 0.291015625 Kb\n",
      "El tamaño de linea es 0.1982421875 Kb\n",
      "El tamaño de linea es 0.1923828125 Kb\n",
      "El tamaño de linea es 0.3056640625 Kb\n",
      "El tamaño de linea es 0.240234375 Kb\n"
     ]
    }
   ],
   "source": [
    "#Si queremos leer el fichero lineapor linea\n",
    "\n",
    "with open(path_big_file, 'r') as f:\n",
    "    counter = 0\n",
    "    for line in f:\n",
    "        size_in_bytes = getsizeof(line)\n",
    "        print(\"El tamaño de linea es {} Kb\".format(size_in_bytes/1024))\n",
    "        counter +=1\n",
    "        if counter ==5:\n",
    "            break"
   ]
  },
  {
   "cell_type": "markdown",
   "metadata": {},
   "source": [
    "# Creacion de carpeta"
   ]
  },
  {
   "cell_type": "code",
   "execution_count": 27,
   "metadata": {},
   "outputs": [],
   "source": [
    "# Crear carpeta\n",
    "\n",
    "new_folder = 'folder_ficheros/otra_carpeta'\n",
    "os.mkdir(new_folder)"
   ]
  },
  {
   "cell_type": "code",
   "execution_count": 28,
   "metadata": {},
   "outputs": [],
   "source": [
    "os.mkdir('folder_ficheros/nueva_carpeta_secreta')"
   ]
  },
  {
   "cell_type": "code",
   "execution_count": 30,
   "metadata": {},
   "outputs": [],
   "source": [
    "# Creacion de carpetas multiples\n",
    "new_folders = 'folder_ficheros/sub1/sub2/sub3'\n",
    "os.makedirs(new_folders)"
   ]
  },
  {
   "cell_type": "markdown",
   "metadata": {},
   "source": [
    "# Borrar fucheros y carpetas\n"
   ]
  },
  {
   "cell_type": "code",
   "execution_count": 31,
   "metadata": {},
   "outputs": [],
   "source": [
    "# Borramos el fichero \n",
    "os.remove('folder_ficheros/otro_test_file.txt')"
   ]
  },
  {
   "cell_type": "code",
   "execution_count": 32,
   "metadata": {},
   "outputs": [],
   "source": [
    "# Borrar carpetas (para carpetas vacias) si usas __force es para borrar todo forzandolo\n",
    "empty_folder = 'folder_ficheros/nueva_carpeta_secreta/'\n",
    "os.rmdir(empty_folder)\n"
   ]
  },
  {
   "cell_type": "code",
   "execution_count": 33,
   "metadata": {},
   "outputs": [
    {
     "name": "stdout",
     "output_type": "stream",
     "text": [
      "[WinError 145] El directorio no está vacío: 'folder_ficheros'\n"
     ]
    }
   ],
   "source": [
    "# Intentamos borrar carpeta con ficheros\n",
    "try:\n",
    "    non_emppty_fold = 'folder_ficheros'\n",
    "    os.rmdir(non_emppty_fold)\n",
    "except OSError as e:\n",
    "    print(e)"
   ]
  },
  {
   "cell_type": "markdown",
   "metadata": {},
   "source": [
    "## Rename o renombrar ficheros"
   ]
  },
  {
   "cell_type": "code",
   "execution_count": 34,
   "metadata": {},
   "outputs": [],
   "source": [
    "# Renombrar ficheros original test_file\n",
    "prev_fichero = 'folder_ficheros/test_file.txt'\n",
    "new_ficher = 'folder_ficheros/new_text_file.txt'\n",
    "os.rename(prev_fichero, new_ficher)"
   ]
  },
  {
   "cell_type": "markdown",
   "metadata": {},
   "source": [
    "## Funciones auxiliares del comando `path`"
   ]
  },
  {
   "cell_type": "code",
   "execution_count": 35,
   "metadata": {},
   "outputs": [
    {
     "name": "stdout",
     "output_type": "stream",
     "text": [
      "\\home\\Users\\Public\\Documents\\\n"
     ]
    }
   ],
   "source": [
    "# unimos diferentes partes del path con el os.join\n",
    "\n",
    "# En windows\n",
    "path = \"\\home\"\n",
    "full_path = os.path.join(path, \"Users\\\\Public\\\\\", \"Documents\", \"\")\n",
    "print(full_path)"
   ]
  },
  {
   "cell_type": "code",
   "execution_count": 37,
   "metadata": {},
   "outputs": [
    {
     "data": {
      "text/plain": [
       "'\\\\home\\\\Users\\\\Public\\\\Documents'"
      ]
     },
     "execution_count": 37,
     "metadata": {},
     "output_type": "execute_result"
    }
   ],
   "source": [
    "# Obtener el nombre del directorio\n",
    "\n",
    "os.path.dirname(full_path)"
   ]
  },
  {
   "cell_type": "code",
   "execution_count": 38,
   "metadata": {},
   "outputs": [
    {
     "data": {
      "text/plain": [
       "''"
      ]
     },
     "execution_count": 38,
     "metadata": {},
     "output_type": "execute_result"
    }
   ],
   "source": [
    "#Obtenemos el nombre del fichero\n",
    "\n",
    "os.path.basename(full_path)\n"
   ]
  },
  {
   "cell_type": "code",
   "execution_count": 39,
   "metadata": {},
   "outputs": [
    {
     "data": {
      "text/plain": [
       "('\\\\home\\\\Users\\\\Public\\\\Documents\\\\', '')"
      ]
     },
     "execution_count": 39,
     "metadata": {},
     "output_type": "execute_result"
    }
   ],
   "source": [
    "# Para separar la extension del path\n",
    "os.path.splitext(full_path)"
   ]
  },
  {
   "cell_type": "code",
   "execution_count": 40,
   "metadata": {},
   "outputs": [
    {
     "name": "stdout",
     "output_type": "stream",
     "text": [
      "Ruta existe? \\home\\Users\\Public\\Documents\\\n"
     ]
    }
   ],
   "source": [
    "#Comando para conocer si es un fichero o una carpeta\n",
    "e = os.path.exists(full_path)\n",
    "print(\"Ruta existe? {}\".format(full_path, e))"
   ]
  },
  {
   "cell_type": "code",
   "execution_count": 45,
   "metadata": {},
   "outputs": [
    {
     "data": {
      "text/plain": [
       "True"
      ]
     },
     "execution_count": 45,
     "metadata": {},
     "output_type": "execute_result"
    }
   ],
   "source": [
    "os.path.exists('folder_ficheros')"
   ]
  },
  {
   "cell_type": "code",
   "execution_count": 46,
   "metadata": {},
   "outputs": [
    {
     "data": {
      "text/plain": [
       "True"
      ]
     },
     "execution_count": 46,
     "metadata": {},
     "output_type": "execute_result"
    }
   ],
   "source": [
    "directorio = 'folder_ficheros'\n",
    "os.path.isdir(directorio)"
   ]
  },
  {
   "cell_type": "code",
   "execution_count": 49,
   "metadata": {},
   "outputs": [
    {
     "name": "stdout",
     "output_type": "stream",
     "text": [
      "new_text_file.txt\n",
      "otra_carpeta\n",
      "sub1\n"
     ]
    }
   ],
   "source": [
    "# Realizamos las entradas de un directorio viendo que tenemos dentro de ese directorio nada más\n",
    "\n",
    "with os.scandir(directorio) as dir_list:\n",
    "    for entry in dir_list:\n",
    "        print(entry.name)"
   ]
  },
  {
   "cell_type": "code",
   "execution_count": 50,
   "metadata": {},
   "outputs": [
    {
     "name": "stdout",
     "output_type": "stream",
     "text": [
      "new_text_file.txt\n"
     ]
    }
   ],
   "source": [
    "# Mostramos todos los ficheros de la carpeta\n",
    "\n",
    "with os.scandir(directorio) as dir_list:\n",
    "    for entry in dir_list:\n",
    "        if os.path.isfile(entry.path):\n",
    "            print(entry.name)"
   ]
  },
  {
   "cell_type": "code",
   "execution_count": 51,
   "metadata": {},
   "outputs": [
    {
     "name": "stdout",
     "output_type": "stream",
     "text": [
      "new_text_file.txt\n"
     ]
    }
   ],
   "source": [
    "with os.scandir(directorio) as dir_list:\n",
    "    for entry in dir_list:\n",
    "        if entry.is_file() and entry.name.endswith(\".txt\"):\n",
    "            print(entry.name)"
   ]
  },
  {
   "cell_type": "code",
   "execution_count": 52,
   "metadata": {},
   "outputs": [
    {
     "data": {
      "text/plain": [
       "['requirements.txt']"
      ]
     },
     "execution_count": 52,
     "metadata": {},
     "output_type": "execute_result"
    }
   ],
   "source": [
    "# import glob\n",
    "import glob\n",
    "glob.glob('*.txt')"
   ]
  },
  {
   "cell_type": "code",
   "execution_count": 53,
   "metadata": {},
   "outputs": [
    {
     "data": {
      "text/plain": [
       "['folder_ficheros\\\\new_text_file.txt',\n",
       " 'folder_ficheros\\\\otra_carpeta',\n",
       " 'folder_ficheros\\\\sub1',\n",
       " 'week01\\\\fichero_markdown.md',\n",
       " 'week01\\\\git',\n",
       " 'week01\\\\notebook_prueba.ipynb',\n",
       " 'week01\\\\practices',\n",
       " 'week01\\\\prueba_fichero.py',\n",
       " 'week01\\\\prueba_fichero.txt',\n",
       " 'week01\\\\prueba_notebook.ipynb',\n",
       " 'week01\\\\python101',\n",
       " 'week01\\\\sol',\n",
       " 'week01\\\\w1d1.py',\n",
       " 'week02\\\\a_file.txt',\n",
       " 'week02\\\\labs',\n",
       " 'week02\\\\practices',\n",
       " 'week02\\\\python_02.ipynb',\n",
       " 'week02\\\\python_03.ipynb',\n",
       " 'week02\\\\python_04.ipynb',\n",
       " 'week02\\\\python_05.ipynb',\n",
       " 'week02\\\\script.py',\n",
       " 'week02\\\\utils.py',\n",
       " 'week02\\\\__pycache__']"
      ]
     },
     "execution_count": 53,
     "metadata": {},
     "output_type": "execute_result"
    }
   ],
   "source": [
    "glob.glob('**/*')"
   ]
  },
  {
   "cell_type": "code",
   "execution_count": 55,
   "metadata": {},
   "outputs": [
    {
     "data": {
      "text/plain": [
       "['conda_env.yml',\n",
       " 'Dudas.ipynb',\n",
       " 'folder_ficheros',\n",
       " 'requirements.txt',\n",
       " 'week01',\n",
       " 'week02']"
      ]
     },
     "execution_count": 55,
     "metadata": {},
     "output_type": "execute_result"
    }
   ],
   "source": [
    "glob.glob('*')"
   ]
  },
  {
   "cell_type": "code",
   "execution_count": 56,
   "metadata": {},
   "outputs": [
    {
     "data": {
      "text/plain": [
       "'c:\\\\Users\\\\Alvaro Díaz\\\\OneDrive\\\\Documentos\\\\THEBRIDGEBOOTCAMP\\\\TheBridge\\\\Praticas\\\\TheBridge_DataScience_PT_ALUMNI_sep22\\\\01_RAMP_UP'"
      ]
     },
     "execution_count": 56,
     "metadata": {},
     "output_type": "execute_result"
    }
   ],
   "source": [
    "os.getcwd()"
   ]
  },
  {
   "cell_type": "markdown",
   "metadata": {},
   "source": [
    "# Ficheros comprimidos"
   ]
  },
  {
   "cell_type": "code",
   "execution_count": 60,
   "metadata": {},
   "outputs": [],
   "source": [
    "import zipfile as zf \n",
    "zip_file = 'capeta_ficheros.zip'\n",
    "\n",
    "#with zf.ZipFile(zip_file, 'w', compression=zf.ZIP_DEFLATED) as zip_f:\n",
    "#    zip_f.write(<fichero_grande o cualquier fichero)"
   ]
  },
  {
   "cell_type": "code",
   "execution_count": 64,
   "metadata": {},
   "outputs": [
    {
     "ename": "FileNotFoundError",
     "evalue": "[Errno 2] No such file or directory: 'capeta_ficheros.zip'",
     "output_type": "error",
     "traceback": [
      "\u001b[1;31m---------------------------------------------------------------------------\u001b[0m",
      "\u001b[1;31mFileNotFoundError\u001b[0m                         Traceback (most recent call last)",
      "Cell \u001b[1;32mIn [64], line 2\u001b[0m\n\u001b[0;32m      1\u001b[0m \u001b[39m# Para leer un ficher ocomprimido\u001b[39;00m\n\u001b[1;32m----> 2\u001b[0m \u001b[39mwith\u001b[39;00m zf\u001b[39m.\u001b[39;49mZipFile(zip_file, \u001b[39m'\u001b[39;49m\u001b[39mr\u001b[39;49m\u001b[39m'\u001b[39;49m) \u001b[39mas\u001b[39;00m zip_f:\n\u001b[0;32m      3\u001b[0m     \u001b[39mprint\u001b[39m(zip_f\u001b[39m.\u001b[39mprintdir())\n\u001b[0;32m      5\u001b[0m     zip_f\u001b[39m.\u001b[39mextractall(\u001b[39m\"\u001b[39m\u001b[39mCarpeta_ficheros/NewYorkCity.png\u001b[39m\u001b[39m\"\u001b[39m)\n",
      "File \u001b[1;32mc:\\Users\\Alvaro Díaz\\.conda\\envs\\thebridge_enviroment\\lib\\zipfile.py:1249\u001b[0m, in \u001b[0;36mZipFile.__init__\u001b[1;34m(self, file, mode, compression, allowZip64, compresslevel, strict_timestamps)\u001b[0m\n\u001b[0;32m   1247\u001b[0m \u001b[39mwhile\u001b[39;00m \u001b[39mTrue\u001b[39;00m:\n\u001b[0;32m   1248\u001b[0m     \u001b[39mtry\u001b[39;00m:\n\u001b[1;32m-> 1249\u001b[0m         \u001b[39mself\u001b[39m\u001b[39m.\u001b[39mfp \u001b[39m=\u001b[39m io\u001b[39m.\u001b[39;49mopen(file, filemode)\n\u001b[0;32m   1250\u001b[0m     \u001b[39mexcept\u001b[39;00m \u001b[39mOSError\u001b[39;00m:\n\u001b[0;32m   1251\u001b[0m         \u001b[39mif\u001b[39;00m filemode \u001b[39min\u001b[39;00m modeDict:\n",
      "\u001b[1;31mFileNotFoundError\u001b[0m: [Errno 2] No such file or directory: 'capeta_ficheros.zip'"
     ]
    }
   ],
   "source": [
    "# Para leer un ficher ocomprimido\n",
    "with zf.ZipFile(zip_file, 'r') as zip_f:\n",
    "    print(zip_f.printdir())\n",
    "\n",
    "    zip_f.extractall(\"Carpeta_ficheros/NewYorkCity.png\")"
   ]
  }
 ],
 "metadata": {
  "kernelspec": {
   "display_name": "Python 3.10.6 ('thebridge_enviroment')",
   "language": "python",
   "name": "python3"
  },
  "language_info": {
   "codemirror_mode": {
    "name": "ipython",
    "version": 3
   },
   "file_extension": ".py",
   "mimetype": "text/x-python",
   "name": "python",
   "nbconvert_exporter": "python",
   "pygments_lexer": "ipython3",
   "version": "3.10.6"
  },
  "orig_nbformat": 4,
  "vscode": {
   "interpreter": {
    "hash": "7d3e4eb6c4020fc3182485a5b9588accf4086547f60579d23983d2a06b0708b2"
   }
  }
 },
 "nbformat": 4,
 "nbformat_minor": 2
}
