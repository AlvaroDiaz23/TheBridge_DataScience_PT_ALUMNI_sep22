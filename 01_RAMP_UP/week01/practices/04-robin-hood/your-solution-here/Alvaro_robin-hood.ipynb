{
 "cells": [
  {
   "cell_type": "markdown",
   "metadata": {},
   "source": [
    "# Robin Hood: \n",
    "Estamos en plena competición para ganar el concurso de tiro con arco en Sherwood. Con nuestro arco y flechas disparamos sobre una diana e intentamos acertar lo más cerca posible del centro. \n",
    "\n",
    "El centro de la diana viene representado por los valores (0, 0) en los ejes de coordenadas. \n",
    "\n",
    "## Objetivos: \n",
    "* estructuras de datos: listas, conjuntos, tuplas\n",
    "* operadores lógicos: if-elif-else\n",
    "* bucle: while/for\n",
    "* cálculo de mínimo (sorting opcional)\n",
    "\n",
    "## Descripción: \n",
    "En el espacio de 2 dimensiones un punto se puede definir por un par de valores que corresponden a la coordenada horizontal (x) y a la vertical (y). El espacio puede quedar dividido en 4 zonas (cuadrantes): Q1, Q2, Q3, Q4. Cuyo punto de unión único es el punto (0, 0). \n",
    "\n",
    "Si un punto se encuentra en Q1 tanto su coordenada x como la y son positivas. Te dejo un enlace a wikipedia para que te familiarices con estos cuadrantes. \n",
    "\n",
    "https://es.wikipedia.org/wiki/Coordenadas_cartesianas\n",
    "\n",
    "https://es.wikipedia.org/wiki/Distancia_euclidiana\n",
    "\n",
    "## Tareas\n",
    "1. Robin Hood es famoso por acertar a una flecha con otra flecha. ¿Lo ha conseguido? \n",
    "2. Calcula cuántos flechazos han caido en cada cuadrante. \n",
    "3. Halla el punto más cercano al centro. Calcula su distancia al centro\n",
    "4. Si la diana tiene un radio de 9, calcula el número de flechas que hay que recoger al bosque. "
   ]
  },
  {
   "cell_type": "code",
   "execution_count": 2,
   "metadata": {},
   "outputs": [],
   "source": [
    "puntos = [(4,5), (-0,2), (4,7), (1,-3), (3,-2), (4,5), \n",
    "          (3,2), (5,7), (-5,7), (2,2), (-4,5), (0,-2), \n",
    "          (-4,7), (-1,3), (-3,2), (-4,-5), (-3,2), \n",
    "          (5,7), (5,7), (2,2), (9, 9), (-8, -9)]\n"
   ]
  },
  {
   "cell_type": "code",
   "execution_count": 3,
   "metadata": {},
   "outputs": [
    {
     "name": "stdout",
     "output_type": "stream",
     "text": [
      "22\n",
      "17\n"
     ]
    }
   ],
   "source": [
    "# 1. Robin Hood es famoso por acertar a una flecha con otra flecha. ¿Lo ha conseguido? \n",
    "\n",
    "# La manera más sencilla de resolver este problema es entender el concepto de Conjunto:\n",
    "# Un conjunto es una lista en la que todos los elementos aparecen una única vez\n",
    "# Por tanto, si Robin hubiera tocado algún punto en más de una ocasión, la cantidad de elementos en el conjunto seria menor \n",
    "# en la lista. Vamos a comprobar si esto pasa:\n",
    "\n",
    "print(len(puntos))\n",
    "\n",
    "conjunto = set(puntos) #con esto generamos el conjunto\n",
    "print(len(conjunto))\n",
    "\n",
    "#Como el nº de elementos en el conjunto es menor, podemos concluir que sí lo ha conseguido, de hecho varias veces (la diferencia de elementos)\n"
   ]
  },
  {
   "cell_type": "code",
   "execution_count": 6,
   "metadata": {
    "scrolled": true
   },
   "outputs": [
    {
     "name": "stdout",
     "output_type": "stream",
     "text": [
      "La cantidad de elementos en el primer cuadrante es de  10\n",
      "La cantidad de elementos en el segundo cuadrante es de  6\n",
      "La cantidad de elementos en el tercer cuadrante es de  2\n",
      "La cantidad de elementos en el cuarto cuadrante es de  2\n"
     ]
    }
   ],
   "source": [
    "# 2. Calcula cuántos flechazos han caido en cada cuadrante. \n",
    "\n",
    "# para esto, tendremos que recorrer la lista y contar elementos\n",
    "#Con ifs, iremos viendo el cuadrante en que se encuentra cada punto, en función de su signo.\n",
    "#Los puntos que se encuentren en los ejes cartesianos no se considerarán en ninguno de los cuadrantes, por lo que irán a la lista\n",
    "# de margenes.\n",
    "Q1 = []\n",
    "Q2 = []\n",
    "Q3 = []\n",
    "Q4 = []\n",
    "margenes = []\n",
    "\n",
    "for i in puntos:\n",
    "    if i[0]>0:\n",
    "        if i[1]>0:\n",
    "            Q1.append(i)\n",
    "        elif i[1]<0:\n",
    "            Q4.append(i)\n",
    "    elif i[0]<0:\n",
    "        if i[1]>0:\n",
    "            Q2.append(i)\n",
    "        elif i[1]<0:\n",
    "            Q3.append(i)\n",
    "    else:\n",
    "        margenes.append(i)\n",
    "\n",
    "#Solo nos queda printear el nº de elementos en cada lista:\n",
    "print('La cantidad de elementos en el primer cuadrante es de ',len(Q1))\n",
    "print('La cantidad de elementos en el segundo cuadrante es de ',len(Q2))\n",
    "print('La cantidad de elementos en el tercer cuadrante es de ',len(Q3))\n",
    "print('La cantidad de elementos en el cuarto cuadrante es de ',len(Q4))"
   ]
  },
  {
   "cell_type": "code",
   "execution_count": 19,
   "metadata": {
    "scrolled": true
   },
   "outputs": [
    {
     "name": "stdout",
     "output_type": "stream",
     "text": [
      "el punto más cercano actualmente es:  (4, 5)\n",
      "el punto más cercano actualmente es:  (0, 2)\n",
      "el punto más cercano sigue siendo el anterior\n",
      "el punto más cercano sigue siendo el anterior\n",
      "el punto más cercano sigue siendo el anterior\n",
      "el punto más cercano sigue siendo el anterior\n",
      "el punto más cercano sigue siendo el anterior\n",
      "el punto más cercano sigue siendo el anterior\n",
      "el punto más cercano sigue siendo el anterior\n",
      "el punto más cercano sigue siendo el anterior\n",
      "el punto más cercano sigue siendo el anterior\n",
      "el punto más cercano actualmente es:  (0, -2)\n",
      "el punto más cercano sigue siendo el anterior\n",
      "el punto más cercano sigue siendo el anterior\n",
      "el punto más cercano sigue siendo el anterior\n",
      "el punto más cercano sigue siendo el anterior\n",
      "el punto más cercano sigue siendo el anterior\n",
      "el punto más cercano sigue siendo el anterior\n",
      "el punto más cercano sigue siendo el anterior\n",
      "el punto más cercano sigue siendo el anterior\n",
      "el punto más cercano sigue siendo el anterior\n",
      "el punto más cercano sigue siendo el anterior\n",
      "La distancia minima es  2.0\n"
     ]
    }
   ],
   "source": [
    "# 3. Halla el punto más cercano al centro. Calcula su distancia al centro\n",
    "\n",
    "# Definir una función que calcula la distancia al centro puede servir de ayuda. \n",
    "\n",
    "import numpy as np #para la raiz\n",
    "def funcion_centro(punto):\n",
    "    dist = np.sqrt(np.sum(np.square(punto)))\n",
    "    return dist\n",
    "\n",
    "distancias = []\n",
    "for i in puntos:\n",
    "    dist = funcion_centro(i)\n",
    "    distancias.append(dist)\n",
    "    if dist == min(distancias):\n",
    "        print('el punto más cercano actualmente es: ',i)\n",
    "    else:\n",
    "        print('el punto más cercano sigue siendo el anterior')\n",
    "\n",
    "#La distancia minima:\n",
    "print('La distancia minima es ',min(distancias))\n",
    "    "
   ]
  },
  {
   "cell_type": "code",
   "execution_count": 17,
   "metadata": {},
   "outputs": [
    {
     "name": "stdout",
     "output_type": "stream",
     "text": [
      "Habra que recoger  2  flechas\n"
     ]
    }
   ],
   "source": [
    "# 4. Si la diana tiene un radio de 9, calcula el número de flechas que hay que recoger al bosque. \n",
    "\n",
    "# Si el radio es de 9, quiere decir que cualquier flecha con una distancia al centro mayor\n",
    "# de 9, no habrá impactado en la diana, por lo que habrá que recogerla. Por ello, contamos \n",
    "# cuantos elementos de la lista que hemos generado hay mayores que 9\n",
    "contador = 0\n",
    "for i in distancias: \n",
    "    if i>9:\n",
    "        contador+=1\n",
    "print('Habra que recoger ', contador, ' flechas')"
   ]
  },
  {
   "cell_type": "code",
   "execution_count": null,
   "metadata": {},
   "outputs": [],
   "source": []
  }
 ],
 "metadata": {
  "kernelspec": {
   "display_name": "Python 3",
   "language": "python",
   "name": "python3"
  },
  "language_info": {
   "codemirror_mode": {
    "name": "ipython",
    "version": 3
   },
   "file_extension": ".py",
   "mimetype": "text/x-python",
   "name": "python",
   "nbconvert_exporter": "python",
   "pygments_lexer": "ipython3",
   "version": "3.7.4"
  }
 },
 "nbformat": 4,
 "nbformat_minor": 2
}
