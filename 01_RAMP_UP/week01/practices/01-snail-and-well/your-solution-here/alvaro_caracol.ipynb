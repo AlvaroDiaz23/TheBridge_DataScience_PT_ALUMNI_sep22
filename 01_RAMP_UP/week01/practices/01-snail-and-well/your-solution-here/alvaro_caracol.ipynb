{
 "cells": [
  {
   "cell_type": "markdown",
   "metadata": {},
   "source": [
    "# 01 - Caracol y el pozo\n",
    "\n",
    "Un caracol cae en el fondo de un pozo de 125 cm. Cada día el caracol sube 30 cm. pero por la noche, mientras duerme, resbala 20 cm debido a que las paredes son húmedas. ¿Cuantos días tarda en escapar del pozo?\n",
    "\n",
    "TIP: https://www.vix.com/es/btg/curiosidades/59215/acertijos-matematicos-el-caracol-en-el-pozo-facil\n",
    "\n",
    "TIP: http://puzzles.nigelcoldwell.co.uk/sixtytwo.htm"
   ]
  },
  {
   "cell_type": "markdown",
   "metadata": {},
   "source": [
    "## Solución"
   ]
  },
  {
   "cell_type": "code",
   "execution_count": 1,
   "metadata": {},
   "outputs": [],
   "source": [
    "# Asigna los datos del problema a variables con nombres representativos\n",
    "# altura del pozo, avance diario, retroceso\n",
    "contador_dias=1\n",
    "altura_restante=125 \n",
    "avance_diario=30\n",
    "retroceso_nocturno=20 \n",
    "# Asigna 0 a la variable que representa la solución\n",
    "\n",
    "# Escribe el código que soluciona el problema\n",
    "contador_dias=1\n",
    "altura_restante=125 \n",
    "avance_diario=30\n",
    "retroceso_nocturno=20 \n",
    "while altura_restante>0:\n",
    "    altura_restante=altura_restante-avance_diario+retroceso_nocturno\n",
    "    if altura_restante>0:\n",
    "        contador_dias +=1\n",
    "    else:\n",
    "        print(\"el numero de días es\", contador_dias)\n",
    "\n",
    "# Imprime el resultado con print('Dias =', dias)\n",
    "\n"
   ]
  },
  {
   "cell_type": "code",
   "execution_count": 1,
   "metadata": {},
   "outputs": [
    {
     "name": "stdout",
     "output_type": "stream",
     "text": [
      "el numero de días es 13\n"
     ]
    }
   ],
   "source": [
    "### Solucion del ejercico\n",
    "contador_dias=1\n",
    "altura_restante=125 \n",
    "avance_diario=30\n",
    "retroceso_nocturno=20 \n",
    "while altura_restante>0:\n",
    "    altura_restante=altura_restante-avance_diario+retroceso_nocturno\n",
    "    if altura_restante>0:\n",
    "        contador_dias +=1\n",
    "    else:\n",
    "        print(\"el numero de días es\", contador_dias)"
   ]
  },
  {
   "cell_type": "markdown",
   "metadata": {},
   "source": [
    "## Objetivos\n",
    "\n",
    "1. Tratamiento de variables\n",
    "2. Uso de bucle **while**\n",
    "3. Uso de condicionales **if-else**\n",
    "4. Imprimir por consola"
   ]
  },
  {
   "cell_type": "markdown",
   "metadata": {},
   "source": [
    "## Bonus\n",
    "La distancia recorrida por el caracol viene ahora definida por una lista. \n",
    "```\n",
    "avance_cm = [30, 21, 33, 77, 44, 45, 23, 45, 12, 34, 55]\n",
    "```\n",
    "¿Cuánto tarda en subir el pozo?\n",
    "¿Cuál es su máximo de desplazamiento en un día? ¿Y su mínimo?\n",
    "¿Cuál es su media de velocidad durante el día?\n",
    "¿Cuál es la desviación típica de su desplazamiento durante el día?"
   ]
  },
  {
   "cell_type": "code",
   "execution_count": 2,
   "metadata": {},
   "outputs": [],
   "source": [
    "# Asigna los datos del problema a variables con nombres representativos\n",
    "# altura del pozo, avance diario, retroceso nocturno, distancia acumulada\n",
    "\n",
    "\n",
    "# Asigna 0 a la variable que representa la solución\n",
    "\n",
    "\n",
    "# Escribe el código que soluciona el problema\n",
    "\n",
    "\n",
    "# Imprime el resultado con print('Dias =', dias)\n",
    "\n",
    "\n",
    "# ¿Cuál es su máximo de desplazamiento en un día? ¿Y su mínimo?\n",
    "\n",
    "\n",
    "# ¿Cuál es su media de avance?\n",
    "\n",
    "\n",
    "# ¿Cuál es la desviación típica de su desplazamiento durante el día?\n",
    "\n"
   ]
  }
 ],
 "metadata": {
  "kernelspec": {
   "display_name": "Python 3.10.6 ('thebridge_enviroment')",
   "language": "python",
   "name": "python3"
  },
  "language_info": {
   "codemirror_mode": {
    "name": "ipython",
    "version": 3
   },
   "file_extension": ".py",
   "mimetype": "text/x-python",
   "name": "python",
   "nbconvert_exporter": "python",
   "pygments_lexer": "ipython3",
   "version": "3.10.6"
  },
  "vscode": {
   "interpreter": {
    "hash": "7d3e4eb6c4020fc3182485a5b9588accf4086547f60579d23983d2a06b0708b2"
   }
  }
 },
 "nbformat": 4,
 "nbformat_minor": 4
}
